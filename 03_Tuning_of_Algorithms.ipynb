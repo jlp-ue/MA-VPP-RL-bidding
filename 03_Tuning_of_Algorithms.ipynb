{
 "cells": [
  {
   "cell_type": "markdown",
   "id": "23e323e6-755a-4476-a70f-88b07c86dd07",
   "metadata": {},
   "source": [
    "# Tuning of all Algorithms"
   ]
  },
  {
   "cell_type": "code",
   "execution_count": 1,
   "id": "03607031-f4e8-46d0-928c-39b1a1cff8bd",
   "metadata": {
    "tags": []
   },
   "outputs": [],
   "source": [
    "import os\n",
    "\n",
    "import optuna\n",
    "from optuna.pruners import MedianPruner\n",
    "from optuna.samplers import TPESampler\n",
    "\n",
    "from stable_baselines3 import TD3\n",
    "from stable_baselines3 import A2C\n",
    "from stable_baselines3 import SAC\n",
    "from stable_baselines3 import DDPG\n",
    "from stable_baselines3 import PPO\n",
    "from sb3_contrib import TQC\n",
    "from sb3_contrib import TRPO\n",
    "from sb3_contrib import RecurrentPPO\n",
    "from sb3_contrib import ARS\n",
    "\n",
    "from stable_baselines3.common.noise import NormalActionNoise,OrnsteinUhlenbeckActionNoise\n",
    "from stable_baselines3.common.monitor import Monitor\n",
    "from gym.wrappers import RecordEpisodeStatistics\n",
    "from wandb.integration.sb3 import WandbCallback\n",
    "from gym.envs.registration import register\n",
    "from stable_baselines3.common.env_checker import check_env\n",
    "\n",
    "import torch.nn as nn\n",
    "import torch\n",
    "import subprocess\n",
    "from rl_zoo3 import linear_schedule\n",
    "\n",
    "import numpy as np\n",
    "import wandb\n",
    "\n",
    "from gym import make\n",
    "\n",
    "import warnings\n",
    "from pandas.core.common import SettingWithCopyWarning\n",
    "warnings.simplefilter(action=\"ignore\", category=SettingWithCopyWarning)\n",
    "\n",
    "from vpp_gym.vpp_gym.utils.register_env import register_env"
   ]
  },
  {
   "cell_type": "markdown",
   "id": "4176018c-9ba2-455b-8880-9040093b990e",
   "metadata": {},
   "source": [
    "## Seed Env"
   ]
  },
  {
   "cell_type": "code",
   "execution_count": 2,
   "id": "93f7f7a5-18f1-4df6-af87-431f180697ab",
   "metadata": {},
   "outputs": [],
   "source": [
    "SEED = 44\n",
    "\n",
    "torch.manual_seed(SEED)\n",
    "torch.cuda.manual_seed(SEED)\n",
    "torch.backends.cudnn.deterministic = True"
   ]
  },
  {
   "cell_type": "markdown",
   "id": "930ba063-764f-4d1d-a340-2ad6d1d85a89",
   "metadata": {},
   "source": [
    "## Register the Environment "
   ]
  },
  {
   "cell_type": "code",
   "execution_count": 3,
   "id": "5c07d26c-fe13-450b-8c14-3e9382f969f5",
   "metadata": {
    "tags": []
   },
   "outputs": [],
   "source": [
    "CONFIG_NAME = \"vpp_config_1_tuning.json\"\n",
    "\n",
    "register_env(config=CONFIG_NAME, seed=SEED)"
   ]
  },
  {
   "cell_type": "markdown",
   "id": "1a018703-2b98-4312-a007-dabf896f8556",
   "metadata": {},
   "source": [
    "## Test the environment"
   ]
  },
  {
   "cell_type": "code",
   "execution_count": 4,
   "id": "0e734a41-5452-4654-ac11-a2737749eff6",
   "metadata": {
    "tags": []
   },
   "outputs": [
    {
     "name": "stderr",
     "output_type": "stream",
     "text": [
      "log_step: initial // slot: initial  log level = warning\n",
      "log_step: 0 slot: None logging_step: 0\n"
     ]
    }
   ],
   "source": [
    "# It will check your custom environment and output additional warnings if needed\n",
    "env_to_check = make('VPPBiddingEnv-TEST-v1', render_mode=None)\n",
    "check_env(env_to_check)\n",
    "env_to_check.close()"
   ]
  },
  {
   "cell_type": "markdown",
   "id": "9b272c9e-93ab-45a7-b31c-d4ba47539849",
   "metadata": {},
   "source": [
    "## Offline Training and later sync logs"
   ]
  },
  {
   "cell_type": "code",
   "execution_count": 5,
   "id": "e6c53c9a-c971-4545-887b-c6197dc93182",
   "metadata": {},
   "outputs": [],
   "source": [
    "os.environ[\"WANDB_API_KEY\"] = \"***\"\n",
    "os.environ[\"WANDB_MODE\"] = \"offline\"\n"
   ]
  },
  {
   "cell_type": "markdown",
   "id": "893eb40b-3616-49c7-b0e6-661297ace9f2",
   "metadata": {},
   "source": [
    "## Define Hyperparameters"
   ]
  },
  {
   "cell_type": "code",
   "execution_count": 6,
   "id": "cdd76255-8847-4cf7-bce4-b0cc7556088a",
   "metadata": {},
   "outputs": [],
   "source": [
    "def optimize_agent(trial):\n",
    "    \"\"\" Train the model and optimize\n",
    "        Optuna maximises the negative log likelihood, so we\n",
    "        need to negate the reward here\n",
    "    \"\"\"\n",
    "    \n",
    "    algo = study.user_attrs[\"algo\"]\n",
    "    nan_encountered = False\n",
    "    try: \n",
    "\n",
    "        model_params = HYPERPARAMS_SAMPLER[algo](trial)\n",
    "        \n",
    "        config = dict(trial.params)\n",
    "        config[\"trial.number\"] = trial.number\n",
    "        wandb.init(\n",
    "            project=\"RL-optuna\",\n",
    "            entity=\"jlu237\", \n",
    "            sync_tensorboard=True,\n",
    "            config=config,\n",
    "            tags=[algo] + EXPERIMENT_TAGS,\n",
    "            reinit=True\n",
    "        )\n",
    "\n",
    "        env = make('VPPBiddingEnv-TUNING-v1')\n",
    "        env = Monitor(env) \n",
    "        env = RecordEpisodeStatistics(env) # record stats such as returns\n",
    "\n",
    "        if algo == \"R_PPO\": \n",
    "            model = ALGOS[algo]('MultiInputLstmPolicy', env, verbose=0, seed = 1, **model_params)\n",
    "        else:\n",
    "            model = ALGOS[algo]('MultiInputPolicy', env, verbose=0,  seed = 1, **model_params)\n",
    "            \n",
    "        print(model_params)\n",
    "    \n",
    "        # -------------- TRAINING -----------------\n",
    "        model.learn(total_timesteps=EXPERIMENT_TIMESTEPS,\n",
    "                    log_interval=1,\n",
    "                    progress_bar = True,\n",
    "                    callback=WandbCallback(\n",
    "                        gradient_save_freq=1,\n",
    "                        verbose=0))\n",
    "        \n",
    "        # -------------- EVALUATION -----------------\n",
    "        eval_env = make('VPPBiddingEnv-TUNING-EVAL-v1')\n",
    "        eval_env = RecordEpisodeStatistics(eval_env) # record stats such as returns\n",
    "        episodes = 70\n",
    "        for i_episode in range(episodes):\n",
    "            observation = eval_env.reset()\n",
    "            if algo == \"R_PPO\":\n",
    "                lstm_states = None\n",
    "                num_envs = 1\n",
    "                # Episode start signals are used to reset the lstm states\n",
    "                episode_starts = np.ones((num_envs,), dtype=bool)\n",
    "                for t in range(1):\n",
    "                    action, lstm_states = model.predict(observation, state=lstm_states, episode_start=episode_starts, deterministic=True)\n",
    "                    observation, reward, dones, info = eval_env.step(action)\n",
    "                    episode_starts = dones\n",
    "            else: \n",
    "                for t in range(1):\n",
    "                    action, _states = model.predict(observation, deterministic = True)\n",
    "                    observation, reward, done, info = eval_env.step(action)\n",
    "                        \n",
    "        total_reward_test = info[\"total_reward\"]\n",
    "        total_profit_test = info[\"total_profit\"]\n",
    "\n",
    "        print(\"Total Reward on Test Set: \" + str(total_reward_test))\n",
    "        print(\"Total Profit on Test Set: \" + str(total_profit_test))\n",
    "\n",
    "        wandb.log({\"total_reward_test\": total_reward_test, \n",
    "                   \"total_profit_test\": total_profit_test, \n",
    "                })\n",
    "        \n",
    "        wandb.finish()\n",
    "        eval_env.close()\n",
    "\n",
    "        return_code = subprocess.run(\"wandb sync wandb/latest-run\", shell=True)\n",
    "        \n",
    "    except (AssertionError, ValueError) as e:\n",
    "        # Sometimes, random hyperparams can generate NaN\n",
    "        print(e)\n",
    "        nan_encountered = True\n",
    "        \n",
    "    finally:        \n",
    "        # Free memory\n",
    "        env.close()\n",
    "        \n",
    "    if nan_encountered: \n",
    "        return float(\"nan\")\n",
    "\n",
    "    return total_reward_test"
   ]
  },
  {
   "cell_type": "markdown",
   "id": "aa370148-126b-499c-9ec4-ac20b7b4bda9",
   "metadata": {},
   "source": [
    "### A2C "
   ]
  },
  {
   "cell_type": "code",
   "execution_count": 7,
   "id": "31eb215d-d102-4efc-a74a-3c727649b843",
   "metadata": {
    "tags": []
   },
   "outputs": [],
   "source": [
    "def sample_a2c_params(trial: optuna.Trial):\n",
    "    \"\"\"\n",
    "    Sampler for a2c hyperparams.\n",
    "    :param trial:\n",
    "    :return:\n",
    "    \"\"\"\n",
    "        \n",
    "    n_steps_list = []\n",
    "    n_step = round(EXPERIMENT_TIMESTEPS/3)\n",
    "\n",
    "    while n_step > 1:\n",
    "        n_steps_list.append(n_step)\n",
    "        n_step = round(n_step/3)\n",
    "    \n",
    "    gamma = trial.suggest_categorical(\"gamma\", [0.9, 0.95, 0.98, 0.99, 0.995, 0.999, 0.9999])\n",
    "    normalize_advantage = trial.suggest_categorical(\"normalize_advantage\", [False, True])\n",
    "    max_grad_norm = trial.suggest_categorical(\"max_grad_norm\", [0.3, 0.5, 0.6, 0.7, 0.8, 0.9, 1, 2, 3, 4, 5])\n",
    "    use_rms_prop = trial.suggest_categorical(\"use_rms_prop\", [False, True])\n",
    "    gae_lambda = trial.suggest_categorical(\"gae_lambda\", [0.7, 0.8, 0.9, 0.92, 0.95, 0.98, 0.99, 1.0])\n",
    "    #n_steps = trial.suggest_categorical(\"n_steps\", n_steps_list)\n",
    "    n_steps = trial.suggest_categorical(\"n_steps\", [2,3,4,5,6,7,8,9,10])\n",
    "    learning_rate = trial.suggest_loguniform(\"learning_rate\", 1e-5, 1)\n",
    "    ent_coef = trial.suggest_categorical('ent_coef', [0.1, 0.05, 0.025, 0.01, 0.001, 0.0001,  0.00000001])\n",
    "    vf_coef = trial.suggest_uniform(\"vf_coef\", 0.3, 1)\n",
    "    \n",
    "    # ------- policy_kwargs --------\n",
    "    lr_schedule = trial.suggest_categorical(\"lr_schedule\", [\"linear\", \"constant\"])\n",
    "    use_sde = trial.suggest_categorical(\"use_sde\", [False, True])\n",
    "    if MULTI_DISCRETE_ACTION: \n",
    "        use_sde = False\n",
    "    if use_sde is True:\n",
    "        sde_sample_freq = trial.suggest_categorical(\"sde_sample_freq\", [-1, 0, 1, 2, 3])\n",
    "        log_std_init = trial.suggest_uniform(\"log_std_init\", -4, 1)\n",
    "    sde_net_arch = trial.suggest_categorical(\"sde_net_arch\", [None, \"tiny\", \"small\"])\n",
    "    full_std = trial.suggest_categorical(\"full_std\", [False, True])\n",
    "    activation_fn = trial.suggest_categorical('activation_fn', ['tanh', 'relu', 'elu', 'leaky_relu'])\n",
    "    ortho_init = trial.suggest_categorical(\"ortho_init\", [False, True])\n",
    "\n",
    "    net_arch = trial.suggest_categorical(\"net_arch\", [\"small\", \"medium\", \"big\"])\n",
    "    # ------- policy_kwargs --------\n",
    "\n",
    "    \n",
    "    if lr_schedule == \"linear\":\n",
    "        learning_rate = linear_schedule(learning_rate)\n",
    "\n",
    "    net_arch = {\n",
    "        \"small\": [dict(pi=[64, 64], vf=[64, 64])],\n",
    "        \"medium\": [dict(pi=[256, 256], vf=[256, 256])],\n",
    "        \"big\": [dict(pi=[400, 400], vf=[400, 400])],\n",
    "    }[net_arch]\n",
    "    \n",
    "    sde_net_arch = {\n",
    "         None: None,\n",
    "         \"tiny\": [64],\n",
    "         \"small\": [64, 64],\n",
    "    }[sde_net_arch]\n",
    "\n",
    "    activation_fn = {\"tanh\": nn.Tanh, \"relu\": nn.ReLU, \"elu\": nn.ELU, \"leaky_relu\": nn.LeakyReLU}[activation_fn]\n",
    "    \n",
    "    hyperparams = {\n",
    "        \"n_steps\": n_steps,\n",
    "        \"gamma\": gamma,\n",
    "        \"gae_lambda\": gae_lambda,\n",
    "        \"learning_rate\": learning_rate,\n",
    "        \"ent_coef\": ent_coef,\n",
    "        \"normalize_advantage\": normalize_advantage,\n",
    "        \"max_grad_norm\": max_grad_norm,\n",
    "        \"use_rms_prop\": use_rms_prop,\n",
    "        \"use_sde\": use_sde,\n",
    "        \"vf_coef\": vf_coef,\n",
    "        \"policy_kwargs\": dict(\n",
    "            net_arch=net_arch,\n",
    "            full_std=full_std,\n",
    "            activation_fn=activation_fn,\n",
    "            sde_net_arch=sde_net_arch,\n",
    "            ortho_init=ortho_init,\n",
    "        ),\n",
    "    }\n",
    "        \n",
    "    if use_sde is True:\n",
    "        hyperparams[\"sde_sample_freq\"] = sde_sample_freq\n",
    "        hyperparams[\"policy_kwargs\"][\"log_std_init\"] = log_std_init\n",
    " \n",
    "    return hyperparams"
   ]
  },
  {
   "cell_type": "markdown",
   "id": "805a41d5-ecd4-4cef-827e-97d9f2dd071a",
   "metadata": {
    "tags": []
   },
   "source": [
    "### TD3"
   ]
  },
  {
   "cell_type": "code",
   "execution_count": 8,
   "id": "e6effaa8-4364-4935-b8df-65e559f918b5",
   "metadata": {
    "tags": []
   },
   "outputs": [],
   "source": [
    "def sample_td3_params(trial: optuna.Trial):\n",
    "    \"\"\"\n",
    "    Sampler for TD3 hyperparams.\n",
    "    :param trial:\n",
    "    :return:\n",
    "    \"\"\"\n",
    "    \n",
    "    learning_rate = trial.suggest_loguniform(\"learning_rate\", 1e-5, 1)\n",
    "    batch_size = trial.suggest_categorical(\"batch_size\", [16, 32, 64, 100, 128, 200])\n",
    "    buffer_size = trial.suggest_categorical(\"buffer_size\", [int(1e4), int(1e5), int(1e6)])\n",
    "    tau = trial.suggest_categorical(\"tau\", [0.001, 0.005, 0.01, 0.02, 0.05, 0.08])\n",
    "    gamma = trial.suggest_categorical(\"gamma\", [0.9, 0.95, 0.98, 0.99, 0.995, 0.999, 0.9999])\n",
    "\n",
    "    train_freq = trial.suggest_categorical(\"train_freq\", [1, 2, 8, 32])\n",
    "    #gradient_steps = train_freq \n",
    "    gradient_steps = trial.suggest_categorical(\"gradient_steps\", [-1, 1, 2, 8, 32])\n",
    "    learning_starts = trial.suggest_categorical('learning_starts', [0, 1, 10, 20, 100, 200]) \n",
    "    noise_type = trial.suggest_categorical(\"noise_type\", [\"ornstein-uhlenbeck\", \"normal\", None])\n",
    "    noise_std = trial.suggest_uniform(\"noise_std\", 0, 1)\n",
    "    \n",
    "    policy_delay = trial.suggest_categorical(\"policy_delay\", [ 1, 2, 5])\n",
    "    target_policy_noise = trial.suggest_categorical(\"target_policy_noise\", [0.1, 0.2, 0.3])\n",
    "\n",
    "    net_arch = trial.suggest_categorical(\"net_arch\", [\"small\", \"medium\", \"big\"])\n",
    "    activation_fn = trial.suggest_categorical('activation_fn', ['tanh', 'relu', 'elu', 'leaky_relu'])\n",
    "    \n",
    "    net_arch = {\n",
    "        \"small\": [64, 64],\n",
    "        \"medium\": [256, 256],\n",
    "        \"big\": [400, 300]\n",
    "    }[net_arch]\n",
    "\n",
    "    activation_fn = {\"tanh\": nn.Tanh, \"relu\": nn.ReLU, \"elu\": nn.ELU, \"leaky_relu\": nn.LeakyReLU}[activation_fn]\n",
    "\n",
    "    hyperparams = {\n",
    "        \"learning_rate\": learning_rate,\n",
    "        \"batch_size\": batch_size,\n",
    "        \"buffer_size\": buffer_size,\n",
    "        \"tau\": tau,\n",
    "        \"gamma\": gamma,\n",
    "        \"train_freq\": train_freq,\n",
    "        \"gradient_steps\": gradient_steps,\n",
    "        \"learning_starts\": learning_starts,\n",
    "        \"policy_delay\" : policy_delay,\n",
    "        \"target_policy_noise\": target_policy_noise,\n",
    "        \"policy_kwargs\": dict(\n",
    "            net_arch=net_arch, \n",
    "            activation_fn=activation_fn\n",
    "        ),\n",
    "    }\n",
    "    \n",
    "    n_actions = 12      \n",
    "    if noise_type == \"normal\":\n",
    "        hyperparams[\"action_noise\"] = NormalActionNoise(\n",
    "            mean=np.zeros(n_actions), sigma=noise_std * np.ones(n_actions)\n",
    "        )\n",
    "    elif noise_type == \"ornstein-uhlenbeck\":\n",
    "        hyperparams[\"action_noise\"] = OrnsteinUhlenbeckActionNoise(\n",
    "            mean=np.zeros(n_actions), sigma=noise_std * np.ones(n_actions)\n",
    "        )\n",
    "\n",
    "    return hyperparams"
   ]
  },
  {
   "cell_type": "markdown",
   "id": "d07d4b7e-e6a7-4e9d-ab5c-c79f3545f429",
   "metadata": {},
   "source": [
    "### SAC"
   ]
  },
  {
   "cell_type": "code",
   "execution_count": 9,
   "id": "e33b71c4-de8b-4cf4-8d79-fe1ca8dd41c1",
   "metadata": {
    "tags": []
   },
   "outputs": [],
   "source": [
    "def sample_sac_params(trial: optuna.Trial):\n",
    "    \"\"\"\n",
    "    Sampler for SAC hyperparams.\n",
    "    :param trial:\n",
    "    :return:\n",
    "    \"\"\"\n",
    "\n",
    "    learning_rate = trial.suggest_loguniform(\"learning_rate\", 1e-5, 1)\n",
    "    batch_size = trial.suggest_categorical(\"batch_size\", [16, 32, 64, 100, 128, 200])\n",
    "    buffer_size = trial.suggest_categorical(\"buffer_size\", [int(1e4), int(1e5), int(1e6)])\n",
    "    tau = trial.suggest_categorical(\"tau\", [0.001, 0.005, 0.01, 0.02, 0.05, 0.08])\n",
    "    gamma = trial.suggest_categorical(\"gamma\", [0.9, 0.95, 0.98, 0.99, 0.995, 0.999, 0.9999])\n",
    "    train_freq = trial.suggest_categorical(\"train_freq\", [1, 2, 3, 4, 8, 16, 32])\n",
    "    # gradient_steps takes too much time\n",
    "    gradient_steps = trial.suggest_categorical(\"gradient_steps\", [-1, 1, 2, 8, 32])\n",
    "    learning_starts = trial.suggest_categorical('learning_starts', [0, 1, 10, 20, 100, 200]) \n",
    "\n",
    "    noise_type = trial.suggest_categorical(\"noise_type\", [\"ornstein-uhlenbeck\", \"normal\", None])\n",
    "    noise_std = trial.suggest_uniform(\"noise_std\", 0, 1)\n",
    "    policy_delay = trial.suggest_categorical(\"policy_delay\", [ 1, 2, 5])\n",
    "    target_policy_noise = trial.suggest_categorical(\"target_policy_noise\", [0.1, 0.2, 0.3])\n",
    "       \n",
    "    ent_coef = trial.suggest_categorical('ent_coef', ['auto',  'auto_0.1', 0.5, 0.1, 0.05, 0.01, 0.0001])\n",
    "\n",
    "    if ent_coef == 'auto' or 'auto_0.1':\n",
    "        target_entropy = trial.suggest_categorical('target_entropy', ['auto', 10 , 5, 1, 0, -1, -5, -10])\n",
    " \n",
    "    net_arch = trial.suggest_categorical(\"net_arch\", [\"small\", \"medium\", \"big\"])\n",
    "    \n",
    "    net_arch = {\n",
    "        \"small\": [64, 64],\n",
    "        \"medium\": [256, 256],\n",
    "        \"big\": [400, 300]\n",
    "    }[net_arch]\n",
    "\n",
    "\n",
    "    # ------- policy_kwargs --------\n",
    "    use_sde = trial.suggest_categorical(\"use_sde\", [False, True])\n",
    "    if MULTI_DISCRETE_ACTION: \n",
    "        use_sde = False\n",
    "    if use_sde is True:\n",
    "        sde_sample_freq = trial.suggest_categorical(\"sde_sample_freq\", [-1, 0, 1, 2, 3])\n",
    "        log_std_init = trial.suggest_uniform(\"log_std_init\", -4, 1)\n",
    "    \n",
    "    #activation_fn = trial.suggest_categorical('activation_fn', ['tanh', 'relu', 'elu', 'leaky_relu'])\n",
    "    activation_fn = trial.suggest_categorical('activation_fn', ['tanh', 'relu'])\n",
    "    activation_fn = {\"tanh\": nn.Tanh, \"relu\": nn.ReLU, \"elu\": nn.ELU, \"leaky_relu\": nn.LeakyReLU}[activation_fn]\n",
    "    # --------------------\n",
    " \n",
    "    hyperparams = {\n",
    "        \"learning_rate\": learning_rate,\n",
    "        \"batch_size\": batch_size,\n",
    "        \"buffer_size\": buffer_size,\n",
    "        \"learning_starts\": learning_starts,\n",
    "        \"train_freq\": train_freq,\n",
    "        \"gradient_steps\": gradient_steps,\n",
    "        \"ent_coef\": ent_coef,\n",
    "        \"tau\": tau,\n",
    "        \"gamma\": gamma,\n",
    "        \"policy_kwargs\": dict(net_arch=net_arch, \n",
    "                              activation_fn=activation_fn\n",
    "                             ),\n",
    "    }\n",
    "        \n",
    "    if use_sde is True:\n",
    "        hyperparams[\"sde_sample_freq\"] = sde_sample_freq\n",
    "        hyperparams[\"policy_kwargs\"][\"log_std_init\"] = log_std_init\n",
    "\n",
    "        \n",
    "    if ent_coef == 'auto' or '‘auto_0.1':\n",
    "        hyperparams[\"target_entropy\"] = target_entropy\n",
    "\n",
    "    n_actions = 12      \n",
    "    if noise_type == \"normal\":\n",
    "        hyperparams[\"action_noise\"] = NormalActionNoise(\n",
    "            mean=np.zeros(n_actions), sigma=noise_std * np.ones(n_actions)\n",
    "        )\n",
    "    elif noise_type == \"ornstein-uhlenbeck\":\n",
    "        \n",
    "        hyperparams[\"action_noise\"] = OrnsteinUhlenbeckActionNoise(\n",
    "            mean=np.zeros(n_actions), sigma=noise_std * np.ones(n_actions)\n",
    "        )\n",
    "\n",
    "    return hyperparams\n"
   ]
  },
  {
   "cell_type": "markdown",
   "id": "584a673c-6b9a-4eda-9fe4-43afefcdd0f3",
   "metadata": {},
   "source": [
    "### Tuning DDPG "
   ]
  },
  {
   "cell_type": "code",
   "execution_count": 10,
   "id": "29bd0699-c01c-42a2-b39b-147a8a0d7036",
   "metadata": {
    "tags": []
   },
   "outputs": [],
   "source": [
    "def sample_ddpg_params(trial: optuna.Trial):\n",
    "    \"\"\"\n",
    "    Sampler for DDPG hyperparams.\n",
    "    :param trial:\n",
    "    :return:\n",
    "    \"\"\"\n",
    "    \n",
    "    learning_rate = trial.suggest_loguniform(\"learning_rate\", 1e-5, 1)\n",
    "    buffer_size = trial.suggest_categorical(\"buffer_size\", [int(1e4), int(1e5), int(1e6)])\n",
    "    learning_starts = trial.suggest_categorical('learning_starts', [0, 1, 10, 20, 100, 200]) \n",
    "    batch_size = trial.suggest_categorical(\"batch_size\", [16, 32, 64, 100, 128, 200])\n",
    "    tau = trial.suggest_categorical(\"tau\", [0.001, 0.005, 0.01, 0.02, 0.05, 0.08])\n",
    "    gamma = trial.suggest_categorical(\"gamma\", [0.9, 0.95, 0.98, 0.99, 0.995, 0.999, 0.9999])\n",
    "    train_freq = trial.suggest_categorical(\"train_freq\", [1, 2, 8, 32])\n",
    "    # gradient_steps takes too much time\n",
    "    gradient_steps = trial.suggest_categorical(\"gradient_steps\", [-1, 1, 2, 8, 32])\n",
    "    noise_type = trial.suggest_categorical(\"noise_type\", [\"ornstein-uhlenbeck\", \"normal\", None])\n",
    "    noise_std = trial.suggest_uniform(\"noise_std\", 0, 1)\n",
    "    \n",
    "    net_arch = trial.suggest_categorical(\"net_arch\", [\"small\", \"medium\", \"big\"])\n",
    "        \n",
    "    net_arch = {\n",
    "        \"small\": [64, 64],\n",
    "        \"medium\": [256, 256],\n",
    "        \"big\": [400, 300]\n",
    "    }[net_arch]\n",
    "    \n",
    "    # ------- policy_kwargs --------\n",
    "    #activation_fn = trial.suggest_categorical('activation_fn', ['tanh', 'relu', 'elu', 'leaky_relu'])\n",
    "    activation_fn = trial.suggest_categorical('activation_fn', ['tanh', 'relu'])\n",
    "    activation_fn = {\"tanh\": nn.Tanh, \"relu\": nn.ReLU, \"elu\": nn.ELU, \"leaky_relu\": nn.LeakyReLU}[activation_fn]\n",
    "    # --------------------\n",
    "\n",
    "    hyperparams = {\n",
    "        \"learning_rate\": learning_rate,\n",
    "        \"buffer_size\": buffer_size,\n",
    "        \"learning_starts\": learning_starts,\n",
    "        \"batch_size\": batch_size,\n",
    "        \"tau\": tau,\n",
    "        \"gamma\": gamma,\n",
    "        \"train_freq\": train_freq,\n",
    "        \"gradient_steps\": gradient_steps,\n",
    "        \"policy_kwargs\": dict(net_arch=net_arch, \n",
    "                              activation_fn=activation_fn\n",
    "                             ),\n",
    "    }\n",
    "\n",
    "    n_actions = 12      \n",
    "    if noise_type == \"normal\":\n",
    "        hyperparams[\"action_noise\"] = NormalActionNoise(\n",
    "            mean=np.zeros(n_actions), sigma=noise_std * np.ones(n_actions)\n",
    "        )\n",
    "    elif noise_type == \"ornstein-uhlenbeck\":\n",
    "        \n",
    "        hyperparams[\"action_noise\"] = OrnsteinUhlenbeckActionNoise(\n",
    "            mean=np.zeros(n_actions), sigma=noise_std * np.ones(n_actions)\n",
    "        )\n",
    "\n",
    "\n",
    "\n",
    "\n",
    "    return hyperparams\n",
    "\n",
    "\n",
    "def optimize_agent_ddpg(trial):\n",
    "    \"\"\" Train the model and optimize\n",
    "        Optuna maximises the negative log likelihood, so we\n",
    "        need to negate the reward here\n",
    "    \"\"\"\n",
    "    \n",
    "    nan_encountered = False\n",
    "    try: \n",
    "        model_params = sample_ddpg_params(trial)\n",
    "\n",
    "        # init tracking experiment.\n",
    "        # hyper-parameters, trial id are stored.\n",
    "        config = dict(trial.params)\n",
    "        config[\"trial.number\"] = trial.number\n",
    "        wandb.init(\n",
    "            project=\"RL-optuna\",\n",
    "            entity=\"jlu237\", \n",
    "            sync_tensorboard=True,\n",
    "            config=config,\n",
    "            tags=[\"DDPG\"] + EXPERIMENT_TAGS,\n",
    "            reinit=True\n",
    "        )\n",
    "\n",
    "        env = make('VPPBiddingEnv-TUNING-v1')\n",
    "        env = Monitor(env) \n",
    "        env = RecordEpisodeStatistics(env) # record stats such as returns\n",
    "        model = DDPG('MultiInputPolicy', env, verbose=0,  seed = 1, **model_params)\n",
    "        print(model_params)\n",
    "    \n",
    "        # -------------- TRAINING -----------------\n",
    "        model.learn(total_timesteps=EXPERIMENT_TIMESTEPS,\n",
    "                    log_interval=1,\n",
    "                    progress_bar = True,\n",
    "                    callback=WandbCallback(\n",
    "                        gradient_save_freq=1,\n",
    "                        verbose=0))\n",
    "        \n",
    "        # -------------- EVALUATION -----------------\n",
    "        eval_env = make('VPPBiddingEnv-TUNING-EVAL-v1')\n",
    "        eval_env = RecordEpisodeStatistics(eval_env) # record stats such as returns\n",
    "        episodes = 70\n",
    "        for i_episode in range(episodes):\n",
    "            observation = eval_env.reset()\n",
    "            for t in range(1):\n",
    "                eval_env.render()\n",
    "                #logging.debug(\"observation : \" + str(observation), extra={'log_step': str(i_episode), 'slot': 'test'})\n",
    "                action, _states = model.predict(observation, deterministic = True)\n",
    "                observation, reward, done, info = eval_env.step(action)\n",
    "                if done:\n",
    "                    break\n",
    "        total_reward_test = info[\"total_reward\"]\n",
    "        total_profit_test = info[\"total_profit\"]\n",
    "\n",
    "        mean_episode_reward_test = info[\"total_reward\"] / episodes\n",
    "        mean_episode_profit_test = info[\"total_profit\"] / episodes\n",
    "\n",
    "        print(\"Total Reward on Test Set: \" + str(total_reward_test))\n",
    "        print(\"Total Profit on Test Set: \" + str(total_profit_test))\n",
    "        print(\"Mean Episode Reward: \" + str(mean_episode_reward_test))\n",
    "        print(\"Mean Episode Profit: \" + str(mean_episode_profit_test))\n",
    "\n",
    "        wandb.log({\"total_reward_test\": total_reward_test, \n",
    "                   \"total_profit_test\": total_profit_test, \n",
    "                   \"mean_episode_reward_test\": mean_episode_reward_test,\n",
    "                   \"mean_episode_profit_test\": mean_episode_profit_test,\n",
    "                })\n",
    "        wandb.finish()\n",
    "        eval_env.close()\n",
    "\n",
    "        return_code = subprocess.run(\"wandb sync wandb/latest-run\", shell=True)\n",
    "        \n",
    "    except AssertionError as e:\n",
    "        # Sometimes, random hyperparams can generate NaN\n",
    "        print(e)\n",
    "        nan_encountered = True\n",
    "        \n",
    "    finally:        \n",
    "        # Free memory\n",
    "        env.close()\n",
    "        \n",
    "    if nan_encountered: \n",
    "        return float(\"nan\")\n",
    "\n",
    "    return total_reward_test"
   ]
  },
  {
   "cell_type": "markdown",
   "id": "630ccc60-f8ce-4590-857c-c994997f3584",
   "metadata": {},
   "source": [
    "### RecurrentPPO "
   ]
  },
  {
   "cell_type": "code",
   "execution_count": 11,
   "id": "45cc5aac-bd2a-453b-b52c-0e994a3aebf1",
   "metadata": {
    "tags": []
   },
   "outputs": [],
   "source": [
    "def sample_rppo_params(trial: optuna.Trial):\n",
    "    \"\"\"\n",
    "    Sampler for RecurrentPPO hyperparams.\n",
    "    :param trial:\n",
    "    :return:\n",
    "    \"\"\"\n",
    "\n",
    "    n_steps_list = []\n",
    "    n_step = round(EXPERIMENT_TIMESTEPS/3)\n",
    "\n",
    "    while n_step > 1:\n",
    "        n_steps_list.append(n_step)\n",
    "        n_step = round(n_step/3)\n",
    "        \n",
    "    learning_rate = trial.suggest_loguniform(\"learning_rate\", 1e-5, 1)\n",
    "    #n_steps = trial.suggest_categorical(\"n_steps\", n_steps_list)\n",
    "    n_steps = trial.suggest_categorical(\"n_steps\", [2,3,4,5,6,7,8,9,10])\n",
    "    batch_size = trial.suggest_categorical(\"batch_size\", [16, 32, 64, 100, 128, 200])\n",
    "    n_epochs = trial.suggest_categorical(\"n_epochs\", [1, 5, 10, 20])\n",
    "    gamma = trial.suggest_categorical(\"gamma\", [0.9, 0.95, 0.98, 0.99, 0.995, 0.999, 0.9999])\n",
    "    gae_lambda = trial.suggest_categorical(\"gae_lambda\", [0.7, 0.8, 0.9, 0.92, 0.95, 0.98, 0.99, 1.0])\n",
    "    clip_range = trial.suggest_categorical(\"clip_range\", [0.1, 0.2, 0.3, 0.4])\n",
    "    normalize_advantage = trial.suggest_categorical(\"normalize_advantage\", [False, True])\n",
    "    ent_coef = trial.suggest_loguniform(\"ent_coef\", 0.00000001, 0.1)\n",
    "    vf_coef = trial.suggest_uniform(\"vf_coef\", 0, 1)\n",
    "    max_grad_norm = trial.suggest_categorical(\"max_grad_norm\", [0.3, 0.5, 0.6, 0.7, 0.8, 0.9, 1, 2, 5])\n",
    "    target_kl = trial.suggest_categorical(\"target_kl\", [0.1, 0.05, 0.03, 0.02, 0.01, 0.005, 0.001])\n",
    "    \n",
    "    # ------- policy_kwargs --------\n",
    "    lr_schedule = trial.suggest_categorical(\"lr_schedule\", [\"linear\", \"constant\"])\n",
    "    use_sde = trial.suggest_categorical(\"use_sde\", [False, True])\n",
    "    if MULTI_DISCRETE_ACTION: \n",
    "        use_sde = False\n",
    "    if use_sde is True:\n",
    "        sde_sample_freq = trial.suggest_categorical(\"sde_sample_freq\", [-1, 0, 1, 2, 3])\n",
    "        log_std_init = trial.suggest_uniform(\"log_std_init\", -4, 1)\n",
    "    full_std = trial.suggest_categorical(\"full_std\", [False, True])\n",
    "    activation_fn = trial.suggest_categorical('activation_fn', ['tanh', 'relu', 'elu', 'leaky_relu'])\n",
    "    ortho_init = trial.suggest_categorical(\"ortho_init\", [False, True])\n",
    "\n",
    "    net_arch = trial.suggest_categorical(\"net_arch\", [\"small\", \"medium\", \"big\"])\n",
    "    # ------- policy_kwargs --------\n",
    "    \n",
    "    if batch_size > n_steps:\n",
    "        batch_size = n_steps\n",
    "\n",
    "    if lr_schedule == \"linear\":\n",
    "        learning_rate = linear_schedule(learning_rate)\n",
    "\n",
    "    net_arch = {\n",
    "        \"small\": [dict(pi=[64, 64], vf=[64, 64])],\n",
    "        \"medium\": [dict(pi=[256, 256], vf=[256, 256])],\n",
    "        \"big\": [dict(pi=[400, 400], vf=[400, 400])],\n",
    "    }[net_arch]\n",
    "    \n",
    "    activation_fn = {\"tanh\": nn.Tanh, \"relu\": nn.ReLU, \"elu\": nn.ELU, \"leaky_relu\": nn.LeakyReLU}[activation_fn]\n",
    "    \n",
    "    hyperparams = {\n",
    "        \"learning_rate\": learning_rate,\n",
    "        \"n_steps\": n_steps,\n",
    "        \"batch_size\": batch_size,\n",
    "        \"n_epochs\": n_epochs,\n",
    "        \"gamma\": gamma,\n",
    "        \"gae_lambda\": gae_lambda,\n",
    "        \"clip_range\": clip_range,\n",
    "        \"normalize_advantage\": normalize_advantage,\n",
    "        \"ent_coef\": ent_coef,\n",
    "        \"vf_coef\": vf_coef,\n",
    "        \"max_grad_norm\": max_grad_norm,\n",
    "        \"target_kl\": target_kl,\n",
    "        \"policy_kwargs\": dict(\n",
    "            net_arch=net_arch,\n",
    "            full_std=full_std,\n",
    "            activation_fn=activation_fn,\n",
    "            ortho_init=ortho_init,\n",
    "        ),\n",
    "    }\n",
    "    \n",
    "        \n",
    "    if use_sde is True:\n",
    "        hyperparams[\"sde_sample_freq\"] = sde_sample_freq\n",
    "        hyperparams[\"policy_kwargs\"][\"log_std_init\"] = log_std_init\n",
    "        \n",
    "    return hyperparams"
   ]
  },
  {
   "cell_type": "markdown",
   "id": "545ae0ad-0b1f-43e3-b690-9e31348d4558",
   "metadata": {},
   "source": [
    "### TRPO "
   ]
  },
  {
   "cell_type": "code",
   "execution_count": 12,
   "id": "0e1f24dc-25b2-44de-afe5-9c3a6ae9a910",
   "metadata": {
    "tags": []
   },
   "outputs": [],
   "source": [
    "def sample_trpo_params(trial):\n",
    "    \"\"\"\n",
    "    Sampler for TRPO hyperparams.\n",
    "    :param trial:\n",
    "    :return:\n",
    "    \"\"\"\n",
    "    \n",
    "    learning_rate = trial.suggest_loguniform(\"learning_rate\", 1e-5, 1)\n",
    "    n_steps = trial.suggest_categorical(\"n_steps\", [2,3,4,5,6,7,8,9,10])\n",
    "    batch_size = trial.suggest_categorical(\"batch_size\", [16, 32, 64, 100, 128, 200])\n",
    "    gamma = trial.suggest_categorical(\"gamma\", [0.9, 0.95, 0.98, 0.99, 0.995, 0.999, 0.9999])\n",
    "    cg_max_steps = trial.suggest_categorical(\"cg_max_steps\", [5, 10, 15, 20, 25, 30])\n",
    "    cg_damping = trial.suggest_categorical(\"cg_damping\", [0.5, 0.2, 0.1, 0.05, 0.01])\n",
    "    line_search_shrinking_factor = trial.suggest_categorical(\"line_search_shrinking_factor\", [0.6, 0.7, 0.8, 0.9])\n",
    "    line_search_max_iter = trial.suggest_categorical(\"line_search_max_iter\", [1, 5, 10, 15, 20])\n",
    "    n_critic_updates = trial.suggest_categorical(\"n_critic_updates\", [1, 5, 10, 20, 25])\n",
    "    gae_lambda = trial.suggest_categorical(\"gae_lambda\", [0.8, 0.9, 0.92, 0.95, 0.98, 0.99, 1.0])\n",
    "    normalize_advantage = trial.suggest_categorical(\"normalize_advantage\", [False, True])\n",
    "    use_sde = trial.suggest_categorical(\"use_sde\", [False, True])\n",
    "    if MULTI_DISCRETE_ACTION: \n",
    "        use_sde = False\n",
    "    if use_sde is True:\n",
    "        sde_sample_freq = trial.suggest_categorical(\"sde_sample_freq\", [-1, 0, 1, 2, 3])    \n",
    "    target_kl = trial.suggest_categorical(\"target_kl\", [0.1, 0.05, 0.03, 0.02, 0.01, 0.005, 0.001])\n",
    "    \n",
    "    # ------- policy_kwargs --------\n",
    "    if use_sde is True:\n",
    "        log_std_init = trial.suggest_uniform(\"log_std_init\", -4, 1)\n",
    "        full_std = trial.suggest_categorical('full_std', [False, True])\n",
    "    sde_net_arch = trial.suggest_categorical(\"sde_net_arch\", [None, \"tiny\", \"small\"])\n",
    "    lr_schedule = trial.suggest_categorical(\"lr_schedule\", [\"linear\", \"constant\"])\n",
    "    net_arch = trial.suggest_categorical(\"net_arch\", [\"small\", \"medium\", \"big\"])\n",
    "    ortho_init = trial.suggest_categorical('ortho_init', [False, True])\n",
    "    activation_fn = trial.suggest_categorical('activation_fn', ['tanh', 'relu', 'elu', 'leaky_relu'])\n",
    "\n",
    "    if batch_size > n_steps:\n",
    "        batch_size = n_steps\n",
    "\n",
    "    if lr_schedule == \"linear\":\n",
    "        learning_rate = linear_schedule(learning_rate)\n",
    "\n",
    "    net_arch = {\n",
    "        \"small\": [dict(pi=[64, 64], vf=[64, 64])],\n",
    "        \"medium\": [dict(pi=[256, 256], vf=[256, 256])],\n",
    "        \"big\": [dict(pi=[400, 400], vf=[400, 400])],\n",
    "    }[net_arch]\n",
    "    \n",
    "    sde_net_arch = {\n",
    "         None: None,\n",
    "         \"tiny\": [64],\n",
    "         \"small\": [64, 64],\n",
    "    }[sde_net_arch]\n",
    "\n",
    "    activation_fn = {\"tanh\": nn.Tanh, \"relu\": nn.ReLU, \"elu\": nn.ELU, \"leaky_relu\": nn.LeakyReLU}[activation_fn]\n",
    "\n",
    "    hyperparams = {\n",
    "            \"learning_rate\": learning_rate,\n",
    "            \"n_steps\": n_steps,\n",
    "            \"batch_size\": batch_size,\n",
    "            \"gamma\": gamma,\n",
    "            \"cg_max_steps\": cg_max_steps,\n",
    "            \"cg_damping\": cg_damping,\n",
    "            \"line_search_shrinking_factor\": line_search_shrinking_factor,\n",
    "            \"line_search_max_iter\": line_search_max_iter,\n",
    "            \"n_critic_updates\": n_critic_updates,\n",
    "            \"gae_lambda\": gae_lambda,\n",
    "            \"normalize_advantage\": normalize_advantage,\n",
    "            \"use_sde\": use_sde,\n",
    "            \"target_kl\": target_kl,\n",
    "            \"policy_kwargs\": dict(\n",
    "                net_arch=net_arch,\n",
    "                ortho_init=ortho_init,\n",
    "                activation_fn=activation_fn,\n",
    "            ),\n",
    "        }\n",
    "    \n",
    "     \n",
    "\n",
    "\n",
    "        \n",
    "    if use_sde is True:\n",
    "        hyperparams[\"sde_sample_freq\"] = sde_sample_freq\n",
    "        hyperparams[\"policy_kwargs\"][\"log_std_init\"] = log_std_init\n",
    "        hyperparams[\"policy_kwargs\"][\"full_std\"] = full_std\n",
    "        hyperparams[\"policy_kwargs\"][\"sde_net_arch\"] = sde_net_arch       \n",
    "        \n",
    "    return hyperparams"
   ]
  },
  {
   "cell_type": "markdown",
   "id": "16756f87-57f3-4b4d-9c68-bb2c39f7ff12",
   "metadata": {},
   "source": [
    "### PPO "
   ]
  },
  {
   "cell_type": "code",
   "execution_count": 13,
   "id": "34c060a4-89a7-460e-83bb-f6aa32a830a5",
   "metadata": {},
   "outputs": [],
   "source": [
    "def sample_ppo_params(trial: optuna.Trial):\n",
    "    \"\"\"\n",
    "    Sampler for PPO hyperparams.\n",
    "    :param trial:\n",
    "    :return:\n",
    "    \"\"\"\n",
    "    \n",
    "    learning_rate = trial.suggest_loguniform(\"learning_rate\", 1e-5, 1)\n",
    "    n_steps = trial.suggest_categorical(\"n_steps\", [2,3,4,5,6,7,8,9,10])\n",
    "    batch_size = trial.suggest_categorical(\"batch_size\", [8, 16, 32, 64, 100, 128, 200])\n",
    "    n_epochs = trial.suggest_categorical(\"n_epochs\", [1, 5, 10, 20])\n",
    "    gamma = trial.suggest_categorical(\"gamma\", [0.9, 0.95, 0.98, 0.99, 0.995, 0.999, 0.9999])\n",
    "    gae_lambda = trial.suggest_categorical(\"gae_lambda\", [0.7, 0.8, 0.9, 0.92, 0.95, 0.98, 0.99, 1.0])\n",
    "    clip_range = trial.suggest_categorical(\"clip_range\", [0.1, 0.2, 0.3, 0.4])\n",
    "    normalize_advantage = trial.suggest_categorical(\"normalize_advantage\", [False, True])\n",
    "    ent_coef = trial.suggest_loguniform(\"ent_coef\", 0.00000001, 0.1)\n",
    "    vf_coef = trial.suggest_uniform(\"vf_coef\", 0, 1)\n",
    "    max_grad_norm = trial.suggest_categorical(\"max_grad_norm\", [0.3, 0.5, 0.6, 0.7, 0.8, 0.9, 1, 2, 3, 4, 5])\n",
    "    use_sde = trial.suggest_categorical(\"use_sde\", [False, True])\n",
    "    if MULTI_DISCRETE_ACTION: \n",
    "        use_sde = False\n",
    "    if use_sde is True:\n",
    "        sde_sample_freq = trial.suggest_categorical(\"sde_sample_freq\", [-1, 0, 1, 2, 3])    \n",
    "    target_kl = trial.suggest_categorical(\"target_kl\", [0.1, 0.05, 0.03, 0.02, 0.01, 0.005, 0.001])\n",
    "    \n",
    "    \n",
    "    # ------- policy_kwargs --------\n",
    "    lr_schedule = trial.suggest_categorical('lr_schedule', ['linear', 'constant'])\n",
    "    net_arch = trial.suggest_categorical(\"net_arch\", [\"small\", \"medium\", \"big\"])\n",
    "    activation_fn = trial.suggest_categorical('activation_fn', ['tanh', 'relu', 'elu', 'leaky_relu'])\n",
    "    ortho_init = trial.suggest_categorical('ortho_init', [False, True])\n",
    "    if use_sde is True:\n",
    "        log_std_init = trial.suggest_uniform(\"log_std_init\", -4, 1)\n",
    "        full_std = trial.suggest_categorical('full_std', [False, True])\n",
    "\n",
    "    if batch_size > n_steps:\n",
    "        batch_size = n_steps\n",
    "\n",
    "    if lr_schedule == \"linear\":\n",
    "        learning_rate = linear_schedule(learning_rate)\n",
    "\n",
    "    net_arch = {\n",
    "        \"small\": [dict(pi=[64, 64], vf=[64, 64])],\n",
    "        \"medium\": [dict(pi=[256, 256], vf=[256, 256])],\n",
    "        \"big\": [dict(pi=[400, 400], vf=[400, 400])],\n",
    "    }[net_arch]\n",
    "\n",
    "    activation_fn = {\"tanh\": nn.Tanh, \"relu\": nn.ReLU, \"elu\": nn.ELU, \"leaky_relu\": nn.LeakyReLU}[activation_fn]\n",
    "\n",
    "    hyperparams = {\n",
    "            \"learning_rate\": learning_rate,\n",
    "            \"n_steps\": n_steps,\n",
    "            \"batch_size\": batch_size,\n",
    "            \"n_epochs\": n_epochs,\n",
    "            \"gamma\": gamma,\n",
    "            \"gae_lambda\": gae_lambda,\n",
    "            \"clip_range\": clip_range,\n",
    "            \"normalize_advantage\": normalize_advantage,\n",
    "            \"ent_coef\": ent_coef,\n",
    "            \"vf_coef\": vf_coef,\n",
    "            \"max_grad_norm\": max_grad_norm,\n",
    "            \"use_sde\": use_sde,\n",
    "            \"target_kl\": target_kl,\n",
    "            \"policy_kwargs\": dict(\n",
    "                    net_arch=net_arch,\n",
    "                    ortho_init=ortho_init,\n",
    "                    activation_fn=activation_fn,\n",
    "            ),\n",
    "        }\n",
    "        \n",
    "    if use_sde is True:\n",
    "        hyperparams[\"sde_sample_freq\"] = sde_sample_freq\n",
    "        hyperparams[\"policy_kwargs\"][\"log_std_init\"] = log_std_init\n",
    "        hyperparams[\"policy_kwargs\"][\"full_std\"] = full_std\n",
    "        \n",
    "    return hyperparams"
   ]
  },
  {
   "cell_type": "markdown",
   "id": "70c3f6b2-d483-4e90-bd69-fdaf3c3ce643",
   "metadata": {},
   "source": [
    "### TQC "
   ]
  },
  {
   "cell_type": "code",
   "execution_count": 14,
   "id": "30f448ef-015b-477c-852a-f50ad3ca11fa",
   "metadata": {},
   "outputs": [],
   "source": [
    "def sample_tqc_params(trial: optuna.Trial):\n",
    "    \"\"\"\n",
    "    Sampler for TQC hyperparams.\n",
    "    :param trial:\n",
    "    :return:\n",
    "    \"\"\"\n",
    "    # TQC is SAC + Distributional RL\n",
    "    hyperparams = sample_sac_params(trial)\n",
    "\n",
    "    n_quantiles = trial.suggest_int(\"n_quantiles\", 5, 50)\n",
    "    top_quantiles_to_drop_per_net = trial.suggest_int(\"top_quantiles_to_drop_per_net\", 0, n_quantiles - 1)\n",
    "\n",
    "    hyperparams[\"policy_kwargs\"].update({\"n_quantiles\": n_quantiles})\n",
    "    hyperparams[\"top_quantiles_to_drop_per_net\"] = top_quantiles_to_drop_per_net\n",
    "\n",
    "    return hyperparams"
   ]
  },
  {
   "cell_type": "markdown",
   "id": "60b4a045-ed17-4134-9da8-ad8a5c2eaa89",
   "metadata": {},
   "source": [
    "# Run the Studies"
   ]
  },
  {
   "cell_type": "code",
   "execution_count": 15,
   "id": "738b890a-756a-4785-a609-08f2159ff854",
   "metadata": {},
   "outputs": [],
   "source": [
    "HYPERPARAMS_SAMPLER = {\n",
    "    \"A2C\": sample_a2c_params,\n",
    "    \"DDPG\": sample_ddpg_params,\n",
    "    \"SAC\": sample_sac_params,\n",
    "    \"PPO\": sample_ppo_params,\n",
    "    \"TD3\": sample_td3_params,\n",
    "    #\"DQN\": sample_dqn_params,\n",
    "    # SB3 Contrib,\n",
    "    \"TQC\": sample_tqc_params,\n",
    "    \"TRPO\": sample_trpo_params,\n",
    "    \"R_PPO\": sample_rppo_params,\n",
    "}\n",
    "\n",
    "ALGOS = {\n",
    "    \"A2C\": A2C,\n",
    "    \"DDPG\": DDPG,\n",
    "    \"PPO\": PPO,\n",
    "    \"SAC\": SAC,\n",
    "    \"TD3\": TD3,\n",
    "    #\"DQN\": DQN,\n",
    "    # SB3 Contrib,\n",
    "    \"TQC\": TQC,\n",
    "    \"TRPO\": TRPO,\n",
    "    \"R_PPO\": RecurrentPPO,\n",
    "}"
   ]
  },
  {
   "cell_type": "markdown",
   "id": "7b23f3f9-9996-4a87-8925-f8f496cf16c9",
   "metadata": {},
   "source": [
    "## Globals "
   ]
  },
  {
   "cell_type": "code",
   "execution_count": 16,
   "id": "67303de9-3fd4-482a-9218-47b5df3876ec",
   "metadata": {},
   "outputs": [],
   "source": [
    "EXPERIMENT_TAGS = [\"final\", \"vpp_config_1_tuning\", \"S44\"] # tuning_4 = after data refinement (no noise, new activaiton distribution)\n",
    "EXPERIMENT_TIMESTEPS = 5570   #5570     # 2785 #how many episodes to train\n",
    "N_TRIALS = 20                  # 20 #how many experiments to run\n",
    "N_STARTUP_TRIALS = 20          # 20 #how long to use random sampling before using TPESampler\n",
    "MULTI_DISCRETE_ACTION = False\n"
   ]
  },
  {
   "cell_type": "markdown",
   "id": "3105c2cb-913c-4de4-836d-158ab5259b7c",
   "metadata": {},
   "source": [
    "## Define Parameter Sampling"
   ]
  },
  {
   "cell_type": "code",
   "execution_count": 17,
   "id": "7c44c8a0-79e6-445b-9c12-4f0266186940",
   "metadata": {},
   "outputs": [],
   "source": [
    "# Set pytorch num threads to 1 for faster training\n",
    "torch.set_num_threads(1)\n",
    "\n",
    "sampler = TPESampler(n_startup_trials=N_STARTUP_TRIALS)\n",
    "\n",
    "# Do not prune before 1/3 of the max budget is used\n",
    "pruner = MedianPruner(n_startup_trials=N_STARTUP_TRIALS, n_warmup_steps=EXPERIMENT_TIMESTEPS // 3)\n"
   ]
  },
  {
   "cell_type": "markdown",
   "id": "5205c172-c134-4840-b940-f0ffbd104a87",
   "metadata": {},
   "source": [
    "## All Algorithms"
   ]
  },
  {
   "cell_type": "raw",
   "id": "79c96d3a-34d5-4703-b2a3-8034c7005893",
   "metadata": {
    "jupyter": {
     "outputs_hidden": true
    },
    "tags": []
   },
   "source": [
    "#algo_list = [\"TD3\", \"PPO\", \"TRPO\", \"R_PPO\", \"DDPG\", \"A2C\", \"SAC\", \"TQC\"] # all \n",
    "\n",
    "for algo in algo_list:\n",
    "    study = optuna.create_study(sampler=sampler, pruner=pruner, direction=\"maximize\")\n",
    "    study.set_user_attr(\"algo\", algo)\n",
    "    print(\"Now tuning : \" + algo)\n",
    "\n",
    "    try:\n",
    "        study.optimize(optimize_agent, n_trials=N_TRIALS, timeout=21600)       # 3 hours = 10800, 6 hours = 21600 \n",
    "\n",
    "    except KeyboardInterrupt:\n",
    "        print('Interrupted by keyboard.')"
   ]
  },
  {
   "cell_type": "markdown",
   "id": "7743327e-d3ad-435f-898c-9fe65edfc5df",
   "metadata": {},
   "source": [
    "## Single Algorithm "
   ]
  },
  {
   "cell_type": "raw",
   "id": "a62afeb6-1ecb-4c2e-9f3d-ad2e7f175e9c",
   "metadata": {
    "tags": []
   },
   "source": [
    "#algo_list = [\"TD3\", \"PPO\", \"TRPO\", \"R_PPO\", \"DDPG\", \"A2C\", \"SAC\", \"TQC\"] # all \n",
    "\n",
    "ALGORITHM = \"SAC\"\n",
    "\n",
    "study = optuna.create_study(sampler=sampler, pruner=pruner, direction=\"maximize\")\n",
    "study.set_user_attr(\"algo\", ALGORITHM)\n",
    "\n",
    "try:\n",
    "    study.optimize(optimize_agent, n_trials=N_TRIALS, timeout=10800)\n",
    "\n",
    "except KeyboardInterrupt:\n",
    "    print('Interrupted by keyboard.')"
   ]
  },
  {
   "cell_type": "code",
   "execution_count": 18,
   "id": "3e04c75b-1992-431c-b73f-df58b1c9ddf2",
   "metadata": {},
   "outputs": [],
   "source": [
    "N_TRIALS = 1                  # 20 #how many experiments to run\n",
    "N_STARTUP_TRIALS = 1\n"
   ]
  },
  {
   "cell_type": "code",
   "execution_count": 19,
   "id": "8589bda0-bd22-4ad5-9249-15c759aedd41",
   "metadata": {
    "tags": []
   },
   "outputs": [
    {
     "name": "stderr",
     "output_type": "stream",
     "text": [
      "\u001b[32m[I 2022-12-14 19:36:22,938]\u001b[0m A new study created in memory with name: no-name-8d08ebbe-f1f3-4a01-8f58-08cc3a03b065\u001b[0m\n"
     ]
    },
    {
     "data": {
      "text/html": [
       "Tracking run with wandb version 0.13.0"
      ],
      "text/plain": [
       "<IPython.core.display.HTML object>"
      ]
     },
     "metadata": {},
     "output_type": "display_data"
    },
    {
     "data": {
      "text/html": [
       "W&B syncing is set to <code>`offline`<code> in this directory.  <br/>Run <code>`wandb online`<code> or set <code>WANDB_MODE=online<code> to enable cloud syncing."
      ],
      "text/plain": [
       "<IPython.core.display.HTML object>"
      ]
     },
     "metadata": {},
     "output_type": "display_data"
    },
    {
     "data": {
      "application/vnd.jupyter.widget-view+json": {
       "model_id": "d527e9960aea40329b0d8e93600b848b",
       "version_major": 2,
       "version_minor": 0
      },
      "text/plain": [
       "Output()"
      ]
     },
     "metadata": {},
     "output_type": "display_data"
    },
    {
     "name": "stdout",
     "output_type": "stream",
     "text": [
      "{'learning_rate': <function linear_schedule.<locals>.func at 0x146ecb4c0>, 'n_steps': 9, 'batch_size': 9, 'n_epochs': 10, 'gamma': 0.99, 'gae_lambda': 0.9, 'clip_range': 0.4, 'normalize_advantage': True, 'ent_coef': 2.6375361566848478e-06, 'vf_coef': 0.5221493086134156, 'max_grad_norm': 0.6, 'target_kl': 0.001, 'policy_kwargs': {'net_arch': [{'pi': [64, 64], 'vf': [64, 64]}], 'full_std': True, 'activation_fn': <class 'torch.nn.modules.activation.Tanh'>, 'ortho_init': True, 'log_std_init': -2.3151490699717723}, 'sde_sample_freq': 3}\n"
     ]
    },
    {
     "data": {
      "text/html": [
       "<pre style=\"white-space:pre;overflow-x:auto;line-height:normal;font-family:Menlo,'DejaVu Sans Mono',consolas,'Courier New',monospace\"></pre>\n"
      ],
      "text/plain": []
     },
     "metadata": {},
     "output_type": "display_data"
    },
    {
     "data": {
      "text/html": [
       "<pre style=\"white-space:pre;overflow-x:auto;line-height:normal;font-family:Menlo,'DejaVu Sans Mono',consolas,'Courier New',monospace\">\n",
       "</pre>\n"
      ],
      "text/plain": [
       "\n"
      ]
     },
     "metadata": {},
     "output_type": "display_data"
    },
    {
     "name": "stdout",
     "output_type": "stream",
     "text": [
      "Total Reward on Test Set: 48.9\n",
      "Total Profit on Test Set: 29346.67\n"
     ]
    },
    {
     "data": {
      "text/html": [
       "Waiting for W&B process to finish... <strong style=\"color:green\">(success).</strong>"
      ],
      "text/plain": [
       "<IPython.core.display.HTML object>"
      ]
     },
     "metadata": {},
     "output_type": "display_data"
    },
    {
     "data": {
      "application/vnd.jupyter.widget-view+json": {
       "model_id": "",
       "version_major": 2,
       "version_minor": 0
      },
      "text/plain": [
       "VBox(children=(Label(value='0.000 MB of 0.000 MB uploaded (0.000 MB deduped)\\r'), FloatProgress(value=1.0, max…"
      ]
     },
     "metadata": {},
     "output_type": "display_data"
    },
    {
     "data": {
      "text/html": [
       "<style>\n",
       "    table.wandb td:nth-child(1) { padding: 0 10px; text-align: left ; width: auto;} td:nth-child(2) {text-align: left ; width: 100%}\n",
       "    .wandb-row { display: flex; flex-direction: row; flex-wrap: wrap; justify-content: flex-start; width: 100% }\n",
       "    .wandb-col { display: flex; flex-direction: column; flex-basis: 100%; flex: 1; padding: 10px; }\n",
       "    </style>\n",
       "<div class=\"wandb-row\"><div class=\"wandb-col\"><h3>Run history:</h3><br/><table class=\"wandb\"><tr><td>global_step</td><td>▁▁▁▁▂▂▂▂▂▃▃▃▃▃▃▄▄▄▄▄▅▅▅▅▅▅▆▆▆▆▆▇▇▇▇▇▇███</td></tr><tr><td>step_activ_count</td><td>▁▁▁▇▇█▂▁▅▄▇▄▇▁▂▁▄█▂█▁█▂▇███▁█▂█▄█▁▁▇▄█▂█</td></tr><tr><td>step_activ_ratio</td><td>▁▁▁█▇██▁█████▁█▁████▁██████▁█████▁▁█████</td></tr><tr><td>step_lost_count</td><td>█▇▁▁▂▁▁▁▁▁▁▁▁▁▁▁▁▁▁▁▁▁▁▁▁▁▁▁▁▁▁▁▁▁▁▁▁▁▁▁</td></tr><tr><td>step_not_activ_count</td><td>▁▁▁▁▁▁▁▁▁▁▁▁▁▁▁▁▁▁▁▁▁▁▁▁▁▁▁▁▁▁▁▁▁▁▁▁▁▁▁▁</td></tr><tr><td>step_not_part_count</td><td>▁▁▅▅▁▅▅████████▅▅▅▅▅█▅▅█▅▅▅█▅▅▅▅▅▅▅▅▅▅▅▅</td></tr><tr><td>step_not_res_count</td><td>▁▂█▂▂▁▇▇▂▄▁▄▁▇▅█▅▁▇▁▇▁▇▁▁▁▁▇▁▇▁▅▁██▂▅▁▇▁</td></tr><tr><td>step_penalties</td><td>██▁▅██▇▆█████▆█▇▅█▇█▇█▇████▇█████▇▅█▇█▇█</td></tr><tr><td>step_profit</td><td>▁▁▁▄▆▂▁▁▅▁▁▂▅▁▁▁▂▃▁▂▁▂▁▁▃▃█▁▂▃▂▂▁▁▁▂▁▂▁▃</td></tr><tr><td>step_res_count</td><td>▁▁▁▇▇█▂▁▅▄▇▄▇▁▂▁▄█▂█▁█▂▇███▁█▂█▄█▁▁▇▄█▂█</td></tr><tr><td>step_res_ratio</td><td>▁▁▁▇▆█▂▁▆▅█▅█▁▃▁▄█▂█▁█▂████▁█▂█▄█▁▁▇▄█▂█</td></tr><tr><td>step_revenue</td><td>▁▁▅▆▆▂▃▂▅▂▁▂▅▄▂▂▆▃▂▂▂▂▂▁▃▃█▃▂▄▂▂▁▃▅▃▃▂▃▃</td></tr><tr><td>step_reward</td><td>▁▂▄▇▇█▅▄▆▅▇▆▇▄▅▅▆█▅█▄█▆▇███▄█▆█▆█▅▅▇▆█▅█</td></tr><tr><td>step_won_count</td><td>▁▂█████▇▇▇▇▇▇▇▇█████▇██▇███▇████████████</td></tr><tr><td>step_won_ratio</td><td>▁▂█████▇▇▇▇▇▇▇▇█████▇██▇███▇████████████</td></tr><tr><td>total_activ_count</td><td>▁▁▁▁▁▂▂▂▂▂▂▃▃▃▃▃▃▃▄▄▄▄▄▅▅▅▅▅▆▆▆▆▆▇▇▇▇███</td></tr><tr><td>total_lost_count</td><td>▁▅▇▇▇███████████████████████████████████</td></tr><tr><td>total_not_activ_count</td><td>▁▁▁▁▁▁▁▁▁▁▁▁▁▁▁▁▁▁▁▁▁▁▁▁▁▁▁▁▁▁▁▁▁▁▁▁▁▁▁▁</td></tr><tr><td>total_not_part_count</td><td>▁▁▁▁▁▂▂▂▂▂▃▃▃▃▄▄▄▄▄▅▅▅▅▅▆▆▆▆▆▆▇▇▇▇▇▇████</td></tr><tr><td>total_not_res_count</td><td>▁▁▁▂▂▂▂▂▃▃▃▃▃▃▃▄▄▄▄▄▅▅▅▅▅▆▆▆▆▆▆▇▇▇▇▇████</td></tr><tr><td>total_penalties</td><td>███▆▆▆▆▅▅▅▅▅▅▄▄▄▄▄▃▃▃▃▃▃▃▂▂▂▂▂▂▂▂▂▂▁▁▁▁▁</td></tr><tr><td>total_profit</td><td>▁▁▁▁▂▂▂▂▂▃▃▃▃▃▃▄▄▄▄▄▄▅▅▅▅▅▆▆▆▆▆▇▇▇▇▇▇▇██</td></tr><tr><td>total_profit_test</td><td>▁</td></tr><tr><td>total_res_count</td><td>▁▁▁▁▁▂▂▂▂▂▂▃▃▃▃▃▃▃▄▄▄▄▄▅▅▅▅▅▆▆▆▆▆▇▇▇▇███</td></tr><tr><td>total_revenue</td><td>▁▁▁▂▂▂▂▃▃▃▃▃▃▄▄▄▄▄▅▅▅▅▅▅▆▆▆▆▆▆▇▇▇▇▇▇▇███</td></tr><tr><td>total_reward</td><td>▁▁▁▁▁▂▂▂▂▂▃▃▃▃▃▃▃▄▄▄▄▄▅▅▅▅▅▆▆▆▆▆▇▇▇▇▇███</td></tr><tr><td>total_reward_test</td><td>▁</td></tr><tr><td>total_won_count</td><td>▁▁▁▁▁▂▂▂▂▂▃▃▃▃▃▃▄▄▄▄▄▄▅▅▅▅▅▆▆▆▆▆▇▇▇▇▇███</td></tr></table><br/></div><div class=\"wandb-col\"><h3>Run summary:</h3><br/><table class=\"wandb\"><tr><td>global_step</td><td>5570</td></tr><tr><td>step_activ_count</td><td>4</td></tr><tr><td>step_activ_ratio</td><td>1.0</td></tr><tr><td>step_lost_count</td><td>0</td></tr><tr><td>step_not_activ_count</td><td>0</td></tr><tr><td>step_not_part_count</td><td>2</td></tr><tr><td>step_not_res_count</td><td>0</td></tr><tr><td>step_penalties</td><td>0.0</td></tr><tr><td>step_profit</td><td>597.02</td></tr><tr><td>step_res_count</td><td>4</td></tr><tr><td>step_res_ratio</td><td>1.0</td></tr><tr><td>step_revenue</td><td>597.02</td></tr><tr><td>step_reward</td><td>0.6767</td></tr><tr><td>step_won_count</td><td>4</td></tr><tr><td>step_won_ratio</td><td>0.66667</td></tr><tr><td>total_activ_count</td><td>14112</td></tr><tr><td>total_lost_count</td><td>1575</td></tr><tr><td>total_not_activ_count</td><td>0</td></tr><tr><td>total_not_part_count</td><td>7533</td></tr><tr><td>total_not_res_count</td><td>10206</td></tr><tr><td>total_penalties</td><td>-5986583.81561</td></tr><tr><td>total_profit</td><td>2168926.73611</td></tr><tr><td>total_profit_test</td><td>29346.67</td></tr><tr><td>total_res_count</td><td>14112</td></tr><tr><td>total_revenue</td><td>4002030.59</td></tr><tr><td>total_reward</td><td>3488.73604</td></tr><tr><td>total_reward_test</td><td>48.9</td></tr><tr><td>total_won_count</td><td>24318</td></tr></table><br/></div></div>"
      ],
      "text/plain": [
       "<IPython.core.display.HTML object>"
      ]
     },
     "metadata": {},
     "output_type": "display_data"
    },
    {
     "data": {
      "text/html": [
       "You can sync this run to the cloud by running:<br/><code>wandb sync /Users/Jan-Lukas.Pflaum/Dev/masterthesis/wandb/offline-run-20221214_193627-vktvr369<code>"
      ],
      "text/plain": [
       "<IPython.core.display.HTML object>"
      ]
     },
     "metadata": {},
     "output_type": "display_data"
    },
    {
     "data": {
      "text/html": [
       "Find logs at: <code>./wandb/offline-run-20221214_193627-vktvr369/logs</code>"
      ],
      "text/plain": [
       "<IPython.core.display.HTML object>"
      ]
     },
     "metadata": {},
     "output_type": "display_data"
    },
    {
     "name": "stdout",
     "output_type": "stream",
     "text": [
      "Find logs at: /Users/Jan-Lukas.Pflaum/Dev/masterthesis/wandb/debug-cli.Jan-Lukas.Pflaum.log\n",
      "Syncing: https://wandb.ai/jlu237/RL-optuna/runs/vktvr369 ... done.\n"
     ]
    },
    {
     "name": "stderr",
     "output_type": "stream",
     "text": [
      "\u001b[32m[I 2022-12-14 19:43:05,808]\u001b[0m Trial 0 finished with value: 48.9 and parameters: {'learning_rate': 0.012918013271046535, 'n_steps': 4, 'batch_size': 128, 'n_epochs': 5, 'gamma': 0.99, 'gae_lambda': 0.95, 'clip_range': 0.2, 'normalize_advantage': True, 'ent_coef': 0.05612287881484265, 'vf_coef': 0.06053713526513782, 'max_grad_norm': 2, 'target_kl': 0.005, 'lr_schedule': 'linear', 'use_sde': True, 'sde_sample_freq': 2, 'log_std_init': -0.9928450232926318, 'full_std': True, 'activation_fn': 'leaky_relu', 'ortho_init': True, 'net_arch': 'medium'}. Best is trial 0 with value: 48.9.\u001b[0m\n"
     ]
    }
   ],
   "source": [
    "#algo_list = [\"TD3\", \"PPO\", \"TRPO\", \"R_PPO\", \"DDPG\", \"A2C\", \"SAC\", \"TQC\"] # all \n",
    "\n",
    "ALGORITHM = \"R_PPO\"\n",
    "\n",
    "study = optuna.create_study(sampler=sampler, pruner=pruner, direction=\"maximize\")\n",
    "study.set_user_attr(\"algo\", ALGORITHM)\n",
    "\n",
    "try:\n",
    "    study.optimize(optimize_agent, n_trials=N_TRIALS, timeout=21000)\n",
    "\n",
    "except KeyboardInterrupt:\n",
    "    print('Interrupted by keyboard.')"
   ]
  },
  {
   "cell_type": "code",
   "execution_count": null,
   "id": "f62ab871-07e8-45dd-b1c3-98f1d78b0c6c",
   "metadata": {},
   "outputs": [],
   "source": []
  }
 ],
 "metadata": {
  "kernelspec": {
   "display_name": "Python 3 (ipykernel)",
   "language": "python",
   "name": "python3"
  },
  "language_info": {
   "codemirror_mode": {
    "name": "ipython",
    "version": 3
   },
   "file_extension": ".py",
   "mimetype": "text/x-python",
   "name": "python",
   "nbconvert_exporter": "python",
   "pygments_lexer": "ipython3",
   "version": "3.8.9"
  }
 },
 "nbformat": 4,
 "nbformat_minor": 5
}
