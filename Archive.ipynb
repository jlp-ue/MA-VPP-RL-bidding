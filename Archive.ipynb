{
 "cells": [
  {
   "cell_type": "markdown",
   "id": "ee536362-0e1a-444a-8f59-0c3d45c1e071",
   "metadata": {},
   "source": [
    "# Archive"
   ]
  },
  {
   "cell_type": "code",
   "execution_count": null,
   "id": "fb53cc44-bdf3-44f2-be04-2cf03ddb21b4",
   "metadata": {},
   "outputs": [],
   "source": []
  },
  {
   "cell_type": "markdown",
   "id": "c2e67d47-a750-4b66-a6e0-3a91ad41fede",
   "metadata": {
    "tags": []
   },
   "source": [
    "## HER \n",
    "\n",
    "- HER is an algorithm that works with off-policy methods (SAC,TQC, TD3 and DDPG)\n",
    "- HER is no longer a separate algorithm but a replay buffer class HerReplayBuffer that must be passed to an off-policy algorithm when using MultiInputPolicy (to have Dict observation support).\n",
    "- HER requires the environment to inherits from gym.GoalEnv\n",
    "- For performance reasons, the maximum number of steps per episodes must be specified. In most cases, it will be inferred if you specify max_episode_steps when registering the environment or if you use a gym.wrappers.TimeLimit (and env.spec is not None). Otherwise, you can directly pass max_episode_length to the model constructor"
   ]
  },
  {
   "cell_type": "markdown",
   "id": "6a23c0fb-3b10-4a9a-9745-0e27d5096a2f",
   "metadata": {},
   "source": [
    "### Train"
   ]
  },
  {
   "cell_type": "raw",
   "id": "a634d46e-df73-485a-80c5-efb385cea9b1",
   "metadata": {},
   "source": [
    "from stable_baselines3 import HerReplayBuffer, DDPG, SAC, TD3\n",
    "from stable_baselines3.her.goal_selection_strategy import GoalSelectionStrategy\n",
    "\n",
    "model_class = TD3  # works also with SAC, DDPG and TD3\n",
    "\n",
    "env = make('VPPBiddingEnv-TRAIN-v1', render_mode=None)\n",
    "env = Monitor(env) \n",
    "env = RecordEpisodeStatistics(env) # record stats such as returns\n",
    "\n",
    "config = {\n",
    "    \"policy\": 'MultiInputPolicy',\n",
    "    \"total_timesteps\": experiment_timesteps #557\n",
    "}\n",
    "\n",
    "# Available strategies (cf paper): future, final, episode\n",
    "goal_selection_strategy = 'future' # equivalent to GoalSelectionStrategy.FUTURE\n",
    "\n",
    "# If True the HER transitions will get sampled online\n",
    "online_sampling = True\n",
    "\n",
    "# Time limit for the episodes\n",
    "max_episode_length = 1\n",
    "\n",
    "# Initialize the model\n",
    "model = model_class(\n",
    "    \"MultiInputPolicy\",\n",
    "    env,\n",
    "    replay_buffer_class=HerReplayBuffer,\n",
    "    # Parameters for HER\n",
    "    replay_buffer_kwargs=dict(\n",
    "        n_sampled_goal=4,\n",
    "        goal_selection_strategy=goal_selection_strategy,\n",
    "        online_sampling=online_sampling,\n",
    "        max_episode_length=max_episode_length,\n",
    "    ),\n",
    "    verbose=1,\n",
    ")\n",
    "\n",
    "wandb.init(\n",
    "    config=config,\n",
    "    sync_tensorboard=True,  # automatically upload SB3's tensorboard metrics to W&B\n",
    "    project=\"RL-VPP-Training\",\n",
    "    monitor_gym=True,       # automatically upload gym environements' videos\n",
    "    save_code=True,\n",
    "    entity=\"jlu237\", \n",
    "    tags=[\"normalized_obs\",\"new_action_high_price\", \"new_action_high_size\", \"delivery_simulation_4.0\", \"TD3\",\"training\", \"wind_config\", \"single vpp obs\", \"vpp config\", \"13MW config\", \"4kprice\", \"updated_reward\" , \"delivery_against_FCR\", \"pred_market_prices\"], \n",
    "    job_type=\"training\"\n",
    ")\n",
    "\n",
    "\n",
    "# Train the model\n",
    "model.learn(total_timesteps=config['total_timesteps'],\n",
    "            log_interval=1,\n",
    "            callback=WandbCallback(\n",
    "                gradient_save_freq=1,\n",
    "                verbose=1))\n",
    "wandb.finish()\n"
   ]
  },
  {
   "cell_type": "markdown",
   "id": "46151500-f7e8-48a2-9a33-5ff95914e688",
   "metadata": {},
   "source": [
    "### Eval "
   ]
  },
  {
   "cell_type": "raw",
   "id": "e2d65e39-136b-4d7b-8276-8a3dae3c7520",
   "metadata": {},
   "source": [
    "from stable_baselines3.common.monitor import Monitor\n",
    "\n",
    "eval_env = make('VPPBiddingEnv-EVAL-v1', render_mode=None)\n",
    "eval_env = RecordEpisodeStatistics(eval_env) # record stats such as returns\n",
    "\n",
    "wandb.init(\n",
    "    sync_tensorboard=True,  # automatically upload SB3's tensorboard metrics to W&B\n",
    "    project=\"RL-VPP-Evaluation\",\n",
    "    #monitor_gym=True,       # automatically upload gym environements' videos\n",
    "    save_code=True,\n",
    "    entity=\"jlu237\", \n",
    "    tags=[\"TD3\", \"normalized_obs\", \"wind_config\",\"eval\", \"single vpp obs\", \"vpp config\", \"price plots\",\"updated_reward\" , \"delivery_against_FCR\", \"pred_market_prices\"],\n",
    "    job_type=\"eval\"\n",
    ")\n",
    "\n",
    "\n",
    "tbl = wandb.Table(columns=[\"episode\", \"bid_submission_time\"])\n",
    "\n",
    "episodes = 140\n",
    "\n",
    "for i_episode in range(episodes):\n",
    "    observation = eval_env.reset()\n",
    "    for t in range(1):\n",
    "        eval_env.render()\n",
    "        logging.debug(\"observation : \" + str(observation))\n",
    "        action, _states = model.predict(observation)\n",
    "        observation, reward, done, info = eval_env.step(action)\n",
    "        if done:\n",
    "            print('Episode: {} Info: {}'.format(i_episode, info))\n",
    "            tbl.add_data(i_episode, info[\"bid_submission_time\"])\n",
    "            wandb.log({\"episode_reward\": reward,\n",
    "                       \"episode\": i_episode\n",
    "                      })\n",
    "            \n",
    "            break\n",
    "wandb.log({\"bid_submission_time\" : tbl})\n",
    "\n",
    "eval_env.close()\n",
    "mean_run_reward = info[\"total_reward\"] / episodes\n",
    "\n",
    "wandb.run.summary[\"mean_run_reward\"] = mean_run_reward\n",
    "print(\"Mean Run Reward: \" + str(mean_run_reward))\n",
    "wandb.finish()"
   ]
  },
  {
   "cell_type": "markdown",
   "id": "2c782547-9996-4ce4-9379-2d9a18f60bc0",
   "metadata": {
    "tags": []
   },
   "source": [
    "### Tuning TD3"
   ]
  },
  {
   "cell_type": "raw",
   "id": "60175bc1-df2c-4fd9-a430-1ce385df6538",
   "metadata": {
    "tags": []
   },
   "source": [
    "import optuna\n",
    "from stable_baselines3 import TD3\n",
    "from stable_baselines3.common.noise import NormalActionNoise, OrnsteinUhlenbeckActionNoise\n",
    "from stable_baselines3.common.monitor import Monitor\n",
    "from gym.wrappers import RecordEpisodeStatistics\n",
    "from wandb.integration.sb3 import WandbCallback\n",
    "\n",
    "\n",
    "def sample_td3_params(trial: optuna.Trial):\n",
    "    \"\"\"\n",
    "    Sampler for TD3 hyperparams.\n",
    "    :param trial:\n",
    "    :return:\n",
    "    \"\"\"\n",
    "    gamma = trial.suggest_categorical(\"gamma\", [0.9, 0.95, 0.98, 0.99, 0.995, 0.999, 0.9999])\n",
    "    learning_rate = trial.suggest_loguniform(\"learning_rate\", 1e-5, 1)\n",
    "    batch_size = trial.suggest_categorical(\"batch_size\", [16, 32, 64, 100, 128, 200])\n",
    "    buffer_size = trial.suggest_categorical(\"buffer_size\", [int(1e4), int(1e5), int(1e6)])\n",
    "    # Polyak coeff\n",
    "    tau = trial.suggest_categorical(\"tau\", [0.001, 0.005, 0.01, 0.02, 0.05, 0.08])\n",
    "\n",
    "    #train_freq = trial.suggest_categorical(\"train_freq\", [1, 4, 8, 16, 32, 64, 128, 256, 512])\n",
    "    #gradient_steps = train_freq\n",
    "    #learning_starts = trial.suggest_int('learning_starts', 0, 200, 10)  #default: 100\n",
    "\n",
    "\n",
    "    noise_type = trial.suggest_categorical(\"noise_type\", [\"ornstein-uhlenbeck\", \"normal\", None])\n",
    "    noise_std = trial.suggest_uniform(\"noise_std\", 0, 1)\n",
    "\n",
    "    # NOTE: Add \"verybig\" to net_arch when tuning HER\n",
    "    net_arch = trial.suggest_categorical(\"net_arch\", [\"small\", \"medium\", \"big\"])\n",
    "    # activation_fn = trial.suggest_categorical('activation_fn', [nn.Tanh, nn.ReLU, nn.ELU, nn.LeakyReLU])\n",
    "\n",
    "    net_arch = {\n",
    "        \"small\": [64, 64],\n",
    "        \"medium\": [256, 256],\n",
    "        \"big\": [400, 300],\n",
    "        # Uncomment for tuning HER\n",
    "        # \"verybig\": [256, 256, 256],\n",
    "    }[net_arch]\n",
    "\n",
    "    hyperparams = {\n",
    "        \"gamma\": gamma,\n",
    "        \"learning_rate\": learning_rate,\n",
    "        \"batch_size\": batch_size,\n",
    "        \"buffer_size\": buffer_size,\n",
    "        #\"train_freq\": train_freq,\n",
    "        #\"gradient_steps\": gradient_steps,\n",
    "        \"policy_kwargs\": dict(net_arch=net_arch),\n",
    "        \"tau\": tau,\n",
    "    }\n",
    "    \n",
    "    n_actions = 12      \n",
    "    if noise_type == \"normal\":\n",
    "        hyperparams[\"action_noise\"] = NormalActionNoise(\n",
    "            mean=np.zeros(n_actions), sigma=noise_std * np.ones(n_actions)\n",
    "        )\n",
    "    elif noise_type == \"ornstein-uhlenbeck\":\n",
    "        hyperparams[\"action_noise\"] = OrnsteinUhlenbeckActionNoise(\n",
    "            mean=np.zeros(n_actions), sigma=noise_std * np.ones(n_actions)\n",
    "        )\n",
    "\n",
    "    return hyperparams\n",
    "\n",
    "\n",
    "\n",
    "\n",
    "def optimize_agent_td3(trial):\n",
    "    \"\"\" Train the model and optimize\n",
    "        Optuna maximises the negative log likelihood, so we\n",
    "        need to negate the reward here\n",
    "    \"\"\"\n",
    "   \n",
    "    \n",
    "    model_params = sample_td3_params(trial)\n",
    "    \n",
    "    # init tracking experiment.\n",
    "    # hyper-parameters, trial id are stored.\n",
    "    config = dict(trial.params)\n",
    "    config[\"trial.number\"] = trial.number\n",
    "    wandb.init(\n",
    "        project=\"RL-optuna\",\n",
    "        entity=\"jlu237\", \n",
    "        sync_tensorboard=True,\n",
    "        config=config,\n",
    "        tags=[\"TD3\"],\n",
    "        reinit=True\n",
    "    )\n",
    "    \n",
    "    env = make('VPPBiddingEnv-TRAIN-v1', render_mode=None)\n",
    "    env = Monitor(env) \n",
    "    env = RecordEpisodeStatistics(env) # record stats such as returns\n",
    "    \n",
    "    \n",
    "    model = TD3('MultiInputPolicy', env, verbose=0, tensorboard_log=f\"runs/td3\", seed = 1, **model_params)\n",
    "\n",
    "    model.learn(total_timesteps=2785,\n",
    "                log_interval=1,\n",
    "                callback=WandbCallback(\n",
    "                    gradient_save_freq=1,\n",
    "                    verbose=0))\n",
    "\n",
    "    wandb.finish()\n",
    "    \n",
    "study = optuna.create_study()\n",
    "try:\n",
    "    study.optimize(optimize_agent_td3, n_trials=20)\n",
    "except KeyboardInterrupt:\n",
    "    print('Interrupted by keyboard.')"
   ]
  },
  {
   "cell_type": "code",
   "execution_count": null,
   "id": "3292ec48-9510-4bf3-bd81-8c49290c6289",
   "metadata": {},
   "outputs": [],
   "source": []
  },
  {
   "cell_type": "markdown",
   "id": "c2ecf129-42e8-40b8-baf5-12947dce35d4",
   "metadata": {},
   "source": [
    "## Contrib packages: ARS"
   ]
  },
  {
   "cell_type": "markdown",
   "id": "b75361ac-459d-4e6b-823d-f673aa7e8cfa",
   "metadata": {},
   "source": [
    "### Train"
   ]
  },
  {
   "cell_type": "raw",
   "id": "4d5d63d6-eea5-4a62-afda-45ea0682a60f",
   "metadata": {},
   "source": [
    "from sb3_contrib import ARS\n",
    "from stable_baselines3.common.monitor import Monitor\n",
    "from gym.wrappers import RecordEpisodeStatistics\n",
    "from wandb.integration.sb3 import WandbCallback\n",
    "\n",
    "env = make('VPPBiddingEnv-TRAIN-v1', render_mode=None)\n",
    "env = Monitor(env) \n",
    "env = RecordEpisodeStatistics(env) # record stats such as returns\n",
    "\n",
    "\n",
    "config = {\n",
    "    \"policy\": 'MultiInputPolicy',\n",
    "    \"total_timesteps\": experiment_timesteps #557\n",
    "}\n",
    "\n",
    "wandb.init(\n",
    "    config=config,\n",
    "    sync_tensorboard=True,  # automatically upload SB3's tensorboard metrics to W&B\n",
    "    project=\"RL-VPP-Training\",\n",
    "    monitor_gym=True,       # automatically upload gym environements' videos\n",
    "    save_code=True,\n",
    "    entity=\"jlu237\", \n",
    "    tags=[\"ARS\"] + experiment_tags, \n",
    "    job_type=\"training\"\n",
    ")\n",
    "\n",
    "model = ARS(config['policy'], env, verbose=1)\n",
    "\n",
    "\n",
    "model.learn(total_timesteps=config['total_timesteps'],\n",
    "            log_interval=1,\n",
    "            callback=WandbCallback(\n",
    "                gradient_save_freq=1,\n",
    "                verbose=1))\n",
    "wandb.finish()\n"
   ]
  },
  {
   "cell_type": "markdown",
   "id": "bed10cd6-311b-43fb-b259-869a7bf03b88",
   "metadata": {},
   "source": [
    "### Eval "
   ]
  },
  {
   "cell_type": "raw",
   "id": "a74459ec-3e25-44b1-bdd7-d713ad3b14fa",
   "metadata": {},
   "source": [
    "from stable_baselines3.common.monitor import Monitor\n",
    "\n",
    "eval_env = make('VPPBiddingEnv-EVAL-v1', render_mode=None)\n",
    "eval_env = RecordEpisodeStatistics(eval_env) # record stats such as returns\n",
    "\n",
    "wandb.init(\n",
    "    sync_tensorboard=True,  # automatically upload SB3's tensorboard metrics to W&B\n",
    "    project=\"RL-VPP-Evaluation\",\n",
    "    #monitor_gym=True,       # automatically upload gym environements' videos\n",
    "    save_code=True,\n",
    "    entity=\"jlu237\", \n",
    "    tags=[\"TD3\"] + experiment_tags,\n",
    "    job_type=\"eval\"\n",
    ")\n",
    "\n",
    "\n",
    "tbl = wandb.Table(columns=[\"episode\", \"bid_submission_time\"])\n",
    "\n",
    "episodes = 140\n",
    "\n",
    "for i_episode in range(episodes):\n",
    "    observation = eval_env.reset()\n",
    "    for t in range(1):\n",
    "        eval_env.render()\n",
    "        logging.debug(\"observation : \" + str(observation))\n",
    "        action, _states = model.predict(observation)\n",
    "        observation, reward, done, info = eval_env.step(action)\n",
    "        if done:\n",
    "            print('Episode: {} Info: {}'.format(i_episode, info))\n",
    "            tbl.add_data(i_episode, info[\"bid_submission_time\"])\n",
    "            wandb.log({\"episode_reward\": reward,\n",
    "                       \"episode\": i_episode\n",
    "                      })\n",
    "            \n",
    "            break\n",
    "wandb.log({\"bid_submission_time\" : tbl})\n",
    "\n",
    "eval_env.close()\n",
    "mean_run_reward = info[\"total_reward\"] / episodes\n",
    "\n",
    "wandb.run.summary[\"mean_run_reward\"] = mean_run_reward\n",
    "print(\"Mean Run Reward: \" + str(mean_run_reward))\n",
    "wandb.finish()"
   ]
  },
  {
   "cell_type": "markdown",
   "id": "fb4bd42f-be1e-4d04-b6bd-32d3802d92c4",
   "metadata": {},
   "source": [
    "## Tuning DDPG"
   ]
  },
  {
   "cell_type": "markdown",
   "id": "e3116fbf-88c3-4cbe-babb-265d4e4e43a5",
   "metadata": {
    "tags": []
   },
   "source": [
    "### Parameters"
   ]
  },
  {
   "cell_type": "markdown",
   "id": "1fc9886d-3f4b-4811-92c1-b8de6a78699e",
   "metadata": {},
   "source": [
    "- policy = \"MlpPolicy\" , \"CnnPolicy\" , \"MultiInputPolicy\"\n",
    "- **learning_rate** = staic or range(1,0)\n",
    "- buffer_size (int) – size of the replay buffer\n",
    "- **learning_starts (int)** – how many steps of the model to collect transitions for before learning starts\n",
    "    -  For a fixed number of steps at the beginning (set with the start_steps keyword argument), the agent takes actions which are sampled from a uniform random distribution over valid actions. After that, it returns to normal DDPG exploration.\n",
    "- batch_size (int) – Minibatch size for each gradient update\n",
    "- **tau (float)** – the soft update coefficient (“Polyak update”, between 0 and 1)\n",
    "- gamma (float) – the discount factor\n",
    "- train_freq (Union[int, Tuple[int, str]]) – Update the model every train_freq steps. Alternatively pass a tuple of frequency and unit like (5, \"step\") or (2, \"episode\").\n",
    "- gradient_steps (int) – How many gradient steps to do after each rollout (see train_freq) Set to -1 means to do as many gradient steps as steps done in the environment during the rollout.\n",
    "- action_noise (Optional[ActionNoise]) – the action noise type (None by default), this can help for hard exploration problem. Cf common.noise for the different action noise type.\n",
    "    -  uncorrelated, mean-zero Gaussian noise works perfectly well. \n",
    "    -  To facilitate getting higher-quality training data, you may reduce the scale of the noise over the course of training. (We do not do this in our implementation, and keep noise scale fixed throughout.)\n",
    "\n",
    "\n",
    "- replay_buffer_class (Optional[ReplayBuffer]) – Replay buffer class to use (for instance HerReplayBuffer). If None, it will be automatically selected.\n",
    "- optimize_memory_usage (bool) – Enable a memory efficient variant of the replay buffer at a cost of more complexity. See https://github.com/DLR-RM/stable-baselines3/issues/37#issuecomment-637501195\n",
    "- create_eval_env (bool) – Whether to create a second environment that will be used for evaluating the agent periodically. (Only available when passing string for the environment)\n",
    "\n",
    "- seed (Optional[int]) – Seed for the pseudo random generators\n",
    "- _init_setup_model (bool) – Whether or not to build the network at the creation of the instance\n",
    "\n",
    "\n",
    "\n"
   ]
  },
  {
   "cell_type": "markdown",
   "id": "3cc8c753-42cc-4539-9837-3bebfd8a07f9",
   "metadata": {},
   "source": [
    "stable_baselines3.ddpg.MlpPolicy Parameters\n",
    "- lr_schedule (Callable[[float], float]) – Learning rate schedule (could be constant)\n",
    "- n_critics (int) – Number of critic networks to create.\n",
    "\n",
    "stable_baselines3.ddpg.MlpPolicy.set_training_mode()\n",
    "- mode (bool) – if true, set to training mode, else set to evaluation mode\n",
    "\n",
    "stable_baselines3.ddpg.CnnPolicy\n",
    "\n",
    "stable_baselines3.ddpg.MultiInputPolicy\n"
   ]
  },
  {
   "cell_type": "code",
   "execution_count": null,
   "id": "113fc1d7-ef25-4b60-b0cb-fd11c5699917",
   "metadata": {
    "tags": []
   },
   "outputs": [],
   "source": [
    "# hide all deprecation warnings from tensorflow\n",
    "#import tensorflow as tf\n",
    "#tf.compat.v1.logging.set_verbosity(tf.compat.v1.logging.ERROR)\n",
    "\n",
    "import optuna\n",
    "\n",
    "#from stable_baselines import PPO2\n",
    "from stable_baselines3 import DDPG\n",
    "from stable_baselines3 import HerReplayBuffer\n",
    "from gym.wrappers import RecordEpisodeStatistics\n",
    "from stable_baselines3.common.noise import NormalActionNoise\n",
    "#from stable_baselines.common.evaluation import evaluate_policy\n",
    "#from stable_baselines.common.cmd_util import make_vec_env\n",
    "\n",
    "# https://colab.research.google.com/github/araffin/rl-tutorial-jnrr19/blob/master/5_custom_gym_env.ipynb\n",
    "#from custom_env import GoLeftEnv\n",
    "\n",
    "# The noise objects for DDPG\n",
    "n_actions = env.action_space.shape[-1]\n",
    "normal_action_noise = NormalActionNoise(mean=np.zeros(n_actions), sigma=0.1 * np.ones(n_actions))\n",
    "\n",
    "\n",
    "def optimize_ddpg(trial):\n",
    "    \"\"\" Learning hyperparamters we want to optimise\"\"\"\n",
    "    \n",
    "    replay_buffer_class = trial.suggest_categorical(\"replay_buffer_class\", [\"HER\", \"None\"])\n",
    "    replay_buffer_class = {\"HER\": HerReplayBuffer, \"None\": None}[replay_buffer_class]\n",
    "    \n",
    "    action_noise = trial.suggest_categorical(\"action_noise\", [\"action_noise\", \"None\"])\n",
    "    action_noise = {\"action_noise\": normal_action_noise, \"None\": None}[action_noise]\n",
    "    \n",
    "    params =  {\n",
    "        'learning_rate': trial.suggest_loguniform('learning_rate', 0.0001, 1.0), #default: 0.001\n",
    "        'learning_starts': int(trial.suggest_int('learning_starts', 0, 200, 10)),  #default: 100\n",
    "        'batch_size': int(trial.suggest_int('batch_size', 0, 200,10)),  #default: 100\n",
    "        'tau': trial.suggest_loguniform('tau', 0.001, 1.0), #default: 0.005\n",
    "        'gamma': trial.suggest_loguniform('gamma', 0.9, 0.9999), # default: gamma=0.99\n",
    "        'replay_buffer_class' : replay_buffer_class,\n",
    "        'action_noise' : action_noise\n",
    "    }\n",
    "    \n",
    "    return params\n",
    "        \n",
    "\n",
    "\n",
    "\n",
    "def optimize_agent(trial):\n",
    "    \"\"\" Train the model and optimize\n",
    "        Optuna maximises the negative log likelihood, so we\n",
    "        need to negate the reward here\n",
    "    \"\"\"\n",
    "    \n",
    "    model_params = optimize_ddpg(trial)\n",
    "    \n",
    "    # init tracking experiment.\n",
    "    # hyper-parameters, trial id are stored.\n",
    "    config = dict(trial.params)\n",
    "    config[\"trial.number\"] = trial.number\n",
    "    wandb.init(\n",
    "        project=\"RL-optuna\",\n",
    "        entity=\"jlu237\", \n",
    "        sync_tensorboard=True,\n",
    "        config=config,\n",
    "        reinit=True\n",
    "    )\n",
    "    \n",
    "    env = make('VPPBiddingEnv-TRAIN-v1', render_mode=None)\n",
    "    env = Monitor(env) \n",
    "    env = RecordEpisodeStatistics(env) # record stats such as returns\n",
    "\n",
    "\n",
    "    model = DDPG('MultiInputPolicy', env, verbose=0, tensorboard_log=f\"runs/ddpg\", seed = 1, **model_params)\n",
    "    model.learn(total_timesteps=557, log_interval=1)\n",
    "    \n",
    "    wandb.finish()\n",
    "    \n",
    "study = optuna.create_study()\n",
    "try:\n",
    "    study.optimize(optimize_agent, n_trials=20)\n",
    "except KeyboardInterrupt:\n",
    "    print('Interrupted by keyboard.')"
   ]
  },
  {
   "cell_type": "code",
   "execution_count": null,
   "id": "1f29df0b-648f-47be-9295-d2b7e783cec1",
   "metadata": {},
   "outputs": [],
   "source": [
    "env = make('VPPBiddingEnv-TRAIN-v1', render_mode=None)\n",
    "env.observation_space.spaces[\"observation\"]"
   ]
  },
  {
   "cell_type": "code",
   "execution_count": null,
   "id": "ab561b53-3a21-4da5-a2fd-60a8d5ab1769",
   "metadata": {},
   "outputs": [],
   "source": [
    "print(\"Number of finished trials: {}\".format(len(study.trials)))\n",
    "\n",
    "print(\"Best trial:\")\n",
    "trial = study.best_trial\n",
    "\n",
    "print(\"  Value: {}\".format(trial.value))\n",
    "\n",
    "print(\"  Params: \")\n",
    "for key, value in trial.params.items():\n",
    "    print(\"    {}: {}\".format(key, value))\n"
   ]
  },
  {
   "cell_type": "code",
   "execution_count": null,
   "id": "a12fc582-7136-4593-8827-0bdbb5fca0d9",
   "metadata": {},
   "outputs": [],
   "source": [
    "model.get_parameters()[\"critic.optimizer\"][\"param_groups\"]"
   ]
  },
  {
   "cell_type": "code",
   "execution_count": null,
   "id": "eb8a5f3d-d856-4177-af88-62b65218b88d",
   "metadata": {},
   "outputs": [],
   "source": [
    "model.get_parameters()[\"actor.optimizer\"][\"param_groups\"]"
   ]
  },
  {
   "cell_type": "code",
   "execution_count": null,
   "id": "65547017-73af-49f5-8d02-2d8a00f95b87",
   "metadata": {
    "tags": []
   },
   "outputs": [],
   "source": [
    "# !apt-get install swig cmake ffmpeg freeglut3-dev xvfb"
   ]
  },
  {
   "cell_type": "code",
   "execution_count": null,
   "id": "6dd6a7e9-8ae5-4983-abdc-0ad45971bb75",
   "metadata": {},
   "outputs": [],
   "source": [
    "# Alternative from araffin for optuna from: https://github.com/optuna/optuna-examples/blob/52ed3aff3e3e936be3873b5acc6ee3ccdadea914/rl/sb3_simple.py#L60\n",
    "\n",
    "\"\"\" Optuna example that optimizes the hyperparameters of\n",
    "a reinforcement learning agent using A2C implementation from Stable-Baselines3\n",
    "on a OpenAI Gym environment.\n",
    "\n",
    "This is a simplified version of what can be found in https://github.com/DLR-RM/rl-baselines3-zoo.\n",
    "\n",
    "You can run this example as follows:\n",
    "    $ python sb3_simple.py\n",
    "\n",
    "\"\"\"\n",
    "from typing import Any\n",
    "from typing import Dict\n",
    "\n",
    "import gym\n",
    "import optuna\n",
    "from optuna.pruners import MedianPruner\n",
    "from optuna.samplers import TPESampler\n",
    "from stable_baselines3 import A2C\n",
    "from stable_baselines3.common.callbacks import EvalCallback\n",
    "import torch\n",
    "import torch.nn as nn\n",
    "\n",
    "\n",
    "N_TRIALS = 100\n",
    "N_STARTUP_TRIALS = 5\n",
    "N_EVALUATIONS = 2\n",
    "N_TIMESTEPS = int(2e4)\n",
    "EVAL_FREQ = int(N_TIMESTEPS / N_EVALUATIONS)\n",
    "N_EVAL_EPISODES = 3\n",
    "\n",
    "ENV_ID = \"CartPole-v1\"\n",
    "\n",
    "DEFAULT_HYPERPARAMS = {\n",
    "    \"policy\": \"MlpPolicy\",\n",
    "    \"env\": ENV_ID,\n",
    "}\n",
    "\n",
    "\n",
    "def sample_a2c_params(trial: optuna.Trial) -> Dict[str, Any]:\n",
    "    \"\"\"Sampler for A2C hyperparameters.\"\"\"\n",
    "    gamma = 1.0 - trial.suggest_float(\"gamma\", 0.0001, 0.1, log=True)\n",
    "    max_grad_norm = trial.suggest_float(\"max_grad_norm\", 0.3, 5.0, log=True)\n",
    "    gae_lambda = 1.0 - trial.suggest_float(\"gae_lambda\", 0.001, 0.2, log=True)\n",
    "    n_steps = 2 ** trial.suggest_int(\"exponent_n_steps\", 3, 10)\n",
    "    learning_rate = trial.suggest_float(\"lr\", 1e-5, 1, log=True)\n",
    "    ent_coef = trial.suggest_float(\"ent_coef\", 0.00000001, 0.1, log=True)\n",
    "    ortho_init = trial.suggest_categorical(\"ortho_init\", [False, True])\n",
    "    net_arch = trial.suggest_categorical(\"net_arch\", [\"tiny\", \"small\"])\n",
    "    activation_fn = trial.suggest_categorical(\"activation_fn\", [\"tanh\", \"relu\"])\n",
    "\n",
    "    # Display true values\n",
    "    trial.set_user_attr(\"gamma_\", gamma)\n",
    "    trial.set_user_attr(\"gae_lambda_\", gae_lambda)\n",
    "    trial.set_user_attr(\"n_steps\", n_steps)\n",
    "\n",
    "    net_arch = [\n",
    "        {\"pi\": [64], \"vf\": [64]} if net_arch == \"tiny\" else {\"pi\": [64, 64], \"vf\": [64, 64]}\n",
    "    ]\n",
    "\n",
    "    activation_fn = {\"tanh\": nn.Tanh, \"relu\": nn.ReLU}[activation_fn]\n",
    "\n",
    "    return {\n",
    "        \"n_steps\": n_steps,\n",
    "        \"gamma\": gamma,\n",
    "        \"gae_lambda\": gae_lambda,\n",
    "        \"learning_rate\": learning_rate,\n",
    "        \"ent_coef\": ent_coef,\n",
    "        \"max_grad_norm\": max_grad_norm,\n",
    "        \"policy_kwargs\": {\n",
    "            \"net_arch\": net_arch,\n",
    "            \"activation_fn\": activation_fn,\n",
    "            \"ortho_init\": ortho_init,\n",
    "        },\n",
    "    }\n",
    "\n",
    "\n",
    "class TrialEvalCallback(EvalCallback):\n",
    "    \"\"\"Callback used for evaluating and reporting a trial.\"\"\"\n",
    "\n",
    "    def __init__(\n",
    "        self,\n",
    "        eval_env: gym.Env,\n",
    "        trial: optuna.Trial,\n",
    "        n_eval_episodes: int = 5,\n",
    "        eval_freq: int = 10000,\n",
    "        deterministic: bool = True,\n",
    "        verbose: int = 0,\n",
    "    ):\n",
    "\n",
    "        super().__init__(\n",
    "            eval_env=eval_env,\n",
    "            n_eval_episodes=n_eval_episodes,\n",
    "            eval_freq=eval_freq,\n",
    "            deterministic=deterministic,\n",
    "            verbose=verbose,\n",
    "        )\n",
    "        self.trial = trial\n",
    "        self.eval_idx = 0\n",
    "        self.is_pruned = False\n",
    "\n",
    "    def _on_step(self) -> bool:\n",
    "        if self.eval_freq > 0 and self.n_calls % self.eval_freq == 0:\n",
    "            super()._on_step()\n",
    "            self.eval_idx += 1\n",
    "            self.trial.report(self.last_mean_reward, self.eval_idx)\n",
    "            # Prune trial if need\n",
    "            if self.trial.should_prune():\n",
    "                self.is_pruned = True\n",
    "                return False\n",
    "        return True\n",
    "\n",
    "\n",
    "def objective(trial: optuna.Trial) -> float:\n",
    "\n",
    "    kwargs = DEFAULT_HYPERPARAMS.copy()\n",
    "    # Sample hyperparameters\n",
    "    kwargs.update(sample_a2c_params(trial))\n",
    "    # Create the RL model\n",
    "    model = A2C(**kwargs)\n",
    "    # Create env used for evaluation\n",
    "    eval_env = gym.make(ENV_ID)\n",
    "    # Create the callback that will periodically evaluate\n",
    "    # and report the performance\n",
    "    eval_callback = TrialEvalCallback(\n",
    "        eval_env, trial, n_eval_episodes=N_EVAL_EPISODES, eval_freq=EVAL_FREQ, deterministic=True\n",
    "    )\n",
    "\n",
    "    nan_encountered = False\n",
    "    try:\n",
    "        model.learn(N_TIMESTEPS, callback=eval_callback)\n",
    "    except AssertionError as e:\n",
    "        # Sometimes, random hyperparams can generate NaN\n",
    "        print(e)\n",
    "        nan_encountered = True\n",
    "    finally:\n",
    "        # Free memory\n",
    "        model.env.close()\n",
    "        eval_env.close()\n",
    "\n",
    "    # Tell the optimizer that the trial failed\n",
    "    if nan_encountered:\n",
    "        return float(\"nan\")\n",
    "\n",
    "    if eval_callback.is_pruned:\n",
    "        raise optuna.exceptions.TrialPruned()\n",
    "\n",
    "    return eval_callback.last_mean_reward\n",
    "\n",
    "\n",
    "if __name__ == \"__main__\":\n",
    "    # Set pytorch num threads to 1 for faster training\n",
    "    torch.set_num_threads(1)\n",
    "\n",
    "    sampler = TPESampler(n_startup_trials=N_STARTUP_TRIALS)\n",
    "    # Do not prune before 1/3 of the max budget is used\n",
    "    pruner = MedianPruner(n_startup_trials=N_STARTUP_TRIALS, n_warmup_steps=N_EVALUATIONS // 3)\n",
    "\n",
    "    study = optuna.create_study(sampler=sampler, pruner=pruner, direction=\"maximize\")\n",
    "    try:\n",
    "        study.optimize(objective, n_trials=N_TRIALS, timeout=600)\n",
    "    except KeyboardInterrupt:\n",
    "        pass\n",
    "\n",
    "    print(\"Number of finished trials: \", len(study.trials))\n",
    "\n",
    "    print(\"Best trial:\")\n",
    "    trial = study.best_trial\n",
    "\n",
    "    print(\"  Value: \", trial.value)\n",
    "\n",
    "    print(\"  Params: \")\n",
    "    for key, value in trial.params.items():\n",
    "        print(\"    {}: {}\".format(key, value))\n",
    "\n",
    "    print(\"  User attrs:\")\n",
    "    for key, value in trial.user_attrs.items():\n",
    "        print(\"    {}: {}\".format(key, value))"
   ]
  },
  {
   "cell_type": "code",
   "execution_count": null,
   "id": "2595a94c-b54c-494d-9359-1250634e7370",
   "metadata": {},
   "outputs": [],
   "source": [
    "# code from https://github.com/DLR-RM/rl-baselines3-zoo/blob/master/utils/hyperparams_opt.py#L340\n",
    "\n",
    "def sample_ddpg_params(trial: optuna.Trial) -> Dict[str, Any]:\n",
    "    \"\"\"\n",
    "    Sampler for DDPG hyperparams.\n",
    "    :param trial:\n",
    "    :return:\n",
    "    \"\"\"\n",
    "    gamma = trial.suggest_categorical(\"gamma\", [0.9, 0.95, 0.98, 0.99, 0.995, 0.999, 0.9999])\n",
    "    learning_rate = trial.suggest_loguniform(\"learning_rate\", 1e-5, 1)\n",
    "    batch_size = trial.suggest_categorical(\"batch_size\", [16, 32, 64, 100, 128, 256, 512, 1024, 2048])\n",
    "    buffer_size = trial.suggest_categorical(\"buffer_size\", [int(1e4), int(1e5), int(1e6)])\n",
    "    # Polyak coeff\n",
    "    tau = trial.suggest_categorical(\"tau\", [0.001, 0.005, 0.01, 0.02, 0.05, 0.08])\n",
    "\n",
    "    train_freq = trial.suggest_categorical(\"train_freq\", [1, 4, 8, 16, 32, 64, 128, 256, 512])\n",
    "    gradient_steps = train_freq\n",
    "\n",
    "    noise_type = trial.suggest_categorical(\"noise_type\", [\"ornstein-uhlenbeck\", \"normal\", None])\n",
    "    noise_std = trial.suggest_uniform(\"noise_std\", 0, 1)\n",
    "\n",
    "    # NOTE: Add \"verybig\" to net_arch when tuning HER (see TD3)\n",
    "    net_arch = trial.suggest_categorical(\"net_arch\", [\"small\", \"medium\", \"big\"])\n",
    "    # activation_fn = trial.suggest_categorical('activation_fn', [nn.Tanh, nn.ReLU, nn.ELU, nn.LeakyReLU])\n",
    "\n",
    "    net_arch = {\n",
    "        \"small\": [64, 64],\n",
    "        \"medium\": [256, 256],\n",
    "        \"big\": [400, 300],\n",
    "    }[net_arch]\n",
    "\n",
    "    hyperparams = {\n",
    "        \"gamma\": gamma,\n",
    "        \"tau\": tau,\n",
    "        \"learning_rate\": learning_rate,\n",
    "        \"batch_size\": batch_size,\n",
    "        \"buffer_size\": buffer_size,\n",
    "        \"train_freq\": train_freq,\n",
    "        \"gradient_steps\": gradient_steps,\n",
    "        \"policy_kwargs\": dict(net_arch=net_arch),\n",
    "    }\n",
    "\n",
    "    if noise_type == \"normal\":\n",
    "        hyperparams[\"action_noise\"] = NormalActionNoise(\n",
    "            mean=np.zeros(trial.n_actions), sigma=noise_std * np.ones(trial.n_actions)\n",
    "        )\n",
    "    elif noise_type == \"ornstein-uhlenbeck\":\n",
    "        hyperparams[\"action_noise\"] = OrnsteinUhlenbeckActionNoise(\n",
    "            mean=np.zeros(trial.n_actions), sigma=noise_std * np.ones(trial.n_actions)\n",
    "        )\n",
    "\n",
    "    if trial.using_her_replay_buffer:\n",
    "        hyperparams = sample_her_params(trial, hyperparams)\n",
    "\n",
    "    return hyperparams\n"
   ]
  },
  {
   "cell_type": "code",
   "execution_count": null,
   "id": "bf6aa9ae-60e3-4883-92dc-ace359490085",
   "metadata": {},
   "outputs": [],
   "source": [
    "!git clone --recursive https://github.com/DLR-RM/rl-baselines3-zoo"
   ]
  },
  {
   "cell_type": "code",
   "execution_count": null,
   "id": "96fdea8e-d3c1-45cf-b553-48888d84129a",
   "metadata": {},
   "outputs": [],
   "source": [
    "#!cd rl-baselines3-zoo/"
   ]
  },
  {
   "cell_type": "code",
   "execution_count": null,
   "id": "22118a2f-73c6-41d4-9ec4-4386b2640040",
   "metadata": {
    "tags": []
   },
   "outputs": [],
   "source": [
    "!pip install -r rl-baselines3-zoo/requirements.txt"
   ]
  },
  {
   "cell_type": "code",
   "execution_count": null,
   "id": "0a31c9f0-a711-4ab2-ab94-1d59883130b9",
   "metadata": {},
   "outputs": [],
   "source": [
    "!python rl-baselines3-zoo/train.py --algo ddpg --env VPPBiddingEnv-TRAIN-v1 -n 697 -optimize --n-trials 5 --n-jobs -1 \\\n",
    "  --sampler tpe --pruner median"
   ]
  },
  {
   "cell_type": "code",
   "execution_count": null,
   "id": "b9303ab0-a3c2-46c4-a3ed-b5711abf6e2a",
   "metadata": {},
   "outputs": [],
   "source": [
    "!python rl-baselines3-zoo/scripts/parse_study.py -i path/to/study.pkl --print-n-best-trials 10 --save-n-best-hyperparameters 10\n"
   ]
  },
  {
   "cell_type": "markdown",
   "id": "523670b5-5ee4-40e9-981f-c7dbeade9d8f",
   "metadata": {
    "tags": []
   },
   "source": [
    "### PPO - Proximal Policy Optimization algorithm "
   ]
  },
  {
   "cell_type": "markdown",
   "id": "6f3abb61-6f06-4f0e-a91b-7b5f6d37ca5a",
   "metadata": {},
   "source": [
    "#### Train the agent"
   ]
  },
  {
   "cell_type": "raw",
   "id": "7683812c-96a8-4de7-855f-3b50389b6e7a",
   "metadata": {
    "tags": []
   },
   "source": [
    "from stable_baselines3 import PPO\n",
    "from stable_baselines3.ppo import MultiInputPolicy\n",
    "from stable_baselines3.common.callbacks import StopTrainingOnMaxEpisodes\n",
    "\n",
    "env = make('VPPBiddingEnv-TRAIN-v1', render_mode=None)\n",
    "\n",
    "callback_max_episodes = StopTrainingOnMaxEpisodes(max_episodes=363, verbose=1)\n",
    "\n",
    "model = PPO(MultiInputPolicy, env, verbose=1) # the verbosity level: 0 no output, 1 info, 2 debug\n",
    "model.learn(total_timesteps=1, callback=callback_max_episodes)"
   ]
  },
  {
   "cell_type": "markdown",
   "id": "ee5236bf-fcef-4d7d-8204-d1221b4990f3",
   "metadata": {},
   "source": [
    "#### Evaluate Agent"
   ]
  },
  {
   "cell_type": "raw",
   "id": "708a51e0-ff5d-4d58-82ba-66d61dd3916e",
   "metadata": {
    "tags": []
   },
   "source": [
    "from stable_baselines3.common.evaluation import evaluate_policy\n",
    "from stable_baselines3.common.monitor import Monitor\n",
    "\n",
    "\n",
    "eval_env = make('VPPBiddingEnv-EVAL-v1', render_mode=None)\n",
    "\n",
    "eval_env_monitor = Monitor(eval_env)   # won't work with vectorized enviroments, will throw cryptic errors\n",
    "\n",
    "mean_reward, std_reward = evaluate_policy(model, eval_env_monitor, n_eval_episodes=363)\n",
    "\n",
    "logging.warning(\"Mean reward: {} , +/-  {} \".format(mean_reward , std_reward))\n",
    "print(\"Mean reward: {} , +/-  {} \".format(mean_reward , std_reward))"
   ]
  },
  {
   "cell_type": "markdown",
   "id": "adb02ce8-7506-49c9-9b7f-a7554c43967b",
   "metadata": {
    "tags": []
   },
   "source": [
    "## A2C - synchronous, deterministic variant of Asynchronous Advantage Actor Critic (A3C)"
   ]
  },
  {
   "cell_type": "markdown",
   "id": "29857cf2-c9f0-42a7-bc57-2b8d9df1dcf8",
   "metadata": {},
   "source": [
    "#### Training"
   ]
  },
  {
   "cell_type": "raw",
   "id": "9550eef9-1d7e-4909-829d-67173c4a3e9e",
   "metadata": {},
   "source": [
    "from stable_baselines3 import A2C\n",
    "from stable_baselines3.common.env_util import make_vec_env\n",
    "from stable_baselines3.common.callbacks import StopTrainingOnMaxEpisodes\n",
    "\n",
    "# Parallel environments\n",
    "env = make_vec_env(\"VPPBiddingEnv-TRAIN-v1\", n_envs=1)\n",
    "\n",
    "model = A2C(policy = \"MultiInputPolicy\", env = env, verbose=2, n_steps=363)\n",
    "\n",
    "#callback_max_episodes = StopTrainingOnMaxEpisodes(max_episodes=363, verbose=1)\n",
    "#model.learn(total_timesteps=1, callback=callback_max_episodes)\n",
    "model.learn(total_timesteps=1)\n",
    "\n",
    "#model.save(\"a2c_cartpole\")\n",
    "#del model # remove to demonstrate saving and loading\n",
    "#model = A2C.load(\"a2c_cartpole\")\n"
   ]
  },
  {
   "cell_type": "markdown",
   "id": "9170cfb9-fcaf-4f55-b9c2-c28230c40144",
   "metadata": {},
   "source": [
    "#### Eval"
   ]
  },
  {
   "cell_type": "raw",
   "id": "8348355c-1007-47a7-955d-0376cfa02423",
   "metadata": {},
   "source": [
    "from stable_baselines3.common.evaluation import evaluate_policy\n",
    "from stable_baselines3.common.monitor import Monitor\n",
    "\n",
    "eval_env = make('VPPBiddingEnv-EVAL-v1', render_mode=None)\n",
    "\n",
    "eval_env_monitor = Monitor(eval_env)   # won't work with vectorized enviroments, will throw cryptic errors\n",
    "\n",
    "mean_reward, std_reward = evaluate_policy(model, eval_env_monitor, n_eval_episodes=363)\n",
    "\n",
    "logging.warning(\"Mean reward: {} , +/-  {} \".format(mean_reward , std_reward))\n",
    "print(\"Mean reward: {} , +/-  {} \".format(mean_reward , std_reward))"
   ]
  },
  {
   "cell_type": "markdown",
   "id": "d639a96c-1644-4420-a5f8-8aa984ea07fc",
   "metadata": {
    "tags": []
   },
   "source": [
    "## Other Algorithm "
   ]
  },
  {
   "cell_type": "code",
   "execution_count": null,
   "id": "a7d04aa7-76d6-4cb4-a55f-863f2c919afa",
   "metadata": {},
   "outputs": [],
   "source": [
    "# todo"
   ]
  },
  {
   "cell_type": "markdown",
   "id": "2bb70976-442b-4d5a-9530-e240df4da0c5",
   "metadata": {
    "tags": []
   },
   "source": [
    "## DQN -- needs Discrete Action Space. "
   ]
  },
  {
   "cell_type": "raw",
   "id": "fcc58c61-4f37-4e1d-9c6e-23b5a437855b",
   "metadata": {
    "tags": []
   },
   "source": [
    "from stable_baselines3 import DQN\n",
    "\n",
    "model = DQN('MlpPolicy', env, verbose=1, exploration_final_eps=0.1, target_update_interval=250)\n",
    "# Train the agent\n",
    "model.learn(total_timesteps=int(1e5))\n",
    "# Save the agent\n",
    "model.save(\"dqn_vpp\")\n",
    "del model  # delete trained model to demonstrate loading\n",
    "model = DQN.load(\"dqn_vpp\")"
   ]
  },
  {
   "cell_type": "raw",
   "id": "a67ec345-70e3-46d9-9257-91d16fbfedc4",
   "metadata": {},
   "source": [
    "\n",
    "# Use a separate environement for evaluation\n",
    "eval_env = VPPBiddingEnv(renewables_df = renewables_df,\n",
    "                    bids_df = bids_df,\n",
    "                    tenders_df = tenders_df,\n",
    "                    time_features_df = time_features_df,\n",
    "                    hist_window_size = hist_window_size,\n",
    "                    forecast_window_size = forecast_window_size,\n",
    "                    frame_bound = frame_bound,\n",
    "                    log_level = \"INFO\" # \"DEBUG\" , \"INFO\" or  \"WARNING\"\n",
    "                   )\n",
    "\n",
    "\n",
    "# Evaluate the trained agent\n",
    "mean_reward, std_reward = evaluate_policy(model, eval_env, n_eval_episodes=10, deterministic=True)\n",
    "\n",
    "print(f\"mean_reward={mean_reward:.2f} +/- {std_reward}\")"
   ]
  },
  {
   "cell_type": "markdown",
   "id": "be39bf7b-9caf-4b5a-9113-2c52bf918f0d",
   "metadata": {
    "jp-MarkdownHeadingCollapsed": true,
    "tags": []
   },
   "source": [
    "# Testing"
   ]
  },
  {
   "cell_type": "markdown",
   "id": "5a7e7972-5b3e-4359-9dfe-147714f17917",
   "metadata": {},
   "source": [
    "#### Run Episodes"
   ]
  },
  {
   "cell_type": "raw",
   "id": "4891ba18-0960-43a5-823d-5ce311b42958",
   "metadata": {
    "tags": []
   },
   "source": [
    "env = make('VPPBiddingEnv-TEST-v1')\n",
    "\n",
    "\n",
    "episodes = 2\n",
    "\n",
    "for episode in range(episodes):\n",
    "    logging.info('Start of Episode:{} '.format(episode))\n",
    "    observation = env.reset()\n",
    "\n",
    "    \n",
    "    # timestep defined as: 1 step = 1 day.\n",
    "    for timestep in range(1):\n",
    "        #env.render()\n",
    "        #logging.info(observation)\n",
    "        action = env.action_space.sample()\n",
    "\n",
    "        observation, reward, done, info = env.step(action)\n",
    "        if done:\n",
    "            logging.warning('Episode: {} Info: {}'.format(episode, info))\n",
    "            break\n",
    "env.close()"
   ]
  },
  {
   "cell_type": "markdown",
   "id": "e600fbf1-b58e-4103-920b-d23f3a99b48e",
   "metadata": {},
   "source": [
    "### Check the Environment"
   ]
  },
  {
   "cell_type": "raw",
   "id": "4f6b0708-09f8-4b33-9ddd-6d06234770cc",
   "metadata": {
    "tags": []
   },
   "source": [
    "from stable_baselines3.common.env_checker import check_env\n",
    "\n",
    "# It will check your custom environment and output additional warnings if needed\n",
    "\n",
    "check_env(env)\n"
   ]
  },
  {
   "cell_type": "raw",
   "id": "71d4fac7-cdd1-4c6b-bf2c-8c3f51532444",
   "metadata": {},
   "source": [
    "eval_env = VPPBiddingEnv(renewables_df = renewables_df,\n",
    "                    bids_df = bids_df,\n",
    "                    tenders_df = tenders_df,\n",
    "                    time_features_df = time_features_df,\n",
    "                    hist_window_size = hist_window_size,\n",
    "                    forecast_window_size = forecast_window_size,\n",
    "                    frame_bound = frame_bound,\n",
    "                    log_level = \"INFO\", # \"DEBUG\" , \"INFO\" or  \"WARNING\"\n",
    "                    env_type = \"eval\"\n",
    "                   )\n",
    "\n",
    "obs = env_vec.reset()\n",
    "for i in range(0,10): \n",
    "    action, _states = model.predict(obs)\n",
    "    obs, rewards, dones, info = env_vec.step(action)"
   ]
  },
  {
   "cell_type": "markdown",
   "id": "b8cdf604-95d4-4083-803f-dcb3152a6c25",
   "metadata": {
    "tags": []
   },
   "source": [
    "# Keras "
   ]
  },
  {
   "cell_type": "markdown",
   "id": "39ec1f61-54f7-4004-a0e0-43a408d112ab",
   "metadata": {
    "jp-MarkdownHeadingCollapsed": true,
    "tags": []
   },
   "source": [
    "## 2. Create a Deep Learning Model with Keras"
   ]
  },
  {
   "cell_type": "raw",
   "id": "5bc28dbb-f42f-4d65-8a67-f9788068dc76",
   "metadata": {},
   "source": [
    "import numpy as np\n",
    "from tensorflow.keras.models import Sequential\n",
    "from tensorflow.keras.layers import Dense, Flatten\n",
    "from tensorflow.keras.optimizers import Adam"
   ]
  },
  {
   "cell_type": "raw",
   "id": "6636c392-4cdb-4ad4-b899-bfc8efe97314",
   "metadata": {},
   "source": [
    "states_hydro_historic = env.observation_space[\"historic_data\"][\"hydro_historic\"].shape\n",
    "states_wind_historic = env.observation_space[\"historic_data\"][\"wind_historic\"].shape\n",
    "\n",
    "actions = env.action_space[0].shape"
   ]
  },
  {
   "cell_type": "raw",
   "id": "3eab778c-7d0b-4972-8d37-063a2bf41fab",
   "metadata": {},
   "source": [
    "display(states_hydro_historic)\n",
    "display(states_wind_historic)\n",
    "display(actions)"
   ]
  },
  {
   "cell_type": "raw",
   "id": "d4151a89-72d5-47d1-b16b-8e7ca1cf2ccc",
   "metadata": {},
   "source": [
    "def build_model(states, actions):\n",
    "    model = Sequential()\n",
    "    # flatten? \n",
    "    model.add(Dense(24, activation='relu', input_shape=states))\n",
    "    model.add(Dense(24, activation='relu'))\n",
    "    model.add(Dense(actions, activation='linear'))\n",
    "    return model"
   ]
  },
  {
   "cell_type": "raw",
   "id": "d3e9c111-ca20-4080-b890-fd4d1805f932",
   "metadata": {},
   "source": [
    "del model \n"
   ]
  },
  {
   "cell_type": "raw",
   "id": "eb52d7c0-4103-405d-a2cc-5ea286658530",
   "metadata": {},
   "source": [
    "model = build_model(states, actions)\n"
   ]
  },
  {
   "cell_type": "raw",
   "id": "80a1a184-8245-4ef6-9b41-599c189372d4",
   "metadata": {},
   "source": [
    "model.summary()\n"
   ]
  },
  {
   "cell_type": "markdown",
   "id": "c863655e-66b1-4833-a1d6-ecfd75d3fb67",
   "metadata": {
    "tags": []
   },
   "source": [
    "## 3. Build Agent with Keras-RL\n"
   ]
  },
  {
   "cell_type": "raw",
   "id": "e3b49156-7fc1-44bf-af17-1d30770f4675",
   "metadata": {},
   "source": [
    "from rl.agents import DQNAgent\n",
    "from rl.policy import BoltzmannQPolicy\n",
    "from rl.memory import SequentialMemory\n"
   ]
  },
  {
   "cell_type": "raw",
   "id": "587a5fe5-333a-4962-bbf9-e2466d6f3a60",
   "metadata": {},
   "source": [
    "def build_agent(model, actions):\n",
    "    policy = BoltzmannQPolicy()\n",
    "    memory = SequentialMemory(limit=50000, window_length=1)\n",
    "    dqn = DQNAgent(model=model, memory=memory, policy=policy, \n",
    "                  nb_actions=actions, nb_steps_warmup=10, target_model_update=1e-2)\n",
    "    return dqn"
   ]
  },
  {
   "cell_type": "raw",
   "id": "4310f49a-7068-44da-8b93-3d49a678e6af",
   "metadata": {},
   "source": [
    "dqn = build_agent(model, actions)\n",
    "dqn.compile(Adam(lr=1e-3), metrics=['mae'])\n",
    "dqn.fit(env, nb_steps=50000, visualize=False, verbose=1)"
   ]
  },
  {
   "cell_type": "raw",
   "id": "5ca62e78-dcab-43da-a8d2-8c0768585a39",
   "metadata": {},
   "source": [
    "scores = dqn.test(env, nb_episodes=100, visualize=False)\n",
    "print(np.mean(scores.history['episode_reward']))"
   ]
  },
  {
   "cell_type": "raw",
   "id": "4eb59191-afd3-4853-b5d1-0b8db05ab184",
   "metadata": {},
   "source": [
    "_ = dqn.test(env, nb_episodes=15, visualize=True)\n"
   ]
  },
  {
   "cell_type": "markdown",
   "id": "6f23420d-fff4-48c3-a0a2-16519969c223",
   "metadata": {
    "jp-MarkdownHeadingCollapsed": true,
    "tags": []
   },
   "source": [
    "## 4. Reloading Agent from Memory\n"
   ]
  },
  {
   "cell_type": "raw",
   "id": "f8b4e92f-dc92-4558-9685-6539b327d36e",
   "metadata": {},
   "source": [
    "dqn.save_weights('dqn_weights.h5f', overwrite=True)\n"
   ]
  },
  {
   "cell_type": "raw",
   "id": "8664c5ad-750b-4b44-9bc4-78cae75e3943",
   "metadata": {},
   "source": [
    "del model\n",
    "del dqn\n",
    "del env"
   ]
  },
  {
   "cell_type": "raw",
   "id": "7d1336cd-0dc6-49f1-b23b-e776f10132da",
   "metadata": {},
   "source": [
    "from gym.envs.registration import register\n",
    "\n",
    "register(\n",
    "    id='vpp-v0',\n",
    "    entry_point='gym_foo.envs:FooEnv',\n",
    ")\n"
   ]
  },
  {
   "cell_type": "raw",
   "id": "4b52005f-8ce1-48a5-93f8-75eecfc3b122",
   "metadata": {
    "tags": []
   },
   "source": [
    "env = gym.make('CartPole-v0')\n",
    "actions = env.action_space.n\n",
    "states = env.observation_space.shape[0]\n",
    "model = build_model(states, actions)\n",
    "dqn = build_agent(model, actions)\n",
    "dqn.compile(Adam(lr=1e-3), metrics=['mae'])"
   ]
  },
  {
   "cell_type": "raw",
   "id": "e104bf03-1362-4bec-ab94-2fcf8def72e9",
   "metadata": {},
   "source": [
    "dqn.load_weights('dqn_weights.h5f')\n"
   ]
  },
  {
   "cell_type": "raw",
   "id": "81cb7e29-afa5-441f-a688-7e37c3ed7cbc",
   "metadata": {},
   "source": [
    "_ = dqn.test(env, nb_episodes=5, visualize=True)\n"
   ]
  },
  {
   "cell_type": "markdown",
   "id": "c162f4b3-a9b8-4be1-a31d-a99cbbab91f1",
   "metadata": {
    "tags": []
   },
   "source": [
    "# Archive\n"
   ]
  },
  {
   "cell_type": "raw",
   "id": "cd911a09-82b9-41b6-b24e-4a30944954b2",
   "metadata": {},
   "source": [
    "flatdim(env.observation_space)\n",
    "flatten_space(env.complex_action_space)\n",
    "\n",
    "\n",
    "flattened_datapoint = flatten(env.complex_action_space, env.complex_action_space.sample())\n",
    "display(flattened_datapoint)\n",
    "\n",
    "unflattened_datapoint = unflatten(env.complex_action_space, env.action_space.sample())\n",
    "display(unflattened_datapoint)\n",
    "\n",
    "# check if flattened data point is in space\n",
    "\n",
    "flatten(env.observation_space, env.observation_space.sample())  in flatten_space(env.observation_space)\n"
   ]
  },
  {
   "cell_type": "raw",
   "id": "7af8030b-65f2-4bed-a843-599f141d51ed",
   "metadata": {
    "tags": []
   },
   "source": [
    "    def _simulate_market(self, action):\n",
    "        \n",
    "        # market clearing algorithm:\n",
    "        \n",
    "        # for each slot \n",
    "        # get all bids\n",
    "        # bids to dict\n",
    "        # add bid from action \n",
    "        # bring in order by price \n",
    "        # accumulate capacities until demand is filled \n",
    "        # check if bid is in bid list \n",
    "            # if yes, set auciton_won = True and get SETTLEMENTCAPACITY_PRICE\n",
    "            # if no, set auciton_won = False\n",
    "        \n",
    "        \n",
    "        \n",
    "        \n",
    "        \n",
    "        \n",
    "        \n",
    "        ################################################\n",
    "        \n",
    "        \n",
    "        # TODO: Market clearing algorithmus neu schreiben, Angebote aller Länder (ausser DÄNEMARK ?? ) müssen berücksichtigt werden, um gesatm demand zu füllen , erst dann steht preis für slot fest. \n",
    "        \n",
    "        \n",
    "        \n",
    "        # for each slot \n",
    "        # get all bids\n",
    "        # bids to dict\n",
    "        # add bid from action \n",
    "        # bring in order by price\n",
    "        # accumulate capacities until demand is filled  FOR ALL COUNTRIES\n",
    "            # indivisible flag needs to be included and checked: indivisible offer needs to be fully included\n",
    "            # check for every country, if Core Portion and export limit are satisfied \n",
    "                # for each country \n",
    "                    # at least the core portion needs to be satisfied\n",
    "                    # if capacity is less than total demand, the settlement price for an underfilled country is the price of the last accepted bid\n",
    "                # at most the export limit needs to be satisfied (all bids for Country - demand of country)\n",
    "        \n",
    "        # set prices for all countries\n",
    "        \n",
    "        \n",
    "        ################################################\n",
    "        \n",
    "        # The optimisation algorithm calculates the optimal combination of FCR bids to be awarded under consideration of core shares and the maximum exchangeable FCR volumes (export limits of a country) with the goal to reduce total procurement cost of the cooperation. \n",
    "        \n",
    "        # 1. If no export limits or core share constraint are hit, one cross-border marginal price (CBMP) will be determined equalling the most expensive awarded bid in the overall cooperation. \n",
    "        # Exceptions from having one CBMP may occur once export limits or core share constraint of one or more countries of the cooperation are hit. In this case, an LMP will be determined based on the local awarded bids within a country.\n",
    "        \n",
    "        \n",
    "\n",
    "        def add_bid_to_acceppted_bids(bid,\n",
    "                                     accepted_bids,\n",
    "                                     sorted_bids_list_by_price,\n",
    "                                     accumulated_capacities,\n",
    "                                     LMPi=False):\n",
    "            country_prefix = bid[\"country\"]\n",
    "            # add the capacity of the bid to the accumulated capacity of a single country\n",
    "            accumulated_capacities[country_prefix + \"_capacity\"]  += bid[\"offered\"]\n",
    "\n",
    "            # add the capacity of each bid to the accumulated capacity\n",
    "            accumulated_capacities[\"total_capacity\"] += bid[\"offered\"]\n",
    "            if LMPi: \n",
    "                # if bid is evaluated for an LMPi\n",
    "                accumulated_capacities[country_prefix + \"_LMPi\"] = bid[\"price\"]\n",
    "            else:\n",
    "                # if it is a normal bid, the bids price is the new CBMP \n",
    "                accumulated_capacities[\"CBMP\"] = bid[\"price\"]\n",
    "            # add the bid to the accepted bids list\n",
    "            bid[\"allocated\"] = bid[\"offered\"]\n",
    "            accepted_bids.append(bid)\n",
    "            #print('bid[\"index\"] = %s ' % (bid[\"index\"]))\n",
    "            #print(\"agents_bid_index = %s\" % (agents_bid_index))\n",
    "            #print(\"accumulated_capacities[\"total_capacity\"] = %s\" % (accumulated_capacities[\"total_capacity\"]))\n",
    "\n",
    "            # remove bid from list to not iterate over it again when searching for limit constraint replacement bids\n",
    "            sorted_bids_list_by_price.remove(bid)\n",
    "\n",
    "            return accepted_bids, sorted_bids_list_by_price, accumulated_capacities\n",
    "            \n",
    "        \n",
    "        auction_bids = self.bids_df[self.market_start : self.market_end]\n",
    "        country_constraints = self.tenders_df[self.market_start : self.market_end]\n",
    "\n",
    "        \n",
    "        \n",
    "        for slot in range(0, len(self.slot_date_list)):\n",
    "            slot_date = self.slot_date_list[slot]\n",
    "            print(\"slot_date = %s\" % (slot_date))\n",
    "            slot_bids = auction_bids[slot_date : slot_date].reset_index(drop=True).reset_index(drop=False)\n",
    "            bids_list = slot_bids.to_dict('records')\n",
    "            \n",
    "            slot_constraints = country_constraints[slot_date : slot_date].reset_index(drop=True).reset_index(drop=False)\n",
    "            slot_constraints = slot_constraints.to_dict('records')[0]            \n",
    "\n",
    "            #print(\"bids_list = \")\n",
    "            #print(\"\\n\".join(\" \\t{}\".format(k) for k in bids_list))\n",
    "            \n",
    "            # get the lenght of the list ot create an index fo the agents bid that now will be added\n",
    "            agents_bid_index = len(bids_list)\n",
    "            \n",
    "            \n",
    "            # extract the bid size out of the agents action\n",
    "            # agents_bid_size = action[0][slot]\n",
    "            agents_bid_size = 10\n",
    "\n",
    "            \n",
    "            # extract the bid price out of the agents action\n",
    "            #agents_bid_price = action[1][slot]\n",
    "            agents_bid_price = 0\n",
    "            \n",
    "            \n",
    "            print(\"agents_bid_size = %s\" % (agents_bid_size))\n",
    "            print(\"agents_bid_price = %s\" % (agents_bid_price))\n",
    "            print(\"agents_bid_index = %s\" % (agents_bid_index))\n",
    "            # add the selected bid from the agent to the list of all bids\n",
    "            bids_list.append({'index': agents_bid_index, 'offered': agents_bid_size, 'price': agents_bid_price, \"country\": \"DE\", \"indivisible\": False})\n",
    "            # sort the list based on the price to later accumulate all bids' capacity (but ordered on price)\n",
    "            sorted_bids_list_by_price = sorted(bids_list, key=lambda x: x['price'])\n",
    "            \n",
    "            #print(\"sorted_bids_list_by_price = \")\n",
    "            #print(\"\\n\".join(\" \\t{}\".format(k) for k in sorted_bids_list_by_price))\n",
    "            \n",
    "            country_list = list(set([x['country'] for x in sorted_bids_list_by_price]))\n",
    "            LMPi_list = []\n",
    "            accepted_bids = []\n",
    "            slot_finished = False\n",
    "            \n",
    "            # CBMP = cross-border marginal price\n",
    "            # LMPi = Local Marginal Price of importing country\n",
    "            accumulated_capacities = {\n",
    "                 'total_capacity': 0,\n",
    "                 'CBMP': 0,\n",
    "                 'DE_capacity': 0,\n",
    "                 'DE_export': 0,\n",
    "                 'DE_core': 0,\n",
    "                 'DE_LMPi': 0,\n",
    "                 'BE_capacity': 0,\n",
    "                 'BE_export': 0,\n",
    "                 'BE_core': 0,\n",
    "                 'BE_LMPi': 0,\n",
    "                 'FR_capacity': 0,\n",
    "                 'FR_export': 0,\n",
    "                 'FR_core': 0,\n",
    "                 'FR_LMPi': 0,\n",
    "                 'NL_capacity': 0,\n",
    "                 'NL_export': 0,\n",
    "                 'NL_core': 0,\n",
    "                 'NL_LMPi': 0,\n",
    "                 'AT_capacity': 0,\n",
    "                 'AT_export': 0,\n",
    "                 'AT_core': 0,\n",
    "                 'AT_LMPi': 0,\n",
    "                 'CH_capacity': 0,\n",
    "                 'CH_export': 0,\n",
    "                 'CH_core': 0,\n",
    "                 'CH_LMPi': 0,\n",
    "                 'SI_capacity': 0,\n",
    "                 'SI_export': 0,\n",
    "                 'SI_core': 0,\n",
    "                 'SI_LMPi': 0,\n",
    "                 'DK_capacity': 0,\n",
    "                 'DK_export': 0,\n",
    "                 'DK_core': 0,\n",
    "                 'DK_LMPi': 0,\n",
    "            }\n",
    "\n",
    "            for bid in sorted_bids_list_by_price[:]:\n",
    "                # check if LMPi_list containts countries that need to be checked\n",
    "                if LMPi_list:\n",
    "                    # check if current bid is from country\n",
    "                    if bid[\"country\"] != LMPi_list[0]:\n",
    "                        # if not, go to next bid \n",
    "                        continue\n",
    "                    # if bid is from country\n",
    "                    else:\n",
    "                        # add bid to accepted bids\n",
    "                        accepted_bids, sorted_bids_list_by_price, accumulated_capacities = add_bid_to_acceppted_bids(bid,\n",
    "                                                                                                                     accepted_bids,\n",
    "                                                                                                                     sorted_bids_list_by_price,\n",
    "                                                                                                                     accumulated_capacities,\n",
    "                                                                                                                     LMPi = True\n",
    "                                                                                                                    )\n",
    "                        # after bid was added, remove country from LMPi list \n",
    "                        LMPi_list.pop(0)\n",
    "                        \n",
    "                        \n",
    "                        \n",
    "                # add bid to accepted bids\n",
    "                accepted_bids, sorted_bids_list_by_price, accumulated_capacities = add_bid_to_acceppted_bids(bid,\n",
    "                                                                                                            accepted_bids,\n",
    "                                                                                                            sorted_bids_list_by_price,\n",
    "                                                                                                            accumulated_capacities,\n",
    "                                                                                                            LMPi = False)\n",
    "                    \n",
    "                # 2.1 Case of hitting a limit constraint\n",
    "                # It is important to understand that an export limit or core share constraint is hit whenever it influences the solution and not only when the quantity awarded in a country is exactly equal to the respective limit quantity of that country.\n",
    "                \n",
    "            \n",
    "                if accumulated_capacities[\"total_capacity\"] >= self.total_slot_FCR_demand:\n",
    "                    # if accumulated_capacities[\"total_capacity\"] is bigger than the demand, the last indvisible offer(s) need to be reduced\n",
    "                    \n",
    "                    # 2.1.2 Check if core share of every country is hit\n",
    "                    for country in country_list: \n",
    "                        print(\"accumulated_capacities for \" + country + \": \" +  str(accumulated_capacities[country + \"_capacity\"]))\n",
    "                        print(\"core constraint for \" + country + \": \" +  str(slot_constraints[country + \"_core\"]))\n",
    "                        if accumulated_capacities[country + \"_capacity\"] < slot_constraints[country + \"_core\"]: \n",
    "                            print(\"CORE SHARE TOO SMALL FOR COUNTRY: \" + country)\n",
    "                            \n",
    "                            del accepted_bids[-1]\n",
    "                            accumulated_capacities[\"total_capacity\"] -= bid[\"offered\"]\n",
    "                            LMPi_list.append(country)\n",
    "                            \n",
    "                            # TODO: set CBMP for all other countries. \n",
    "                            \n",
    "                            # continue step continues for loop \n",
    "                            continue\n",
    "                            \n",
    "                            # TODO: for every core-underfilled country the capacity needs to be filled and the LMPi has to be found \n",
    "                        \n",
    "                    # TODO: set allocated price of all bids :   bid[\"allocated\"\n",
    "                    \n",
    "                    # TODO: Check Over Procurement \n",
    "                    if accumulated_capacities[\"total_capacity\"] > self.total_slot_FCR_demand: \n",
    "                        # get the overfilled capacity (difference)\n",
    "                        overfilled_capacity = accumulated_capacities[\"total_capacity\"] - self.total_slot_FCR_demand\n",
    "                        # get list of accepted bids that are divisible (= that is not indivisible)\n",
    "                        accepted_bids_divisible = [bid for bid in accepted_bids if not bid['indivisible']]\n",
    "                        # get last accepted bid that is divisible\n",
    "                        accepted_bids_divisible[-1]\n",
    "                        \n",
    "                        # TODO: proceed with over procurement \n",
    "                        \n",
    "                        # TODO: place slot_finished boolean somewhere\n",
    "                        slot_finished = True\n",
    "                    \n",
    "                    # TODO: check if a country has a CBMP or LMPi \n",
    "                    \n",
    "                    # last accepted bid sets settlement price of auction\n",
    "                    settlement_price = bid[\"price\"]\n",
    "                    # set settlement price for the current auctioned slot in slot_prices list\n",
    "                    self.slot_prices[slot] = settlement_price\n",
    "                    \n",
    "                    if agents_bid_index in [x['index'] for x in accepted_bids]:\n",
    "                        # set boolean for auction win\n",
    "                        self.delivery_results[\"slots_won\"][slot] = 1\n",
    "                    \n",
    "                    print(\"accumulated_capacities['total_capacity'] = %s\" % (accumulated_capacities[\"total_capacity\"]))\n",
    "                    print(\"self.delivery_results[\"slots_won\"] = \")\n",
    "                    print(\"\\n\".join(\"won: \\t{}\".format(k) for k in self.delivery_results[\"slots_won\"]))\n",
    "                    print(\"self.slot_prices = \")\n",
    "                    print(\"\\n\".join(\"price: \\t{}\".format(k) for k in self.slot_prices))\n",
    "                    \n",
    "                    \n",
    "                    \n",
    "                if slot_finished: \n",
    "                    break\n",
    "                    "
   ]
  },
  {
   "cell_type": "raw",
   "id": "d84f6b38-95bc-48bf-8b18-06ce590c674f",
   "metadata": {},
   "source": [
    " '''\n",
    "                # add the selected bid from the agent to the list of all bids\n",
    "                bids_list.append({'index': agents_bid_index, 'offered': agents_bid_size, 'price': agents_bid_price, \"country\": \"DE\", \"indivisible\": False})\n",
    "                # sort the list based on the price to later accumulate all bids' capacity (but ordered on price)\n",
    "                sorted_bids_list_by_price = sorted(bids_list, key=lambda x: x['price'])\n",
    "\n",
    "\n",
    "                # as we dont habe enought data to simulate a realistic market clearing algorithm,\n",
    "                # we calcualte a new settlement price with\n",
    "                #prices = [x['price'] for x in accepted_bids]\n",
    "                #diffs = np.diff(np.array(list_a))\n",
    "                #mean_diff = sum(diffs) / len(diffs)\n",
    "                '''"
   ]
  },
  {
   "cell_type": "raw",
   "id": "49b405fe-65b4-4003-85db-e8138d47a8f1",
   "metadata": {},
   "source": [
    "# ----------------------\n",
    "# other way of representing observation\n",
    "\n",
    "'''\n",
    "next_observation = Dict({\n",
    "    'historic_data': Dict({\n",
    "        \"hydro_historic\": Box(low, high, dtype=np.float32)\n",
    "        \"wind_historic\":  Box(low, high, dtype=np.float32)\n",
    "    }),\n",
    "    'forecast_data':  Dict({\n",
    "        \"hydro_forecast\": Box(low, high, dtype=np.float32),\n",
    "        \"wind_forecast\": Box(low, high, dtype=np.float32),\n",
    "        \"soc_forecast\": Box(low, high, dtype=np.float32)\n",
    "        # TODO should I keep the Battery state of charge? \n",
    "    }),\n",
    "    'market_data':  Dict({\n",
    "        \"market_demand\": Discrete(3), # for the demands 573, 562 and 555 MW\n",
    "        # TODO for 2021 its always 562, how to handle differetn years? maybe set it as a global constant? \n",
    "\n",
    "        \"predicted_market_prices\":  Box(low=0.0, high=1634.52, shape=(6, 1), dtype=np.float32), # for each slot, can be prices of same day last week \n",
    "    }),\n",
    "    'time_features':  Dict({\n",
    "        \"weekday\": Discrete(7), # for the days of the week\n",
    "        \"holiday\": Discrete(2), # holiday = 1, no holiday = 0\n",
    "        \"month\": Discrete(12), # for the month\n",
    "    })\n",
    "})\n",
    "'''\n"
   ]
  },
  {
   "cell_type": "raw",
   "id": "3e7b03f9-ad93-49a9-852d-efe70b7e481b",
   "metadata": {},
   "source": [
    "demand = [{'index': 0, 'total': 1409.0, 'DE_demand': 562.0, 'DE_export': 168.0, 'DE_core': 169.0, 'BE_demand': 87.0, 'BE_export': 100.0, 'BE_core': 27.0, 'FR_demand': 508.0, 'FR_export': 152.0, 'FR_core': 153.0, 'NL_demand': 114.0, 'NL_export': 100.0, 'NL_core': 35.0, 'AT_demand': 71.0, 'AT_export': 100.0, 'AT_core': 22.0, 'CH_demand': 67.0, 'CH_export': 100.0, 'CH_core': 21.0, 'SI_demand': \"nan\", 'SI_export': \"nan\", 'SI_core': \"nan\", 'DK_demand': \"nan\", 'DK_export': \"nan\", 'DK_core': \"nan\"}]\n",
    "demand = demand[0]\n",
    "demand[\"DE_demand\"]"
   ]
  },
  {
   "cell_type": "raw",
   "id": "467c5194-cb67-4cac-93ab-976537ee539d",
   "metadata": {},
   "source": [
    "demand"
   ]
  },
  {
   "cell_type": "raw",
   "id": "0241eba3-de86-44c6-afbb-da86884fdf4a",
   "metadata": {},
   "source": [
    "accepted_bids = [{'index': 0, 'offered': 11, \"allocated\" : 10, 'price': 0.0, 'country': 'DE', 'indivisible': False}\n",
    ",{'index': 1, 'offered': 1, \"allocated\" : 10,'price': 0.0, 'country': 'DE', 'indivisible': True}\n",
    ",{'index': 2, 'offered': 1,\"allocated\" : 10, 'price': 0.0, 'country': 'FR', 'indivisible': True}\n",
    ",{'index': 3, 'offered': 4,\"allocated\" : 10, 'price': 0.0, 'country': 'DE', 'indivisible': False}]\n",
    "\n",
    "country_tenders = [{\"DE\": \n",
    "                    {\"total\": 0, \"export\": 11, \"core\" : 10},\n",
    "                    \"BE\": \n",
    "                    {\"total\": 0, \"export\": 11, \"core\" : 10}}]\n",
    "\n",
    "country_capacity =  {\"DE\": 555, \"BE\": 200}        \n",
    "\n",
    "# go through all accepted bids in reversed order sorted by price\n",
    "for bid in reversed(accepted_bids):\n",
    "    # if an order is divisible and can be divided...\n",
    "    if not bid[\"indivisible\"]:\n",
    "        # check if the offered capacity of the bid is a minimum of 1 bigger than the overfilled_capacity (so it can be substracted)\n",
    "        if bid[\"offered\"] > overfilled_capacity: \n",
    "            difference_to_core = country_tenders[bid[\"country\"]][\"core\"]\n",
    "            overfilled_capacity\n",
    "        bid[\"allocated\"] = bid[\"allocated\"]-1\n",
    "        \n",
    "        break\n",
    "\n",
    "print(accepted_bids)\n"
   ]
  },
  {
   "cell_type": "raw",
   "id": "9a8f0f38-a9ca-414b-9f03-b5e5fc165c19",
   "metadata": {},
   "source": [
    "accepted_bids = [{'index': 0, 'offered': 11, \"allocated\" : 10, 'price': 1.0, 'country': 'DE', 'indivisible': False}\n",
    ",{'index': 1, 'offered': 1, \"allocated\" : 10,'price': 1.0, 'country': 'BE', 'indivisible': True}\n",
    ",{'index': 2, 'offered': 1,\"allocated\" : 10, 'price': 2.0, 'country': 'FR', 'indivisible': True}\n",
    ",{'index': 3, 'offered': 4,\"allocated\" : 10, 'price': 1.0, 'country': 'DE', 'indivisible': False}]\n"
   ]
  },
  {
   "cell_type": "raw",
   "id": "b333ff42-9614-414c-85bd-36fb7caeee65",
   "metadata": {},
   "source": [
    "accepted_bids"
   ]
  },
  {
   "cell_type": "raw",
   "id": "76ae9ca6-116c-4c74-b91a-0aad8988a8b3",
   "metadata": {},
   "source": [
    "display([bid['price'] for bid in accepted_bids if bid['country']== \"DE\"])\n",
    "display([bid['price'] for bid in accepted_bids if bid['country']== \"DE\"][-1])\n"
   ]
  },
  {
   "cell_type": "raw",
   "id": "01af6f41-16c3-4b24-8b60-ecc9d7101fd4",
   "metadata": {},
   "source": [
    "set(([x['country'] for x in accepted_bids]))\n",
    "(([x['country'] for x in accepted_bids]))\n",
    "(([x['price'] for x in accepted_bids]))"
   ]
  },
  {
   "cell_type": "raw",
   "id": "013090a0-35b6-4d43-b11d-d4e689772bfc",
   "metadata": {},
   "source": [
    "unique_country_bids = list({v['country']:v for v in accepted_bids}.values())\n",
    "display(unique_country_bids)\n",
    "all_prices = [x['price'] for x in unique_country_bids]\n",
    "display(all_prices)\n",
    "\n",
    "cbmp = max(set(all_prices), key = all_prices.count)\n",
    "display(cbmp)\n"
   ]
  },
  {
   "cell_type": "raw",
   "id": "73193bc3-80e4-402c-ad39-04ced0082133",
   "metadata": {},
   "source": [
    "unique_country_bids = [{'index': 665, 'offered': 1, 'price': 11.0, 'country': 'DE', 'settlement_price': 13.3, 'indivisible': False}, {'index': 598, 'offered': 1, 'price': 4.48, 'country': 'FR', 'settlement_price': 4.48, 'indivisible': False}, {'index': 677, 'offered': 23, 'price': 217.76, 'country': 'BE', 'settlement_price': 217.76, 'indivisible': True}, {'index': 671, 'offered': 1, 'price': 12.5, 'country': 'NL', 'settlement_price': 13.3, 'indivisible': False}, {'index': 673, 'offered': 5, 'price': 13.3, 'country': 'CH', 'settlement_price': 13.3, 'indivisible': False}, {'index': 670, 'offered': 2, 'price': 12.4, 'country': 'AT', 'settlement_price': 13.3, 'indivisible': False}, {'index': 675, 'offered': 1, 'price': 50.0, 'country': 'DK', 'settlement_price': 50.0, 'indivisible': True}]"
   ]
  },
  {
   "cell_type": "raw",
   "id": "19bac19f-2790-42cf-b79b-07fc8ecd4a2b",
   "metadata": {},
   "source": [
    "display(unique_country_bids)\n",
    "all_prices = [d['settlement_price'] for d in unique_country_bids]\n",
    "display(all_prices)\n",
    "\n",
    "cbmp = max(set(all_prices), key = all_prices.count)\n",
    "display(cbmp)\n"
   ]
  },
  {
   "cell_type": "raw",
   "id": "735121e8-3216-4659-84b2-4ccf7944f240",
   "metadata": {},
   "source": [
    "[bid['settlement_price'] for bid in accepted_bids if bid['country']== \"DE\"][0]\n"
   ]
  },
  {
   "cell_type": "raw",
   "id": "3d80b5f5-881e-41ce-8de7-80fc7943f849",
   "metadata": {},
   "source": [
    "#### test 2- self written eval - wont work "
   ]
  },
  {
   "cell_type": "raw",
   "id": "04d70947-ab46-4708-ab0c-534748979637",
   "metadata": {},
   "source": [
    "from stable_baselines3.common.monitor import Monitor\n",
    "\n",
    "eval_env = make('VPPBiddingEnv-EVAL-v1', render_mode=None)\n",
    "eval_env = RecordEpisodeStatistics(eval_env) # record stats such as returns\n",
    "\n",
    "\n",
    "wandb.init(\n",
    "    sync_tensorboard=True,  # automatically upload SB3's tensorboard metrics to W&B\n",
    "    project=\"masterthesis\",\n",
    "    monitor_gym=True,       # automatically upload gym environements' videos\n",
    "    save_code=True,\n",
    "    entity=\"jlu237\", \n",
    "    tags=[\"delivery_simulation\", \"delivery_plots\", \"episode_error\"], \n",
    "    job_type=\"eval\"\n",
    ")\n",
    "\n",
    "obs = eval_env.reset()\n",
    "for ep in range(0,363):\n",
    "    action, _states = model.predict(obs)\n",
    "    obs, rewards, dones, info = eval_env.step(action)\n",
    "    eval_env.render()\n",
    "    \n",
    "wandb.finish()\n"
   ]
  },
  {
   "cell_type": "raw",
   "id": "ded73fdc-51c8-4771-88d4-e1664d89827b",
   "metadata": {},
   "source": [
    "#### test 1 - mean works, but no lgging is done. "
   ]
  },
  {
   "cell_type": "raw",
   "id": "e83db2c1-1fb0-4804-b041-e6b9163a9924",
   "metadata": {
    "tags": []
   },
   "source": [
    "from stable_baselines3.common.evaluation import evaluate_policy\n",
    "from stable_baselines3.common.monitor import Monitor\n",
    "\n",
    "eval_env = make('VPPBiddingEnv-EVAL-v1', render_mode=None)\n",
    "\n",
    "eval_env_monitor = Monitor(eval_env)   # won't work with vectorized enviroments, will throw cryptic errors\n",
    "\n",
    "wandb.init(\n",
    "    sync_tensorboard=True,  # automatically upload SB3's tensorboard metrics to W&B\n",
    "    project=\"masterthesis\",\n",
    "    monitor_gym=True,       # automatically upload gym environements' videos\n",
    "    save_code=True,\n",
    "    entity=\"jlu237\", \n",
    "    tags=[\"delivery_simulation\", \"delivery_plots\", \"episode_error\"], \n",
    "    job_type=\"eval\"\n",
    ")\n",
    "\n",
    "mean_reward, std_reward = evaluate_policy(model, \n",
    "                                          eval_env_monitor, \n",
    "                                          n_eval_episodes=363,\n",
    "                                          render = True\n",
    "                                         )\n",
    "\n",
    "logging.warning(\"Mean reward: {} , +/-  {} \".format(mean_reward , std_reward))\n",
    "print(\"Mean reward: {} , +/-  {} \".format(mean_reward , std_reward))\n",
    "\n"
   ]
  },
  {
   "cell_type": "markdown",
   "id": "0faea671-730a-4dd9-bfb6-857ff28d9453",
   "metadata": {},
   "source": [
    "### 2. create test list , check if date is in test list, if yes, skip day \n",
    "\n",
    "1. data set start date = 01.07.2020\n",
    "2. training start date = 02.07.2020 \n",
    "3. first slot lower boundary = 02.07.2020 22.00\n",
    "4. make test set \n",
    "    - take time_features_df\n",
    "    - substract 2 hours from each timestamp = start of slot \n",
    "    - iterate over df and get date every 5 days, add to list = test list. \n",
    "5. in training mode -> skip dates in list. \n",
    "6. in test mode -> take only dates from test list. \n",
    "7. unterschiedliche testsets erstellen? izzy meinte, zusammenhängende woche wäre gut (seasonality)\n",
    "\n",
    "Vorgehen:\n",
    "Ab der ersten Vollen Woche: Woche nehmen und Testset-Liste hinzufügen, \n",
    "dann skip 5 wochen , dann 1 woche test woche \n"
   ]
  },
  {
   "cell_type": "markdown",
   "id": "124022d5-9932-424b-bb4b-1d0779fd3de7",
   "metadata": {},
   "source": [
    "### scaler for observations\n"
   ]
  },
  {
   "cell_type": "code",
   "execution_count": null,
   "id": "39744d8a-ab64-421e-927e-782209ef12d3",
   "metadata": {
    "tags": []
   },
   "outputs": [],
   "source": [
    "# scaler for observations\n",
    "\n",
    "scaler = MinMaxScaler(feature_range=(-1,1))\n",
    "\n",
    "a_raw = asset_data_historic\n",
    "print(\"a_raw\")\n",
    "\n",
    "print(a_raw)\n",
    "\n",
    "scaler.fit(np.array(a_raw).reshape(-1, 1))\n",
    "\n",
    "b_transformed = scaler.transform((a_raw.reshape(-1, 1)))\n",
    "print(\"b_transformed\")\n",
    "\n",
    "print(b_transformed)\n",
    "\n",
    "# convert from array to list\n",
    "c_list = [x for xs in list(b_transformed) for x in xs]\n",
    "print(\"c_list\")\n",
    "\n",
    "print(c_list)\n",
    "\n",
    "# transform back to \n",
    "\n",
    "d_transformed_back = (scaler.inverse_transform(np.array(c_list).reshape(-1, 1)))\n",
    "print(\"d_transformed_back\")\n",
    "print(d_transformed_back)\n",
    "\n",
    "print(\"e_array\")\n",
    "e_array = d_transformed_back.flatten()\n",
    "print(e_array)\n",
    "\n",
    "\n",
    "print(\"f_list\")\n",
    "f_list = [x for xs in list(d_transformed_back) for x in xs]\n",
    "\n",
    "print(f_list)"
   ]
  }
 ],
 "metadata": {
  "kernelspec": {
   "display_name": "Python 3 (ipykernel)",
   "language": "python",
   "name": "python3"
  },
  "language_info": {
   "codemirror_mode": {
    "name": "ipython",
    "version": 3
   },
   "file_extension": ".py",
   "mimetype": "text/x-python",
   "name": "python",
   "nbconvert_exporter": "python",
   "pygments_lexer": "ipython3",
   "version": "3.8.9"
  }
 },
 "nbformat": 4,
 "nbformat_minor": 5
}
