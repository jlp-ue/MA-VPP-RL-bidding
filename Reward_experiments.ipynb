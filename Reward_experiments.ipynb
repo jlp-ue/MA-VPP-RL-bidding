{
 "cells": [
  {
   "cell_type": "code",
   "execution_count": 6,
   "id": "bce6971e-116f-4b43-9ca9-5c23ec1245d6",
   "metadata": {},
   "outputs": [],
   "source": [
    "import pandas as pd\n",
    "import plotly.express as px"
   ]
  },
  {
   "cell_type": "code",
   "execution_count": 83,
   "id": "2733f178-f6da-4e55-a5cd-e340b60b6a2e",
   "metadata": {},
   "outputs": [
    {
     "data": {
      "text/plain": [
       "[0, 1, 0, 1, 0, 1]"
      ]
     },
     "execution_count": 83,
     "metadata": {},
     "output_type": "execute_result"
    }
   ],
   "source": [
    "slots_won = [0,1,None,1,0,1]\n",
    "\n",
    "for i in range(len(slots_won)): \n",
    "        if slots_won[i] == None: \n",
    "            slots_won[i] = 0\n",
    "            \n",
    "slots_won"
   ]
  },
  {
   "cell_type": "code",
   "execution_count": 84,
   "id": "828125dc-2173-46c0-ae4f-8af1affdeaff",
   "metadata": {},
   "outputs": [
    {
     "name": "stdout",
     "output_type": "stream",
     "text": [
      " slots_df    Slot Won  Slot Lost  Slot not part.\n",
      "1         0          1               0\n",
      "2         1          0               0\n",
      "3         0          0               1\n",
      "4         1          0               0\n",
      "5         0          1               0\n",
      "6         1          0               0\n",
      "[0, 1, 0, 1, 0, 1]\n",
      "[1, 0, 0, 0, 1, 0]\n",
      "[0, 0, 1, 0, 0, 0]\n"
     ]
    }
   ],
   "source": [
    "\n",
    "slots_won = [0,1,None,1,0,1]\n",
    "slots_lost = [None,None,None,None,None,None]\n",
    "slots_not_participated = [None,None,None,None,None,None]\n",
    "\n",
    "for x in range(len(slots_won)):\n",
    "    if slots_won[x] == 1:\n",
    "        slots_lost[x] = 0\n",
    "        slots_not_participated[x] = 0\n",
    "    elif slots_won[x] is None:\n",
    "        slots_lost[x] = 0\n",
    "        slots_won[x] = 0\n",
    "        slots_not_participated[x] = 1\n",
    "    elif slots_won[x] == 0:\n",
    "        slots_lost[x] = 1\n",
    "        slots_not_participated[x] = 0\n",
    "\n",
    "data = {'Slot Won': slots_won, 'Slot Lost': slots_lost, 'Slot not part.': slots_not_participated}\n",
    "slots_df = pd.DataFrame(data=data, index=[1, 2, 3, 4, 5, 6])\n",
    "print(\" slots_df \" + str(slots_df))\n",
    "px.bar(slots_df,  x= slots_df.index, y=['Slot Won', 'Slot Lost', 'Slot not part.'], color_discrete_sequence=[ \"green\", \"red\", \"gainsboro\"] )\n",
    "\n",
    "\n",
    "print(slots_won)\n",
    "print(slots_lost)\n",
    "print(slots_not_participated)"
   ]
  },
  {
   "cell_type": "code",
   "execution_count": 97,
   "id": "fe4a4cce-438d-476a-80d9-d7c491be097d",
   "metadata": {},
   "outputs": [
    {
     "name": "stdout",
     "output_type": "stream",
     "text": [
      "1\n"
     ]
    }
   ],
   "source": [
    "agents_bid_size = round(0.6)\n",
    "print(agents_bid_size)\n",
    "\n",
    "if agents_bid_size == 0: \n",
    "    print(\"works\")"
   ]
  },
  {
   "cell_type": "code",
   "execution_count": 16,
   "id": "82f11d4e-d9b8-422a-8549-d8599195e943",
   "metadata": {},
   "outputs": [
    {
     "data": {
      "text/plain": [
       "(0.07065751632953082+0.21746147478508865j)"
      ]
     },
     "execution_count": 17,
     "metadata": {},
     "output_type": "execute_result"
    }
   ],
   "source": [
    "1 - (-100/ 4000)**0.4"
   ]
  },
  {
   "cell_type": "code",
   "execution_count": 37,
   "id": "05261396-2637-4053-ba9c-88fe8a900005",
   "metadata": {},
   "outputs": [
    {
     "data": {
      "text/plain": [
       "0.3486784401000001"
      ]
     },
     "execution_count": 37,
     "metadata": {},
     "output_type": "execute_result"
    }
   ],
   "source": [
    "velocity = 0.0\n",
    "distance = (0/ 4000)\n",
    "\n",
    "dist_reward = 1 - distance**0.4\n",
    "\n",
    "vel_discount = (1 - max(velocity , 0.1))**(1/max(distance, 0.1))\n",
    "\n",
    "reward = vel_discount * dist_reward\n",
    "reward"
   ]
  },
  {
   "cell_type": "code",
   "execution_count": 38,
   "id": "9801fac0-eb6a-493f-97eb-0da4f9aae8ce",
   "metadata": {},
   "outputs": [
    {
     "data": {
      "text/plain": [
       "0.3486784401000001"
      ]
     },
     "execution_count": 38,
     "metadata": {},
     "output_type": "execute_result"
    }
   ],
   "source": [
    "(1 - max(velocity , 0.1))**(1/max(distance, 0.1))\n"
   ]
  },
  {
   "cell_type": "code",
   "execution_count": 42,
   "id": "d336e27c-92ee-425c-900b-b7e3bd745140",
   "metadata": {},
   "outputs": [
    {
     "data": {
      "text/plain": [
       "0.6866201517414198"
      ]
     },
     "execution_count": 42,
     "metadata": {},
     "output_type": "execute_result"
    }
   ],
   "source": [
    "velocity = 0.1\n",
    "distance = (100/ 4000)\n",
    "\n",
    "((1-distance**0.4) + (1- velocity**0.4))/2"
   ]
  },
  {
   "cell_type": "code",
   "execution_count": 45,
   "id": "9a4e7b02-5e2e-49b8-86a7-38d13750301a",
   "metadata": {},
   "outputs": [
    {
     "data": {
      "text/html": [
       "<div>\n",
       "<style scoped>\n",
       "    .dataframe tbody tr th:only-of-type {\n",
       "        vertical-align: middle;\n",
       "    }\n",
       "\n",
       "    .dataframe tbody tr th {\n",
       "        vertical-align: top;\n",
       "    }\n",
       "\n",
       "    .dataframe thead th {\n",
       "        text-align: right;\n",
       "    }\n",
       "</style>\n",
       "<table border=\"1\" class=\"dataframe\">\n",
       "  <thead>\n",
       "    <tr style=\"text-align: right;\">\n",
       "      <th></th>\n",
       "      <th>total_bill</th>\n",
       "      <th>tip</th>\n",
       "      <th>sex</th>\n",
       "      <th>smoker</th>\n",
       "      <th>day</th>\n",
       "      <th>time</th>\n",
       "      <th>size</th>\n",
       "    </tr>\n",
       "  </thead>\n",
       "  <tbody>\n",
       "    <tr>\n",
       "      <th>0</th>\n",
       "      <td>16.99</td>\n",
       "      <td>1.01</td>\n",
       "      <td>Female</td>\n",
       "      <td>No</td>\n",
       "      <td>Sun</td>\n",
       "      <td>Dinner</td>\n",
       "      <td>2</td>\n",
       "    </tr>\n",
       "    <tr>\n",
       "      <th>1</th>\n",
       "      <td>10.34</td>\n",
       "      <td>1.66</td>\n",
       "      <td>Male</td>\n",
       "      <td>No</td>\n",
       "      <td>Sun</td>\n",
       "      <td>Dinner</td>\n",
       "      <td>3</td>\n",
       "    </tr>\n",
       "    <tr>\n",
       "      <th>2</th>\n",
       "      <td>21.01</td>\n",
       "      <td>3.50</td>\n",
       "      <td>Male</td>\n",
       "      <td>No</td>\n",
       "      <td>Sun</td>\n",
       "      <td>Dinner</td>\n",
       "      <td>3</td>\n",
       "    </tr>\n",
       "    <tr>\n",
       "      <th>3</th>\n",
       "      <td>23.68</td>\n",
       "      <td>3.31</td>\n",
       "      <td>Male</td>\n",
       "      <td>No</td>\n",
       "      <td>Sun</td>\n",
       "      <td>Dinner</td>\n",
       "      <td>2</td>\n",
       "    </tr>\n",
       "    <tr>\n",
       "      <th>4</th>\n",
       "      <td>24.59</td>\n",
       "      <td>3.61</td>\n",
       "      <td>Female</td>\n",
       "      <td>No</td>\n",
       "      <td>Sun</td>\n",
       "      <td>Dinner</td>\n",
       "      <td>4</td>\n",
       "    </tr>\n",
       "    <tr>\n",
       "      <th>...</th>\n",
       "      <td>...</td>\n",
       "      <td>...</td>\n",
       "      <td>...</td>\n",
       "      <td>...</td>\n",
       "      <td>...</td>\n",
       "      <td>...</td>\n",
       "      <td>...</td>\n",
       "    </tr>\n",
       "    <tr>\n",
       "      <th>239</th>\n",
       "      <td>29.03</td>\n",
       "      <td>5.92</td>\n",
       "      <td>Male</td>\n",
       "      <td>No</td>\n",
       "      <td>Sat</td>\n",
       "      <td>Dinner</td>\n",
       "      <td>3</td>\n",
       "    </tr>\n",
       "    <tr>\n",
       "      <th>240</th>\n",
       "      <td>27.18</td>\n",
       "      <td>2.00</td>\n",
       "      <td>Female</td>\n",
       "      <td>Yes</td>\n",
       "      <td>Sat</td>\n",
       "      <td>Dinner</td>\n",
       "      <td>2</td>\n",
       "    </tr>\n",
       "    <tr>\n",
       "      <th>241</th>\n",
       "      <td>22.67</td>\n",
       "      <td>2.00</td>\n",
       "      <td>Male</td>\n",
       "      <td>Yes</td>\n",
       "      <td>Sat</td>\n",
       "      <td>Dinner</td>\n",
       "      <td>2</td>\n",
       "    </tr>\n",
       "    <tr>\n",
       "      <th>242</th>\n",
       "      <td>17.82</td>\n",
       "      <td>1.75</td>\n",
       "      <td>Male</td>\n",
       "      <td>No</td>\n",
       "      <td>Sat</td>\n",
       "      <td>Dinner</td>\n",
       "      <td>2</td>\n",
       "    </tr>\n",
       "    <tr>\n",
       "      <th>243</th>\n",
       "      <td>18.78</td>\n",
       "      <td>3.00</td>\n",
       "      <td>Female</td>\n",
       "      <td>No</td>\n",
       "      <td>Thur</td>\n",
       "      <td>Dinner</td>\n",
       "      <td>2</td>\n",
       "    </tr>\n",
       "  </tbody>\n",
       "</table>\n",
       "<p>244 rows × 7 columns</p>\n",
       "</div>"
      ],
      "text/plain": [
       "     total_bill   tip     sex smoker   day    time  size\n",
       "0         16.99  1.01  Female     No   Sun  Dinner     2\n",
       "1         10.34  1.66    Male     No   Sun  Dinner     3\n",
       "2         21.01  3.50    Male     No   Sun  Dinner     3\n",
       "3         23.68  3.31    Male     No   Sun  Dinner     2\n",
       "4         24.59  3.61  Female     No   Sun  Dinner     4\n",
       "..          ...   ...     ...    ...   ...     ...   ...\n",
       "239       29.03  5.92    Male     No   Sat  Dinner     3\n",
       "240       27.18  2.00  Female    Yes   Sat  Dinner     2\n",
       "241       22.67  2.00    Male    Yes   Sat  Dinner     2\n",
       "242       17.82  1.75    Male     No   Sat  Dinner     2\n",
       "243       18.78  3.00  Female     No  Thur  Dinner     2\n",
       "\n",
       "[244 rows x 7 columns]"
      ]
     },
     "execution_count": 45,
     "metadata": {},
     "output_type": "execute_result"
    }
   ],
   "source": [
    "px.data.tips()"
   ]
  },
  {
   "cell_type": "code",
   "execution_count": 54,
   "id": "7ca2d293-a078-4f97-95de-3f74e5ff8dff",
   "metadata": {},
   "outputs": [
    {
     "data": {
      "application/vnd.plotly.v1+json": {
       "config": {
        "plotlyServerURL": "https://plot.ly"
       },
       "data": [
        {
         "colorscale": [
          [
           0,
           "rgb(103,0,31)"
          ],
          [
           0.1,
           "rgb(178,24,43)"
          ],
          [
           0.2,
           "rgb(214,96,77)"
          ],
          [
           0.3,
           "rgb(244,165,130)"
          ],
          [
           0.4,
           "rgb(253,219,199)"
          ],
          [
           0.5,
           "rgb(247,247,247)"
          ],
          [
           0.6,
           "rgb(209,229,240)"
          ],
          [
           0.7,
           "rgb(146,197,222)"
          ],
          [
           0.8,
           "rgb(67,147,195)"
          ],
          [
           0.9,
           "rgb(33,102,172)"
          ],
          [
           1,
           "rgb(5,48,97)"
          ]
         ],
         "type": "heatmap",
         "z": [
          [
           0,
           0.1,
           0.2,
           0.30000000000000004,
           0.4,
           0.5,
           0.6000000000000001,
           0.7000000000000001,
           0.8,
           0.9
          ],
          [
           0,
           0.1,
           0.2,
           0.30000000000000004,
           0.4,
           0.5,
           0.6000000000000001,
           0.7000000000000001,
           0.8,
           0.9
          ],
          [
           0,
           0.1,
           0.2,
           0.30000000000000004,
           0.4,
           0.5,
           0.6000000000000001,
           0.7000000000000001,
           0.8,
           0.9
          ]
         ],
         "zmid": 0
        }
       ],
       "layout": {
        "autosize": true,
        "template": {
         "data": {
          "bar": [
           {
            "error_x": {
             "color": "#2a3f5f"
            },
            "error_y": {
             "color": "#2a3f5f"
            },
            "marker": {
             "line": {
              "color": "#E5ECF6",
              "width": 0.5
             },
             "pattern": {
              "fillmode": "overlay",
              "size": 10,
              "solidity": 0.2
             }
            },
            "type": "bar"
           }
          ],
          "barpolar": [
           {
            "marker": {
             "line": {
              "color": "#E5ECF6",
              "width": 0.5
             },
             "pattern": {
              "fillmode": "overlay",
              "size": 10,
              "solidity": 0.2
             }
            },
            "type": "barpolar"
           }
          ],
          "carpet": [
           {
            "aaxis": {
             "endlinecolor": "#2a3f5f",
             "gridcolor": "white",
             "linecolor": "white",
             "minorgridcolor": "white",
             "startlinecolor": "#2a3f5f"
            },
            "baxis": {
             "endlinecolor": "#2a3f5f",
             "gridcolor": "white",
             "linecolor": "white",
             "minorgridcolor": "white",
             "startlinecolor": "#2a3f5f"
            },
            "type": "carpet"
           }
          ],
          "choropleth": [
           {
            "colorbar": {
             "outlinewidth": 0,
             "ticks": ""
            },
            "type": "choropleth"
           }
          ],
          "contour": [
           {
            "colorbar": {
             "outlinewidth": 0,
             "ticks": ""
            },
            "colorscale": [
             [
              0,
              "#0d0887"
             ],
             [
              0.1111111111111111,
              "#46039f"
             ],
             [
              0.2222222222222222,
              "#7201a8"
             ],
             [
              0.3333333333333333,
              "#9c179e"
             ],
             [
              0.4444444444444444,
              "#bd3786"
             ],
             [
              0.5555555555555556,
              "#d8576b"
             ],
             [
              0.6666666666666666,
              "#ed7953"
             ],
             [
              0.7777777777777778,
              "#fb9f3a"
             ],
             [
              0.8888888888888888,
              "#fdca26"
             ],
             [
              1,
              "#f0f921"
             ]
            ],
            "type": "contour"
           }
          ],
          "contourcarpet": [
           {
            "colorbar": {
             "outlinewidth": 0,
             "ticks": ""
            },
            "type": "contourcarpet"
           }
          ],
          "heatmap": [
           {
            "colorbar": {
             "outlinewidth": 0,
             "ticks": ""
            },
            "colorscale": [
             [
              0,
              "#0d0887"
             ],
             [
              0.1111111111111111,
              "#46039f"
             ],
             [
              0.2222222222222222,
              "#7201a8"
             ],
             [
              0.3333333333333333,
              "#9c179e"
             ],
             [
              0.4444444444444444,
              "#bd3786"
             ],
             [
              0.5555555555555556,
              "#d8576b"
             ],
             [
              0.6666666666666666,
              "#ed7953"
             ],
             [
              0.7777777777777778,
              "#fb9f3a"
             ],
             [
              0.8888888888888888,
              "#fdca26"
             ],
             [
              1,
              "#f0f921"
             ]
            ],
            "type": "heatmap"
           }
          ],
          "heatmapgl": [
           {
            "colorbar": {
             "outlinewidth": 0,
             "ticks": ""
            },
            "colorscale": [
             [
              0,
              "#0d0887"
             ],
             [
              0.1111111111111111,
              "#46039f"
             ],
             [
              0.2222222222222222,
              "#7201a8"
             ],
             [
              0.3333333333333333,
              "#9c179e"
             ],
             [
              0.4444444444444444,
              "#bd3786"
             ],
             [
              0.5555555555555556,
              "#d8576b"
             ],
             [
              0.6666666666666666,
              "#ed7953"
             ],
             [
              0.7777777777777778,
              "#fb9f3a"
             ],
             [
              0.8888888888888888,
              "#fdca26"
             ],
             [
              1,
              "#f0f921"
             ]
            ],
            "type": "heatmapgl"
           }
          ],
          "histogram": [
           {
            "marker": {
             "pattern": {
              "fillmode": "overlay",
              "size": 10,
              "solidity": 0.2
             }
            },
            "type": "histogram"
           }
          ],
          "histogram2d": [
           {
            "colorbar": {
             "outlinewidth": 0,
             "ticks": ""
            },
            "colorscale": [
             [
              0,
              "#0d0887"
             ],
             [
              0.1111111111111111,
              "#46039f"
             ],
             [
              0.2222222222222222,
              "#7201a8"
             ],
             [
              0.3333333333333333,
              "#9c179e"
             ],
             [
              0.4444444444444444,
              "#bd3786"
             ],
             [
              0.5555555555555556,
              "#d8576b"
             ],
             [
              0.6666666666666666,
              "#ed7953"
             ],
             [
              0.7777777777777778,
              "#fb9f3a"
             ],
             [
              0.8888888888888888,
              "#fdca26"
             ],
             [
              1,
              "#f0f921"
             ]
            ],
            "type": "histogram2d"
           }
          ],
          "histogram2dcontour": [
           {
            "colorbar": {
             "outlinewidth": 0,
             "ticks": ""
            },
            "colorscale": [
             [
              0,
              "#0d0887"
             ],
             [
              0.1111111111111111,
              "#46039f"
             ],
             [
              0.2222222222222222,
              "#7201a8"
             ],
             [
              0.3333333333333333,
              "#9c179e"
             ],
             [
              0.4444444444444444,
              "#bd3786"
             ],
             [
              0.5555555555555556,
              "#d8576b"
             ],
             [
              0.6666666666666666,
              "#ed7953"
             ],
             [
              0.7777777777777778,
              "#fb9f3a"
             ],
             [
              0.8888888888888888,
              "#fdca26"
             ],
             [
              1,
              "#f0f921"
             ]
            ],
            "type": "histogram2dcontour"
           }
          ],
          "mesh3d": [
           {
            "colorbar": {
             "outlinewidth": 0,
             "ticks": ""
            },
            "type": "mesh3d"
           }
          ],
          "parcoords": [
           {
            "line": {
             "colorbar": {
              "outlinewidth": 0,
              "ticks": ""
             }
            },
            "type": "parcoords"
           }
          ],
          "pie": [
           {
            "automargin": true,
            "type": "pie"
           }
          ],
          "scatter": [
           {
            "marker": {
             "colorbar": {
              "outlinewidth": 0,
              "ticks": ""
             }
            },
            "type": "scatter"
           }
          ],
          "scatter3d": [
           {
            "line": {
             "colorbar": {
              "outlinewidth": 0,
              "ticks": ""
             }
            },
            "marker": {
             "colorbar": {
              "outlinewidth": 0,
              "ticks": ""
             }
            },
            "type": "scatter3d"
           }
          ],
          "scattercarpet": [
           {
            "marker": {
             "colorbar": {
              "outlinewidth": 0,
              "ticks": ""
             }
            },
            "type": "scattercarpet"
           }
          ],
          "scattergeo": [
           {
            "marker": {
             "colorbar": {
              "outlinewidth": 0,
              "ticks": ""
             }
            },
            "type": "scattergeo"
           }
          ],
          "scattergl": [
           {
            "marker": {
             "colorbar": {
              "outlinewidth": 0,
              "ticks": ""
             }
            },
            "type": "scattergl"
           }
          ],
          "scattermapbox": [
           {
            "marker": {
             "colorbar": {
              "outlinewidth": 0,
              "ticks": ""
             }
            },
            "type": "scattermapbox"
           }
          ],
          "scatterpolar": [
           {
            "marker": {
             "colorbar": {
              "outlinewidth": 0,
              "ticks": ""
             }
            },
            "type": "scatterpolar"
           }
          ],
          "scatterpolargl": [
           {
            "marker": {
             "colorbar": {
              "outlinewidth": 0,
              "ticks": ""
             }
            },
            "type": "scatterpolargl"
           }
          ],
          "scatterternary": [
           {
            "marker": {
             "colorbar": {
              "outlinewidth": 0,
              "ticks": ""
             }
            },
            "type": "scatterternary"
           }
          ],
          "surface": [
           {
            "colorbar": {
             "outlinewidth": 0,
             "ticks": ""
            },
            "colorscale": [
             [
              0,
              "#0d0887"
             ],
             [
              0.1111111111111111,
              "#46039f"
             ],
             [
              0.2222222222222222,
              "#7201a8"
             ],
             [
              0.3333333333333333,
              "#9c179e"
             ],
             [
              0.4444444444444444,
              "#bd3786"
             ],
             [
              0.5555555555555556,
              "#d8576b"
             ],
             [
              0.6666666666666666,
              "#ed7953"
             ],
             [
              0.7777777777777778,
              "#fb9f3a"
             ],
             [
              0.8888888888888888,
              "#fdca26"
             ],
             [
              1,
              "#f0f921"
             ]
            ],
            "type": "surface"
           }
          ],
          "table": [
           {
            "cells": {
             "fill": {
              "color": "#EBF0F8"
             },
             "line": {
              "color": "white"
             }
            },
            "header": {
             "fill": {
              "color": "#C8D4E3"
             },
             "line": {
              "color": "white"
             }
            },
            "type": "table"
           }
          ]
         },
         "layout": {
          "annotationdefaults": {
           "arrowcolor": "#2a3f5f",
           "arrowhead": 0,
           "arrowwidth": 1
          },
          "autotypenumbers": "strict",
          "coloraxis": {
           "colorbar": {
            "outlinewidth": 0,
            "ticks": ""
           }
          },
          "colorscale": {
           "diverging": [
            [
             0,
             "#8e0152"
            ],
            [
             0.1,
             "#c51b7d"
            ],
            [
             0.2,
             "#de77ae"
            ],
            [
             0.3,
             "#f1b6da"
            ],
            [
             0.4,
             "#fde0ef"
            ],
            [
             0.5,
             "#f7f7f7"
            ],
            [
             0.6,
             "#e6f5d0"
            ],
            [
             0.7,
             "#b8e186"
            ],
            [
             0.8,
             "#7fbc41"
            ],
            [
             0.9,
             "#4d9221"
            ],
            [
             1,
             "#276419"
            ]
           ],
           "sequential": [
            [
             0,
             "#0d0887"
            ],
            [
             0.1111111111111111,
             "#46039f"
            ],
            [
             0.2222222222222222,
             "#7201a8"
            ],
            [
             0.3333333333333333,
             "#9c179e"
            ],
            [
             0.4444444444444444,
             "#bd3786"
            ],
            [
             0.5555555555555556,
             "#d8576b"
            ],
            [
             0.6666666666666666,
             "#ed7953"
            ],
            [
             0.7777777777777778,
             "#fb9f3a"
            ],
            [
             0.8888888888888888,
             "#fdca26"
            ],
            [
             1,
             "#f0f921"
            ]
           ],
           "sequentialminus": [
            [
             0,
             "#0d0887"
            ],
            [
             0.1111111111111111,
             "#46039f"
            ],
            [
             0.2222222222222222,
             "#7201a8"
            ],
            [
             0.3333333333333333,
             "#9c179e"
            ],
            [
             0.4444444444444444,
             "#bd3786"
            ],
            [
             0.5555555555555556,
             "#d8576b"
            ],
            [
             0.6666666666666666,
             "#ed7953"
            ],
            [
             0.7777777777777778,
             "#fb9f3a"
            ],
            [
             0.8888888888888888,
             "#fdca26"
            ],
            [
             1,
             "#f0f921"
            ]
           ]
          },
          "colorway": [
           "#636efa",
           "#EF553B",
           "#00cc96",
           "#ab63fa",
           "#FFA15A",
           "#19d3f3",
           "#FF6692",
           "#B6E880",
           "#FF97FF",
           "#FECB52"
          ],
          "font": {
           "color": "#2a3f5f"
          },
          "geo": {
           "bgcolor": "white",
           "lakecolor": "white",
           "landcolor": "#E5ECF6",
           "showlakes": true,
           "showland": true,
           "subunitcolor": "white"
          },
          "hoverlabel": {
           "align": "left"
          },
          "hovermode": "closest",
          "mapbox": {
           "style": "light"
          },
          "paper_bgcolor": "white",
          "plot_bgcolor": "#E5ECF6",
          "polar": {
           "angularaxis": {
            "gridcolor": "white",
            "linecolor": "white",
            "ticks": ""
           },
           "bgcolor": "#E5ECF6",
           "radialaxis": {
            "gridcolor": "white",
            "linecolor": "white",
            "ticks": ""
           }
          },
          "scene": {
           "xaxis": {
            "backgroundcolor": "#E5ECF6",
            "gridcolor": "white",
            "gridwidth": 2,
            "linecolor": "white",
            "showbackground": true,
            "ticks": "",
            "zerolinecolor": "white"
           },
           "yaxis": {
            "backgroundcolor": "#E5ECF6",
            "gridcolor": "white",
            "gridwidth": 2,
            "linecolor": "white",
            "showbackground": true,
            "ticks": "",
            "zerolinecolor": "white"
           },
           "zaxis": {
            "backgroundcolor": "#E5ECF6",
            "gridcolor": "white",
            "gridwidth": 2,
            "linecolor": "white",
            "showbackground": true,
            "ticks": "",
            "zerolinecolor": "white"
           }
          },
          "shapedefaults": {
           "line": {
            "color": "#2a3f5f"
           }
          },
          "ternary": {
           "aaxis": {
            "gridcolor": "white",
            "linecolor": "white",
            "ticks": ""
           },
           "baxis": {
            "gridcolor": "white",
            "linecolor": "white",
            "ticks": ""
           },
           "bgcolor": "#E5ECF6",
           "caxis": {
            "gridcolor": "white",
            "linecolor": "white",
            "ticks": ""
           }
          },
          "title": {
           "x": 0.05
          },
          "xaxis": {
           "automargin": true,
           "gridcolor": "white",
           "linecolor": "white",
           "ticks": "",
           "title": {
            "standoff": 15
           },
           "zerolinecolor": "white",
           "zerolinewidth": 2
          },
          "yaxis": {
           "automargin": true,
           "gridcolor": "white",
           "linecolor": "white",
           "ticks": "",
           "title": {
            "standoff": 15
           },
           "zerolinecolor": "white",
           "zerolinewidth": 2
          }
         }
        },
        "xaxis": {
         "autorange": true,
         "range": [
          -0.5,
          9.5
         ]
        },
        "yaxis": {
         "autorange": true,
         "range": [
          -0.5,
          2.5
         ]
        }
       }
      },
      "image/png": "[encoded data removed]",
      "text/html": [
       "<div>                            <div id=\"5ffa260c-d79e-4765-8d46-39d840c84ca3\" class=\"plotly-graph-div\" style=\"height:525px; width:100%;\"></div>            <script type=\"text/javascript\">                require([\"plotly\"], function(Plotly) {                    window.PLOTLYENV=window.PLOTLYENV || {};                                    if (document.getElementById(\"5ffa260c-d79e-4765-8d46-39d840c84ca3\")) {                    Plotly.newPlot(                        \"5ffa260c-d79e-4765-8d46-39d840c84ca3\",                        [{\"colorscale\":[[0.0,\"rgb(103,0,31)\"],[0.1,\"rgb(178,24,43)\"],[0.2,\"rgb(214,96,77)\"],[0.3,\"rgb(244,165,130)\"],[0.4,\"rgb(253,219,199)\"],[0.5,\"rgb(247,247,247)\"],[0.6,\"rgb(209,229,240)\"],[0.7,\"rgb(146,197,222)\"],[0.8,\"rgb(67,147,195)\"],[0.9,\"rgb(33,102,172)\"],[1.0,\"rgb(5,48,97)\"]],\"type\":\"heatmap\",\"z\":[[0.0,0.1,0.2,0.30000000000000004,0.4,0.5,0.6000000000000001,0.7000000000000001,0.8,0.9],[0.0,0.1,0.2,0.30000000000000004,0.4,0.5,0.6000000000000001,0.7000000000000001,0.8,0.9],[0.0,0.1,0.2,0.30000000000000004,0.4,0.5,0.6000000000000001,0.7000000000000001,0.8,0.9]],\"zmid\":0}],                        {\"template\":{\"data\":{\"bar\":[{\"error_x\":{\"color\":\"#2a3f5f\"},\"error_y\":{\"color\":\"#2a3f5f\"},\"marker\":{\"line\":{\"color\":\"#E5ECF6\",\"width\":0.5},\"pattern\":{\"fillmode\":\"overlay\",\"size\":10,\"solidity\":0.2}},\"type\":\"bar\"}],\"barpolar\":[{\"marker\":{\"line\":{\"color\":\"#E5ECF6\",\"width\":0.5},\"pattern\":{\"fillmode\":\"overlay\",\"size\":10,\"solidity\":0.2}},\"type\":\"barpolar\"}],\"carpet\":[{\"aaxis\":{\"endlinecolor\":\"#2a3f5f\",\"gridcolor\":\"white\",\"linecolor\":\"white\",\"minorgridcolor\":\"white\",\"startlinecolor\":\"#2a3f5f\"},\"baxis\":{\"endlinecolor\":\"#2a3f5f\",\"gridcolor\":\"white\",\"linecolor\":\"white\",\"minorgridcolor\":\"white\",\"startlinecolor\":\"#2a3f5f\"},\"type\":\"carpet\"}],\"choropleth\":[{\"colorbar\":{\"outlinewidth\":0,\"ticks\":\"\"},\"type\":\"choropleth\"}],\"contour\":[{\"colorbar\":{\"outlinewidth\":0,\"ticks\":\"\"},\"colorscale\":[[0.0,\"#0d0887\"],[0.1111111111111111,\"#46039f\"],[0.2222222222222222,\"#7201a8\"],[0.3333333333333333,\"#9c179e\"],[0.4444444444444444,\"#bd3786\"],[0.5555555555555556,\"#d8576b\"],[0.6666666666666666,\"#ed7953\"],[0.7777777777777778,\"#fb9f3a\"],[0.8888888888888888,\"#fdca26\"],[1.0,\"#f0f921\"]],\"type\":\"contour\"}],\"contourcarpet\":[{\"colorbar\":{\"outlinewidth\":0,\"ticks\":\"\"},\"type\":\"contourcarpet\"}],\"heatmap\":[{\"colorbar\":{\"outlinewidth\":0,\"ticks\":\"\"},\"colorscale\":[[0.0,\"#0d0887\"],[0.1111111111111111,\"#46039f\"],[0.2222222222222222,\"#7201a8\"],[0.3333333333333333,\"#9c179e\"],[0.4444444444444444,\"#bd3786\"],[0.5555555555555556,\"#d8576b\"],[0.6666666666666666,\"#ed7953\"],[0.7777777777777778,\"#fb9f3a\"],[0.8888888888888888,\"#fdca26\"],[1.0,\"#f0f921\"]],\"type\":\"heatmap\"}],\"heatmapgl\":[{\"colorbar\":{\"outlinewidth\":0,\"ticks\":\"\"},\"colorscale\":[[0.0,\"#0d0887\"],[0.1111111111111111,\"#46039f\"],[0.2222222222222222,\"#7201a8\"],[0.3333333333333333,\"#9c179e\"],[0.4444444444444444,\"#bd3786\"],[0.5555555555555556,\"#d8576b\"],[0.6666666666666666,\"#ed7953\"],[0.7777777777777778,\"#fb9f3a\"],[0.8888888888888888,\"#fdca26\"],[1.0,\"#f0f921\"]],\"type\":\"heatmapgl\"}],\"histogram\":[{\"marker\":{\"pattern\":{\"fillmode\":\"overlay\",\"size\":10,\"solidity\":0.2}},\"type\":\"histogram\"}],\"histogram2d\":[{\"colorbar\":{\"outlinewidth\":0,\"ticks\":\"\"},\"colorscale\":[[0.0,\"#0d0887\"],[0.1111111111111111,\"#46039f\"],[0.2222222222222222,\"#7201a8\"],[0.3333333333333333,\"#9c179e\"],[0.4444444444444444,\"#bd3786\"],[0.5555555555555556,\"#d8576b\"],[0.6666666666666666,\"#ed7953\"],[0.7777777777777778,\"#fb9f3a\"],[0.8888888888888888,\"#fdca26\"],[1.0,\"#f0f921\"]],\"type\":\"histogram2d\"}],\"histogram2dcontour\":[{\"colorbar\":{\"outlinewidth\":0,\"ticks\":\"\"},\"colorscale\":[[0.0,\"#0d0887\"],[0.1111111111111111,\"#46039f\"],[0.2222222222222222,\"#7201a8\"],[0.3333333333333333,\"#9c179e\"],[0.4444444444444444,\"#bd3786\"],[0.5555555555555556,\"#d8576b\"],[0.6666666666666666,\"#ed7953\"],[0.7777777777777778,\"#fb9f3a\"],[0.8888888888888888,\"#fdca26\"],[1.0,\"#f0f921\"]],\"type\":\"histogram2dcontour\"}],\"mesh3d\":[{\"colorbar\":{\"outlinewidth\":0,\"ticks\":\"\"},\"type\":\"mesh3d\"}],\"parcoords\":[{\"line\":{\"colorbar\":{\"outlinewidth\":0,\"ticks\":\"\"}},\"type\":\"parcoords\"}],\"pie\":[{\"automargin\":true,\"type\":\"pie\"}],\"scatter\":[{\"marker\":{\"colorbar\":{\"outlinewidth\":0,\"ticks\":\"\"}},\"type\":\"scatter\"}],\"scatter3d\":[{\"line\":{\"colorbar\":{\"outlinewidth\":0,\"ticks\":\"\"}},\"marker\":{\"colorbar\":{\"outlinewidth\":0,\"ticks\":\"\"}},\"type\":\"scatter3d\"}],\"scattercarpet\":[{\"marker\":{\"colorbar\":{\"outlinewidth\":0,\"ticks\":\"\"}},\"type\":\"scattercarpet\"}],\"scattergeo\":[{\"marker\":{\"colorbar\":{\"outlinewidth\":0,\"ticks\":\"\"}},\"type\":\"scattergeo\"}],\"scattergl\":[{\"marker\":{\"colorbar\":{\"outlinewidth\":0,\"ticks\":\"\"}},\"type\":\"scattergl\"}],\"scattermapbox\":[{\"marker\":{\"colorbar\":{\"outlinewidth\":0,\"ticks\":\"\"}},\"type\":\"scattermapbox\"}],\"scatterpolar\":[{\"marker\":{\"colorbar\":{\"outlinewidth\":0,\"ticks\":\"\"}},\"type\":\"scatterpolar\"}],\"scatterpolargl\":[{\"marker\":{\"colorbar\":{\"outlinewidth\":0,\"ticks\":\"\"}},\"type\":\"scatterpolargl\"}],\"scatterternary\":[{\"marker\":{\"colorbar\":{\"outlinewidth\":0,\"ticks\":\"\"}},\"type\":\"scatterternary\"}],\"surface\":[{\"colorbar\":{\"outlinewidth\":0,\"ticks\":\"\"},\"colorscale\":[[0.0,\"#0d0887\"],[0.1111111111111111,\"#46039f\"],[0.2222222222222222,\"#7201a8\"],[0.3333333333333333,\"#9c179e\"],[0.4444444444444444,\"#bd3786\"],[0.5555555555555556,\"#d8576b\"],[0.6666666666666666,\"#ed7953\"],[0.7777777777777778,\"#fb9f3a\"],[0.8888888888888888,\"#fdca26\"],[1.0,\"#f0f921\"]],\"type\":\"surface\"}],\"table\":[{\"cells\":{\"fill\":{\"color\":\"#EBF0F8\"},\"line\":{\"color\":\"white\"}},\"header\":{\"fill\":{\"color\":\"#C8D4E3\"},\"line\":{\"color\":\"white\"}},\"type\":\"table\"}]},\"layout\":{\"annotationdefaults\":{\"arrowcolor\":\"#2a3f5f\",\"arrowhead\":0,\"arrowwidth\":1},\"autotypenumbers\":\"strict\",\"coloraxis\":{\"colorbar\":{\"outlinewidth\":0,\"ticks\":\"\"}},\"colorscale\":{\"diverging\":[[0,\"#8e0152\"],[0.1,\"#c51b7d\"],[0.2,\"#de77ae\"],[0.3,\"#f1b6da\"],[0.4,\"#fde0ef\"],[0.5,\"#f7f7f7\"],[0.6,\"#e6f5d0\"],[0.7,\"#b8e186\"],[0.8,\"#7fbc41\"],[0.9,\"#4d9221\"],[1,\"#276419\"]],\"sequential\":[[0.0,\"#0d0887\"],[0.1111111111111111,\"#46039f\"],[0.2222222222222222,\"#7201a8\"],[0.3333333333333333,\"#9c179e\"],[0.4444444444444444,\"#bd3786\"],[0.5555555555555556,\"#d8576b\"],[0.6666666666666666,\"#ed7953\"],[0.7777777777777778,\"#fb9f3a\"],[0.8888888888888888,\"#fdca26\"],[1.0,\"#f0f921\"]],\"sequentialminus\":[[0.0,\"#0d0887\"],[0.1111111111111111,\"#46039f\"],[0.2222222222222222,\"#7201a8\"],[0.3333333333333333,\"#9c179e\"],[0.4444444444444444,\"#bd3786\"],[0.5555555555555556,\"#d8576b\"],[0.6666666666666666,\"#ed7953\"],[0.7777777777777778,\"#fb9f3a\"],[0.8888888888888888,\"#fdca26\"],[1.0,\"#f0f921\"]]},\"colorway\":[\"#636efa\",\"#EF553B\",\"#00cc96\",\"#ab63fa\",\"#FFA15A\",\"#19d3f3\",\"#FF6692\",\"#B6E880\",\"#FF97FF\",\"#FECB52\"],\"font\":{\"color\":\"#2a3f5f\"},\"geo\":{\"bgcolor\":\"white\",\"lakecolor\":\"white\",\"landcolor\":\"#E5ECF6\",\"showlakes\":true,\"showland\":true,\"subunitcolor\":\"white\"},\"hoverlabel\":{\"align\":\"left\"},\"hovermode\":\"closest\",\"mapbox\":{\"style\":\"light\"},\"paper_bgcolor\":\"white\",\"plot_bgcolor\":\"#E5ECF6\",\"polar\":{\"angularaxis\":{\"gridcolor\":\"white\",\"linecolor\":\"white\",\"ticks\":\"\"},\"bgcolor\":\"#E5ECF6\",\"radialaxis\":{\"gridcolor\":\"white\",\"linecolor\":\"white\",\"ticks\":\"\"}},\"scene\":{\"xaxis\":{\"backgroundcolor\":\"#E5ECF6\",\"gridcolor\":\"white\",\"gridwidth\":2,\"linecolor\":\"white\",\"showbackground\":true,\"ticks\":\"\",\"zerolinecolor\":\"white\"},\"yaxis\":{\"backgroundcolor\":\"#E5ECF6\",\"gridcolor\":\"white\",\"gridwidth\":2,\"linecolor\":\"white\",\"showbackground\":true,\"ticks\":\"\",\"zerolinecolor\":\"white\"},\"zaxis\":{\"backgroundcolor\":\"#E5ECF6\",\"gridcolor\":\"white\",\"gridwidth\":2,\"linecolor\":\"white\",\"showbackground\":true,\"ticks\":\"\",\"zerolinecolor\":\"white\"}},\"shapedefaults\":{\"line\":{\"color\":\"#2a3f5f\"}},\"ternary\":{\"aaxis\":{\"gridcolor\":\"white\",\"linecolor\":\"white\",\"ticks\":\"\"},\"baxis\":{\"gridcolor\":\"white\",\"linecolor\":\"white\",\"ticks\":\"\"},\"bgcolor\":\"#E5ECF6\",\"caxis\":{\"gridcolor\":\"white\",\"linecolor\":\"white\",\"ticks\":\"\"}},\"title\":{\"x\":0.05},\"xaxis\":{\"automargin\":true,\"gridcolor\":\"white\",\"linecolor\":\"white\",\"ticks\":\"\",\"title\":{\"standoff\":15},\"zerolinecolor\":\"white\",\"zerolinewidth\":2},\"yaxis\":{\"automargin\":true,\"gridcolor\":\"white\",\"linecolor\":\"white\",\"ticks\":\"\",\"title\":{\"standoff\":15},\"zerolinecolor\":\"white\",\"zerolinewidth\":2}}}},                        {\"responsive\": true}                    ).then(function(){\n",
       "                            \n",
       "var gd = document.getElementById('5ffa260c-d79e-4765-8d46-39d840c84ca3');\n",
       "var x = new MutationObserver(function (mutations, observer) {{\n",
       "        var display = window.getComputedStyle(gd).display;\n",
       "        if (!display || display === 'none') {{\n",
       "            console.log([gd, 'removed!']);\n",
       "            Plotly.purge(gd);\n",
       "            observer.disconnect();\n",
       "        }}\n",
       "}});\n",
       "\n",
       "// Listen for the removal of the full notebook cells\n",
       "var notebookContainer = gd.closest('#notebook-container');\n",
       "if (notebookContainer) {{\n",
       "    x.observe(notebookContainer, {childList: true});\n",
       "}}\n",
       "\n",
       "// Listen for the clearing of the current output cell\n",
       "var outputEl = gd.closest('.output');\n",
       "if (outputEl) {{\n",
       "    x.observe(outputEl, {childList: true});\n",
       "}}\n",
       "\n",
       "                        })                };                });            </script>        </div>"
      ]
     },
     "metadata": {},
     "output_type": "display_data"
    }
   ],
   "source": [
    "import plotly.graph_objects as go\n",
    "\n",
    "a = [x * 0.1 for x in range(0, 10)]\n",
    "b = [x * 0.1 for x in range(0, 10)]\n",
    "\n",
    "fig = go.Figure(go.Heatmap(\n",
    "    z=[a, b, c],\n",
    "    colorscale='RdBu',\n",
    "    zmid=0))\n",
    "\n",
    "fig.show()"
   ]
  },
  {
   "cell_type": "code",
   "execution_count": 55,
   "id": "1adc9ad6-0852-4d3a-a181-9ab79d058742",
   "metadata": {},
   "outputs": [
    {
     "data": {
      "text/plain": [
       "[0.0,\n",
       " 0.1,\n",
       " 0.2,\n",
       " 0.30000000000000004,\n",
       " 0.4,\n",
       " 0.5,\n",
       " 0.6000000000000001,\n",
       " 0.7000000000000001,\n",
       " 0.8,\n",
       " 0.9]"
      ]
     },
     "execution_count": 55,
     "metadata": {},
     "output_type": "execute_result"
    }
   ],
   "source": [
    "c"
   ]
  },
  {
   "cell_type": "code",
   "execution_count": 82,
   "id": "cafb593d-1242-455d-b777-440bdd264675",
   "metadata": {},
   "outputs": [
    {
     "data": {
      "text/plain": [
       "<matplotlib.contour.QuadContourSet at 0x12c939760>"
      ]
     },
     "execution_count": 82,
     "metadata": {},
     "output_type": "execute_result"
    },
    {
     "data": {
      "image/png": "[encoded data removed]",
      "text/plain": [
       "<Figure size 432x288 with 1 Axes>"
      ]
     },
     "metadata": {
      "needs_background": "light"
     },
     "output_type": "display_data"
    }
   ],
   "source": [
    "import numpy as np\n",
    "import matplotlib.pyplot as plt\n",
    "\n",
    "distance = np.linspace(0, 1, 11)\n",
    "velocity = np.linspace(0, 1, 11)\n",
    "\n",
    "z = np.array([ (1 - d**0.4) * ((1 - max(v , 0.1))**(1/max(d, 0.1))) for d in distance for v in velocity])\n",
    "Z = z.reshape(11, 11)\n",
    "\n",
    "plt.contourf(distance, velocity, Z)\n",
    "\n"
   ]
  },
  {
   "cell_type": "code",
   "execution_count": 79,
   "id": "0a567278-8aa6-4088-ab79-28046c38801c",
   "metadata": {},
   "outputs": [
    {
     "data": {
      "text/plain": [
       "array([[3.48678440e-01, 3.48678440e-01, 3.48678440e-01, 1.96874404e-01,\n",
       "        1.07374182e-01, 5.63135147e-02, 2.82475249e-02, 1.34627433e-02,\n",
       "        6.04661760e-03, 2.53295162e-03, 9.76562500e-04, 3.40506289e-04,\n",
       "        1.04857600e-04, 2.75854735e-05, 5.90490000e-06, 9.53674316e-07,\n",
       "        1.02400000e-07, 5.76650391e-09, 1.00000000e-10, 9.76562500e-14,\n",
       "        0.00000000e+00],\n",
       "       [2.43479080e-01, 2.43479080e-01, 2.43479080e-01, 1.37475661e-01,\n",
       "        7.49784449e-02, 3.93232308e-02, 1.97249976e-02, 9.40091498e-03,\n",
       "        4.22229976e-03, 1.76873778e-03, 6.81924984e-04, 2.37772540e-04,\n",
       "        7.32211376e-05, 1.92626930e-05, 4.12333961e-06, 6.65942367e-07,\n",
       "        7.15050172e-08, 4.02669884e-09, 6.98291183e-11, 6.81924984e-14,\n",
       "        0.00000000e+00],\n",
       "       [2.09867053e-01, 2.09867053e-01, 2.09867053e-01, 1.18497292e-01,\n",
       "        6.46277505e-02, 3.38947007e-02, 1.70019827e-02, 8.10312868e-03,\n",
       "        3.63941578e-03, 1.52456542e-03, 5.87785966e-04, 2.04948294e-04,\n",
       "        6.31130376e-05, 1.66034987e-05, 3.55411697e-06, 5.74009733e-07,\n",
       "        6.16338257e-08, 3.47081735e-09, 6.01892829e-11, 5.87785966e-14,\n",
       "        0.00000000e+00],\n",
       "       [2.63447396e-01, 2.63447396e-01, 2.63447396e-01, 1.79971341e-01,\n",
       "        1.20137086e-01, 7.81302002e-02, 4.93246616e-02, 3.00953611e-02,\n",
       "        1.76503038e-02, 9.88162673e-03, 5.23452418e-03, 2.59314781e-03,\n",
       "        1.18252534e-03, 4.85509215e-04, 1.73734291e-04, 5.15241187e-05,\n",
       "        1.16397545e-05, 1.71008977e-06, 1.14571654e-07, 1.12774405e-09,\n",
       "        0.00000000e+00],\n",
       "       [2.80302319e-01, 2.80302319e-01, 2.80302319e-01, 2.10624444e-01,\n",
       "        1.55547874e-01, 1.12647216e-01, 7.97818944e-02, 5.50783507e-02,\n",
       "        3.69122396e-02, 2.38906294e-02, 1.48342012e-02, 8.75944748e-03,\n",
       "        4.86087106e-03, 2.49318420e-03, 1.15350749e-03, 4.63568788e-04,\n",
       "        1.51902221e-04, 3.60471090e-05, 4.74694439e-06, 1.48342012e-07,\n",
       "        0.00000000e+00],\n",
       "       [2.79269505e-01, 2.79269505e-01, 2.79269505e-01, 2.22192390e-01,\n",
       "        1.74346577e-01, 1.34678581e-01, 1.02198762e-01, 7.59813321e-02,\n",
       "        5.51643466e-02, 3.89497106e-02, 2.66031764e-02, 1.74543440e-02,\n",
       "        1.08966611e-02, 6.38742266e-03, 3.44777166e-03, 1.66269853e-03,\n",
       "        6.81041316e-04, 2.15485729e-04, 4.25650823e-05, 2.66031764e-06,\n",
       "        0.00000000e+00],\n",
       "       [2.69007723e-01, 2.69007723e-01, 2.69007723e-01, 2.22340956e-01,\n",
       "        1.81658758e-01, 1.46496504e-01, 1.16399161e-01, 9.09217051e-02,\n",
       "        6.96295974e-02, 5.20993152e-02, 3.79189582e-02, 2.66889464e-02,\n",
       "        1.80228314e-02, 1.15482594e-02, 6.90813101e-03, 3.76203714e-03,\n",
       "        1.78809135e-03, 6.85373402e-04, 1.77401130e-04, 1.76004213e-05,\n",
       "        0.00000000e+00],\n",
       "       [2.53769802e-01, 2.53769802e-01, 2.53769802e-01, 2.15533815e-01,\n",
       "        1.81254950e-01, 1.50732815e-01, 1.23765215e-01, 1.00148019e-01,\n",
       "        7.96749974e-02, 6.21376381e-02, 4.73249241e-02, 3.50230722e-02,\n",
       "        2.50152113e-02, 1.70809845e-02, 1.09960411e-02, 6.53136906e-03,\n",
       "        3.45237905e-03, 1.51757671e-03, 4.76466939e-04, 6.57577688e-05,\n",
       "        0.00000000e+00],\n",
       "       [2.35797773e-01, 2.35797773e-01, 2.35797773e-01, 2.04399929e-01,\n",
       "        1.75654141e-01, 1.49481203e-01, 1.25799387e-01, 1.04524192e-01,\n",
       "        8.55680337e-02, 6.88398872e-02, 5.42448406e-02, 4.16835511e-02,\n",
       "        3.10515586e-02, 2.22384000e-02, 1.51264342e-02, 9.58922365e-03,\n",
       "        5.48919192e-03, 2.67400105e-03, 9.70361207e-04, 1.71537247e-04,\n",
       "        0.00000000e+00],\n",
       "       [2.16342978e-01, 2.16342978e-01, 2.16342978e-01, 1.90536983e-01,\n",
       "        1.66521584e-01, 1.44272806e-01, 1.23765482e-01, 1.04973099e-01,\n",
       "        8.78676265e-02, 7.24192988e-02, 5.85963509e-02, 4.63646791e-02,\n",
       "        3.56874064e-02, 2.65243038e-02, 1.88309985e-02, 1.25578423e-02,\n",
       "        7.64820360e-03, 4.03569004e-03, 1.63909413e-03, 3.51275895e-04,\n",
       "        0.00000000e+00],\n",
       "       [1.96134791e-01, 1.96134791e-01, 1.96134791e-01, 1.74947390e-01,\n",
       "        1.54970699e-01, 1.36204716e-01, 1.18649441e-01, 1.02304875e-01,\n",
       "        8.71710180e-02, 7.32478693e-02, 6.05354292e-02, 4.90336976e-02,\n",
       "        3.87426747e-02, 2.96623603e-02, 2.17927545e-02, 1.51338573e-02,\n",
       "        9.68566867e-03, 5.44818863e-03, 2.42141717e-03, 6.05354292e-04,\n",
       "        0.00000000e+00],\n",
       "       [1.75612002e-01, 1.75612002e-01, 1.75612002e-01, 1.58277946e-01,\n",
       "        1.41758663e-01, 1.26063190e-01, 1.11201259e-01, 9.71834022e-02,\n",
       "        8.40210819e-02, 7.17268560e-02, 6.03145883e-02, 4.97997233e-02,\n",
       "        4.01996567e-02, 3.15342452e-02, 2.38265413e-02, 1.71038982e-02,\n",
       "        1.13997435e-02, 6.75668605e-03, 3.23271795e-03, 9.16728112e-04,\n",
       "        0.00000000e+00],\n",
       "       [1.55044254e-01, 1.55044254e-01, 1.55044254e-01, 1.40955828e-01,\n",
       "        1.27409400e-01, 1.14416045e-01, 1.01987801e-01, 9.01378277e-02,\n",
       "        7.88806069e-02, 6.82321897e-02, 5.82105228e-02, 4.88358798e-02,\n",
       "        4.01314463e-02, 3.21241442e-02, 2.48458343e-02, 1.83351658e-02,\n",
       "        1.26406135e-02, 7.82594740e-03, 3.98154376e-03, 1.25410770e-03,\n",
       "        0.00000000e+00],\n",
       "       [1.34599099e-01, 1.34599099e-01, 1.34599099e-01, 1.23268476e-01,\n",
       "        1.12291263e-01, 1.01677498e-01, 9.14381826e-02, 8.15854452e-02,\n",
       "        7.21327558e-02, 6.30951936e-02, 5.44898011e-02, 4.63360580e-02,\n",
       "        3.86565325e-02, 3.14778104e-02, 2.48318716e-02, 1.87582428e-02,\n",
       "        1.33076027e-02, 8.54843048e-03, 4.58117366e-03, 1.57707986e-03,\n",
       "        0.00000000e+00],\n",
       "       [1.14380667e-01, 1.14380667e-01, 1.14380667e-01, 1.05412075e-01,\n",
       "        9.66668560e-02, 8.81528911e-02, 7.98788779e-02, 7.18544776e-02,\n",
       "        6.40905036e-02, 5.65991652e-02, 4.93943891e-02, 4.24922546e-02,\n",
       "        3.59115990e-02, 2.96748891e-02, 2.38095306e-02, 1.83499450e-02,\n",
       "        1.33411078e-02, 8.84520662e-03, 4.95620248e-03, 1.84122215e-03,\n",
       "        0.00000000e+00],\n",
       "       [9.44527586e-02, 9.44527586e-02, 9.44527586e-02, 8.75218592e-02,\n",
       "        8.07256003e-02, 7.40695407e-02, 6.75598516e-02, 6.12034320e-02,\n",
       "        5.50080565e-02, 4.89825684e-02, 4.31371359e-02, 3.74836021e-02,\n",
       "        3.20359757e-02, 2.68111449e-02, 2.18299617e-02, 1.71189837e-02,\n",
       "        1.27134854e-02, 8.66322604e-03, 5.04535002e-03, 2.00224848e-03,\n",
       "        0.00000000e+00],\n",
       "       [7.48530709e-02, 7.48530709e-02, 7.48530709e-02, 6.96915530e-02,\n",
       "        6.46054222e-02, 5.95981892e-02, 5.46737718e-02, 4.98365742e-02,\n",
       "        4.50915899e-02, 4.04445351e-02, 3.59020288e-02, 3.14718395e-02,\n",
       "        2.71632340e-02, 2.29874893e-02, 1.89586781e-02, 1.50949437e-02,\n",
       "        1.14207330e-02, 7.97114224e-03, 4.80182674e-03, 2.01891944e-03,\n",
       "        0.00000000e+00],\n",
       "       [5.56021848e-02, 5.56021848e-02, 5.56021848e-02, 5.19861482e-02,\n",
       "        4.84074737e-02, 4.48680763e-02, 4.13701027e-02, 3.79159782e-02,\n",
       "        3.45084672e-02, 3.11507523e-02, 2.78465414e-02, 2.46002160e-02,\n",
       "        2.14170417e-02, 1.83034797e-02, 1.52676689e-02, 1.23202161e-02,\n",
       "        9.47559623e-03, 6.75491358e-03, 4.19231214e-03, 1.85481532e-03,\n",
       "        0.00000000e+00],\n",
       "       [3.67093643e-02, 3.67093643e-02, 3.67093643e-02, 3.44504663e-02,\n",
       "        3.22062922e-02, 2.99776581e-02, 2.77654829e-02, 2.55708092e-02,\n",
       "        2.33948309e-02, 2.12389293e-02, 1.91047231e-02, 1.69941361e-02,\n",
       "        1.49094957e-02, 1.28536793e-02, 1.08303411e-02, 8.84429000e-03,\n",
       "        6.90216254e-03, 5.01376950e-03, 3.19526888e-03, 1.47920933e-03,\n",
       "        0.00000000e+00],\n",
       "       [1.81763695e-02, 1.81763695e-02, 1.81763695e-02, 1.71150060e-02,\n",
       "        1.60569252e-02, 1.50023213e-02, 1.39514141e-02, 1.29044534e-02,\n",
       "        1.18617270e-02, 1.08235690e-02, 9.79037312e-03, 8.76260962e-03,\n",
       "        7.74085092e-03, 6.72580929e-03, 5.71839622e-03, 4.71982139e-03,\n",
       "        3.73177133e-03, 2.75677019e-03, 1.79904217e-03, 8.67296641e-04,\n",
       "        0.00000000e+00],\n",
       "       [0.00000000e+00, 0.00000000e+00, 0.00000000e+00, 0.00000000e+00,\n",
       "        0.00000000e+00, 0.00000000e+00, 0.00000000e+00, 0.00000000e+00,\n",
       "        0.00000000e+00, 0.00000000e+00, 0.00000000e+00, 0.00000000e+00,\n",
       "        0.00000000e+00, 0.00000000e+00, 0.00000000e+00, 0.00000000e+00,\n",
       "        0.00000000e+00, 0.00000000e+00, 0.00000000e+00, 0.00000000e+00,\n",
       "        0.00000000e+00]])"
      ]
     },
     "execution_count": 79,
     "metadata": {},
     "output_type": "execute_result"
    }
   ],
   "source": [
    "Z"
   ]
  },
  {
   "cell_type": "code",
   "execution_count": null,
   "id": "c082e9c1-d6a6-4ce1-aeb3-f2d86bf03fd8",
   "metadata": {},
   "outputs": [],
   "source": []
  }
 ],
 "metadata": {
  "kernelspec": {
   "display_name": "Python 3 (ipykernel)",
   "language": "python",
   "name": "python3"
  },
  "language_info": {
   "codemirror_mode": {
    "name": "ipython",
    "version": 3
   },
   "file_extension": ".py",
   "mimetype": "text/x-python",
   "name": "python",
   "nbconvert_exporter": "python",
   "pygments_lexer": "ipython3",
   "version": "3.8.9"
  }
 },
 "nbformat": 4,
 "nbformat_minor": 5
}
